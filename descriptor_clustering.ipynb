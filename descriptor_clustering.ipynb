{
 "cells": [
  {
   "cell_type": "markdown",
   "metadata": {},
   "source": [
    "# Clustering chemicals based on their descriptors\n",
    "\n",
    "The scripts bellow use K-Means clustering the classify the merged FEMA-JECFA chemicals based on the merged descriptors obtained in [fema_jecfa_merge](fema_jecfa_merge.ipynb)"
   ]
  },
  {
   "cell_type": "code",
   "execution_count": 1,
   "metadata": {
    "collapsed": true
   },
   "outputs": [],
   "source": [
    "import os.path as path\n",
    "import pickle\n",
    "\n",
    "# Load FEMA database\n",
    "BASE_DATA_PATH = path.join(path.expanduser('~'),\n",
    "                           'Dropbox',\n",
    "                           'bymt',\n",
    "                           'data_dumps',\n",
    "                           'chem_project')\n",
    "\n",
    "merged_chemicals_path = path.join(BASE_DATA_PATH, 'fema_jecfa_merge', 'merged_chemicals.pkl')\n",
    "with open(merged_chemicals_path, 'rb') as f:\n",
    "    merged_chemicals = pickle.load(f)"
   ]
  },
  {
   "cell_type": "markdown",
   "metadata": {},
   "source": [
    "Add unique id numbers to the chemicals in merged list so that I can relate their classification back to their chemical"
   ]
  },
  {
   "cell_type": "code",
   "execution_count": 2,
   "metadata": {
    "collapsed": true
   },
   "outputs": [],
   "source": [
    "from copy import deepcopy\n",
    "\n",
    "def add_id(dicto_list):\n",
    "    \"\"\"\n",
    "    Add unique id numbers to the dictos in dicto_list.\n",
    "    Each id is the index of that dicto in the list.\n",
    "    \"\"\"\n",
    "    new_list = deepcopy(dicto_list)\n",
    "    for i, dicto in enumerate(new_list):\n",
    "        dicto['id'] = i\n",
    "    return new_list"
   ]
  },
  {
   "cell_type": "code",
   "execution_count": 3,
   "metadata": {},
   "outputs": [
    {
     "name": "stdout",
     "output_type": "stream",
     "text": [
      "0\n"
     ]
    }
   ],
   "source": [
    "id_chemicals = add_id(merged_chemicals)\n",
    "print(id_chemicals[0]['id'])"
   ]
  },
  {
   "cell_type": "markdown",
   "metadata": {},
   "source": [
    "Create list of tuples pairing chemical id with its merged descriptors as input for K-means clustering"
   ]
  },
  {
   "cell_type": "code",
   "execution_count": 14,
   "metadata": {
    "collapsed": true
   },
   "outputs": [],
   "source": [
    "def id_descriptor_lists(dicto_list):\n",
    "    \"\"\"\n",
    "    Creates paired lists. One with ids, the other with merged descriptors\n",
    "    \"\"\"\n",
    "    ids, descriptors = [], []\n",
    "    for dicto in dicto_list:\n",
    "        ids.append(dicto['id'])\n",
    "        descriptors.append(dicto['merged descriptors'])\n",
    "    return ids, descriptors"
   ]
  },
  {
   "cell_type": "code",
   "execution_count": 15,
   "metadata": {},
   "outputs": [
    {
     "name": "stdout",
     "output_type": "stream",
     "text": [
      "lengths make sense: True\n"
     ]
    }
   ],
   "source": [
    "ids, descriptors = id_descriptor_lists(id_chemicals)\n",
    "print('lengths make sense: {}' .format(len(descriptors)==len(id_chemicals)))"
   ]
  },
  {
   "cell_type": "code",
   "execution_count": 18,
   "metadata": {},
   "outputs": [
    {
     "name": "stdout",
     "output_type": "stream",
     "text": [
      "(2193, 4543)\n"
     ]
    }
   ],
   "source": [
    "from sklearn.feature_extraction.text import TfidfVectorizer\n",
    "\n",
    "vectorizer = TfidfVectorizer(max_df=0.75, \n",
    "                             stop_words='english',\n",
    "                             norm='l2',\n",
    "                             ngram_range=(1,2))\n",
    "\n",
    "descriptor_vector = vectorizer.fit_transform(descriptors)\n",
    "print(descriptor_vector.shape)"
   ]
  },
  {
   "cell_type": "code",
   "execution_count": null,
   "metadata": {
    "collapsed": true
   },
   "outputs": [],
   "source": [
    "from sklearn.cluster import KMeans\n",
    "\n",
    "km = KMeans(n_clusters=n, init='k-means++',\n",
    "            max_iter=100, n_init=1, verbose=verbose)"
   ]
  }
 ],
 "metadata": {
  "kernelspec": {
   "display_name": "Python 3",
   "language": "python",
   "name": "python3"
  },
  "language_info": {
   "codemirror_mode": {
    "name": "ipython",
    "version": 3
   },
   "file_extension": ".py",
   "mimetype": "text/x-python",
   "name": "python",
   "nbconvert_exporter": "python",
   "pygments_lexer": "ipython3",
   "version": "3.5.3"
  }
 },
 "nbformat": 4,
 "nbformat_minor": 2
}
