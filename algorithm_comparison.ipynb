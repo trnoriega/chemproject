{
 "cells": [
  {
   "cell_type": "markdown",
   "metadata": {},
   "source": [
    "# Algorithm comparison\n",
    "\n",
    "Identify the best machine learning algorithm for predicting what category a chemical from the test set belongs to"
   ]
  },
  {
   "cell_type": "markdown",
   "metadata": {
    "collapsed": true
   },
   "source": [
    "### Get the data  from [property_calculations](property_calculations.ipynb) and preprocess according to [feature_preprocessing](feature_preprocessing.ipynb)"
   ]
  },
  {
   "cell_type": "code",
   "execution_count": 1,
   "metadata": {},
   "outputs": [],
   "source": [
    "import numpy as np\n",
    "import matplotlib.pyplot as plt\n",
    "import os.path as path\n",
    "import pickle\n",
    "\n",
    "# Load property_array from property_calculations FEMA-JECFA database\n",
    "BASE_DATA_PATH = path.join(path.expanduser('~'),\n",
    "                           'Dropbox',\n",
    "                           'bymt',\n",
    "                           'data_dumps',\n",
    "                           'chem_project')\n",
    "\n",
    "dataset_path = path.join(BASE_DATA_PATH,\n",
    "                         'property_calculations',\n",
    "                         'dataset.pkl')\n",
    "\n",
    "with open(dataset_path, 'rb') as f:\n",
    "    dataset = pickle.load(f)\n",
    "    \n",
    "train_features = dataset['train features']\n",
    "train_labels = dataset['train labels']"
   ]
  },
  {
   "cell_type": "markdown",
   "metadata": {},
   "source": [
    "### Test on different classifiers"
   ]
  },
  {
   "cell_type": "code",
   "execution_count": 2,
   "metadata": {},
   "outputs": [],
   "source": [
    "#Scoring function\n",
    "from sklearn.model_selection import cross_val_score, StratifiedKFold\n",
    "from sklearn.metrics import classification_report, accuracy_score,\\\n",
    "                            precision_score, recall_score\n",
    "import scipy.stats as st\n",
    "import warnings\n",
    "\n",
    "def t_delta(percent, scores):\n",
    "    \"\"\"\n",
    "    Returns the size of a t-test error bar that defines a given percent confidence interval \n",
    "    \"\"\"\n",
    "    mean, sem = np.mean(scores), st.sem(scores)\n",
    "    interval = st.t.interval(percent/float(100), len(scores)-1, loc=mean, scale=sem)\n",
    "    delta = mean - interval[0]\n",
    "    return delta\n",
    "\n",
    "\n",
    "def scores(clf,\n",
    "           features, labels,\n",
    "           score_types, \n",
    "           title='estimator', printout=True):\n",
    "    \"\"\"\n",
    "    Generates a dictionary with cross_validation scores  and summary statistics\n",
    "    for a given clf (estimator), features, and labels\n",
    "    \"\"\"\n",
    "    \n",
    "    if printout:\n",
    "        print('\\n{}:' .format(title))\n",
    "    \n",
    "    summary_dict = {title: {}}\n",
    "\n",
    "    cv = StratifiedKFold(n_splits=3, shuffle=True, random_state=41)\n",
    "\n",
    "    for scoring in score_types:\n",
    "        scores = cross_val_score(clf, features, labels, cv=cv, scoring=scoring)\n",
    "        mean =  np.mean(scores)\n",
    "        # t-test 95% confidence interval\n",
    "        delta = t_delta(95, scores)\n",
    "\n",
    "        summary_dict[title][scoring] = (mean, delta)\n",
    "\n",
    "        if printout:\n",
    "            print('-', scoring, scores)\n",
    "            print('Mean: {:.2f} (+/-{:.2f})' .format(mean, delta))\n",
    "\n",
    "    return summary_dict\n",
    "\n",
    "def multi_tester(step_list, clf_list, score_types):\n",
    "    \"\"\"\n",
    "    Runs scores function on all clfs in clf_list.\n",
    "    Preappends the steps in step_list to make a pipeline with clf at the end.\n",
    "    Returns a scores list for each clf and a pipe_dict of all the pipes generated\n",
    "    \"\"\"\n",
    "    pipe_dict = {}\n",
    "    scores_list = []\n",
    "    for clf in clf_list:\n",
    "        new_steps = step_list[:]\n",
    "        new_steps.append(('estimator', clf))\n",
    "        new_pipe = Pipeline(new_steps)\n",
    "        title = str(type(clf))    \n",
    "        title = title.split('.')[-1][:-2]\n",
    "        pipe_dict[title] = new_pipe\n",
    "        scores_list.append(scores(new_pipe, train_features,\n",
    "                                  train_labels, score_types,\n",
    "                                  title=title, printout=False))\n",
    "    return scores_list, pipe_dict"
   ]
  },
  {
   "cell_type": "markdown",
   "metadata": {},
   "source": [
    "Test on Naive Bayes, Support Vector Machines, AdaBoost, Extra Random Forest, Random Forest, and Logistic Regression classifiers"
   ]
  },
  {
   "cell_type": "code",
   "execution_count": 3,
   "metadata": {},
   "outputs": [],
   "source": [
    "from sklearn.preprocessing import Imputer, StandardScaler, PolynomialFeatures\n",
    "from sklearn.feature_selection import SelectPercentile, f_classif\n",
    "\n",
    "from sklearn.naive_bayes import GaussianNB\n",
    "from sklearn.svm import SVC \n",
    "from sklearn.ensemble import RandomForestClassifier, ExtraTreesClassifier, AdaBoostClassifier\n",
    "from sklearn.linear_model import LogisticRegression\n",
    "\n",
    "from sklearn.pipeline import Pipeline\n",
    "\n",
    "steps = [('imputer', Imputer(strategy='mean')),\n",
    "         ('scaler', StandardScaler()),\n",
    "         ('polynomial', PolynomialFeatures(2, include_bias=False)),\n",
    "         ('selector', SelectPercentile(f_classif, percentile=10)),\n",
    "         ('estimator', GaussianNB())]\n",
    "\n",
    "step_list = [('imputer', Imputer(strategy='mean')),\n",
    "         ('scaler', StandardScaler()),\n",
    "         ('polynomial', PolynomialFeatures(2, include_bias=False)),\n",
    "         ('selector', SelectPercentile(f_classif, percentile=10))]\n",
    "\n",
    "clf_list = [GaussianNB(),\n",
    "            SVC(),\n",
    "            AdaBoostClassifier(),\n",
    "            ExtraTreesClassifier(),\n",
    "            RandomForestClassifier(),\n",
    "            LogisticRegression()]\n",
    "\n",
    "score_types = ['accuracy', \n",
    "               'precision_macro',\n",
    "               'recall_macro']\n",
    "\n",
    "with warnings.catch_warnings():\n",
    "    warnings.simplefilter('ignore')\n",
    "    scores_list, pipe_dict = multi_tester(step_list, clf_list, score_types)"
   ]
  },
  {
   "cell_type": "markdown",
   "metadata": {},
   "source": [
    "### Visualize the different algorithm scores testing"
   ]
  },
  {
   "cell_type": "code",
   "execution_count": 4,
   "metadata": {},
   "outputs": [],
   "source": [
    "def initialize_plot_dicto(dicto):\n",
    "    \"\"\"\n",
    "    Initialize a flat plot_dicto with keys from dicto and epmty lists\n",
    "    \"\"\"\n",
    "    og_key = list(dicto.keys())[0]\n",
    "    keys = ['clf'] + list(dicto[og_key].keys())\n",
    "    plot_dicto = {key: [] for key in keys}\n",
    "    return plot_dicto\n",
    "\n",
    "def build_plot_dicto(plot_dicto, scores_list):\n",
    "    \"\"\"\n",
    "    Add values to plot_dicto from scores list\n",
    "    \"\"\"\n",
    "    \n",
    "    for dicto in scores_list:\n",
    "        og_key = list(dicto.keys())[0]\n",
    "        plot_dicto['clf'].append(og_key)\n",
    "        keys = list(plot_dicto.keys())\n",
    "        keys.remove('clf')\n",
    "        for key in keys:\n",
    "            plot_dicto[key].append(dicto[og_key][key])\n",
    "    \n",
    "    return plot_dicto"
   ]
  },
  {
   "cell_type": "code",
   "execution_count": 5,
   "metadata": {},
   "outputs": [
    {
     "name": "stdout",
     "output_type": "stream",
     "text": [
      "plot_dicto = {'precision_macro': [(0.5107500985933533, 0.084658329042625546), (0.55571843544395894, 0.24299057678232139), (0.52388806645439145, 0.060446257788549673), (0.5643874799937173, 0.055154216118116106), (0.56583132358317367, 0.12290207966366135), (0.54487727784783979, 0.084463120537438596)], 'clf': ['GaussianNB', 'SVC', 'AdaBoostClassifier', 'ExtraTreesClassifier', 'RandomForestClassifier', 'LogisticRegression'], 'recall_macro': [(0.55675251566111694, 0.12856423312860116), (0.42290422788325638, 0.0084628313637376551), (0.49961415476620402, 0.049669934604814725), (0.51344632170364413, 0.079276302229189244), (0.48621275532834751, 0.04882003083358194), (0.51001491297928025, 0.093860683924294697)], 'accuracy': [(0.41342785166090573, 0.063782688252627284), (0.69057615820753682, 0.018708430298698842), (0.62734001210771961, 0.076487825237209983), (0.66226883043333917, 0.022573446466275349), (0.67410835758132037, 0.033918735909321818), (0.65040326517858882, 0.040347481955676168)]}\n"
     ]
    }
   ],
   "source": [
    "init_plot_dicto = initialize_plot_dicto(scores_list[0])\n",
    "plot_dicto = build_plot_dicto(init_plot_dicto, scores_list)\n",
    "print('plot_dicto = {}' .format(plot_dicto))"
   ]
  },
  {
   "cell_type": "code",
   "execution_count": 6,
   "metadata": {},
   "outputs": [
    {
     "data": {
      "image/png": "[encoded data removed]",
      "text/plain": [
       "<matplotlib.figure.Figure at 0x10afcd710>"
      ]
     },
     "metadata": {},
     "output_type": "display_data"
    }
   ],
   "source": [
    "clfs = plot_dicto['clf']\n",
    "score_list = list(plot_dicto.keys())\n",
    "score_list.remove('clf')\n",
    "colors = ['#EE3224', '#F78F1E', '#FFC222']\n",
    "\n",
    "pos = list(range(len(clfs)))\n",
    "width = 0.25\n",
    "\n",
    "plt.close('all')\n",
    "fig, ax = plt.subplots(figsize=(10,7))\n",
    "for i, score in enumerate(score_list):\n",
    "    value = plot_dicto[score]\n",
    "    means, stds = zip(*value)\n",
    "    plt.bar([p + width*i for p in pos],\n",
    "            means,\n",
    "            width,\n",
    "            yerr=stds,\n",
    "            alpha=0.5,\n",
    "            color=colors[i],\n",
    "            label=score)\n",
    "\n",
    "ax.set_ylabel('Score')\n",
    "ax.set_title('Unoptimized algorithm scores')\n",
    "ax.set_xticks([p + width for p in pos])\n",
    "ax.set_xticklabels(clfs, rotation=45, horizontalalignment='right')\n",
    "plt.xlim(min(pos)-width, max(pos)+width*4)\n",
    "\n",
    "plt.legend(loc='upper right')\n",
    "plt.grid()\n",
    "plt.show()"
   ]
  },
  {
   "cell_type": "markdown",
   "metadata": {},
   "source": [
    "All unoptimized classifiers seem comparable. I will focus on the Support Vector Machine, AdaBoost and Logistic Regression classifiers because they are the most different from eachother.\n",
    "\n",
    "To find the best one I will exhaustively search all the possible combinations of several hyper-parameters and evaluate them with cross-validation in [parameter_optimization](parameter_optimization.ipynb)."
   ]
  }
 ],
 "metadata": {
  "kernelspec": {
   "display_name": "Python 3",
   "language": "python",
   "name": "python3"
  },
  "language_info": {
   "codemirror_mode": {
    "name": "ipython",
    "version": 3
   },
   "file_extension": ".py",
   "mimetype": "text/x-python",
   "name": "python",
   "nbconvert_exporter": "python",
   "pygments_lexer": "ipython3",
   "version": "3.5.3"
  }
 },
 "nbformat": 4,
 "nbformat_minor": 2
}
