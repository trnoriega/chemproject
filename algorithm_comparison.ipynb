{
 "cells": [
  {
   "cell_type": "markdown",
   "metadata": {},
   "source": [
    "# Algorithm comparison\n",
    "\n",
    "Identify the best machine learning algorithm for predicting what category a chemical from the test set belongs to"
   ]
  },
  {
   "cell_type": "markdown",
   "metadata": {
    "collapsed": true
   },
   "source": [
    "### Get the data  from [property_calculations](property_calculations.ipynb)"
   ]
  },
  {
   "cell_type": "code",
   "execution_count": 1,
   "metadata": {
    "collapsed": true
   },
   "outputs": [],
   "source": [
    "import numpy as np\n",
    "import matplotlib.pyplot as plt\n",
    "import os.path as path\n",
    "import pickle\n",
    "\n",
    "# Load property_array from property_calculations FEMA-JECFA database\n",
    "BASE_DATA_PATH = path.join(path.expanduser('~'),\n",
    "                           'Dropbox',\n",
    "                           'bymt',\n",
    "                           'data_dumps',\n",
    "                           'chem_project')\n",
    "\n",
    "dataset_path = path.join(BASE_DATA_PATH,\n",
    "                         'fp',\n",
    "                         'property_calculations',\n",
    "                         'dataset.pkl')\n",
    "\n",
    "with open(dataset_path, 'rb') as f:\n",
    "    dataset = pickle.load(f)\n",
    "    \n",
    "train_features = dataset['train features']\n",
    "train_labels = dataset['train labels']"
   ]
  },
  {
   "cell_type": "markdown",
   "metadata": {},
   "source": [
    "### Test on different classifiers"
   ]
  },
  {
   "cell_type": "code",
   "execution_count": 14,
   "metadata": {
    "collapsed": true
   },
   "outputs": [],
   "source": [
    "#Scoring function\n",
    "from sklearn.model_selection import cross_val_score, StratifiedKFold\n",
    "from sklearn.metrics import classification_report, accuracy_score,\\\n",
    "                            precision_score, recall_score\n",
    "import scipy.stats as st\n",
    "import warnings\n",
    "\n",
    "def t_delta(percent, scores):\n",
    "    \"\"\"\n",
    "    Returns the size of a t-test error bar that defines a given percent confidence interval \n",
    "    \"\"\"\n",
    "    mean, sem = np.mean(scores), st.sem(scores)\n",
    "    interval = st.t.interval(percent/float(100), len(scores)-1, loc=mean, scale=sem)\n",
    "    delta = mean - interval[0]\n",
    "    return delta\n",
    "\n",
    "\n",
    "def scores(clf,\n",
    "           features, labels,\n",
    "           score_types, \n",
    "           title='estimator', printout=True):\n",
    "    \"\"\"\n",
    "    Generates a dictionary with cross_validation scores  and summary statistics\n",
    "    for a given clf (estimator), features, and labels\n",
    "    \"\"\"\n",
    "    \n",
    "    if printout:\n",
    "        print('\\n{}:' .format(title))\n",
    "    \n",
    "    summary_dict = {title: {}}\n",
    "\n",
    "    cv = StratifiedKFold(n_splits=3, shuffle=True, random_state=41)\n",
    "\n",
    "    for scoring in score_types:\n",
    "        scores = cross_val_score(clf, features, labels, cv=cv, scoring=scoring)\n",
    "        mean =  np.mean(scores)\n",
    "        # t-test 95% confidence interval\n",
    "        delta = t_delta(95, scores)\n",
    "\n",
    "        summary_dict[title][scoring] = (mean, delta)\n",
    "\n",
    "        if printout:\n",
    "            print('-', scoring, scores)\n",
    "            print('Mean: {:.2f} (+/-{:.2f})' .format(mean, delta))\n",
    "\n",
    "    return summary_dict\n",
    "\n",
    "def multi_tester(step_list, clf_list, score_types):\n",
    "    \"\"\"\n",
    "    Runs scores function on all clfs in clf_list.\n",
    "    Preappends the steps in step_list to make a pipeline with clf at the end.\n",
    "    Returns a scores list for each clf and a pipe_dict of all the pipes generated\n",
    "    \"\"\"\n",
    "    pipe_dict = {}\n",
    "    scores_list = []\n",
    "    for clf in clf_list:\n",
    "        new_steps = step_list[:]\n",
    "        new_steps.append(('estimator', clf))\n",
    "        new_pipe = Pipeline(new_steps)\n",
    "        title = str(type(clf))    \n",
    "        title = title.split('.')[-1][:-2]\n",
    "        pipe_dict[title] = new_pipe\n",
    "        scores_list.append(scores(new_pipe, train_features,\n",
    "                                  train_labels, score_types,\n",
    "                                  title=title, printout=True))\n",
    "    return scores_list, pipe_dict"
   ]
  },
  {
   "cell_type": "markdown",
   "metadata": {},
   "source": [
    "Test on Naive Bayes, Support Vector Machines, AdaBoost, Logistic Regression, and Neural Network classifiers"
   ]
  },
  {
   "cell_type": "code",
   "execution_count": 15,
   "metadata": {
    "collapsed": true
   },
   "outputs": [
    {
     "name": "stdout",
     "output_type": "stream",
     "text": [
      "\n",
      "GaussianNB:\n",
      "- precision [ 0.24489796  0.24561404  0.24528302]\n",
      "Mean: 0.25 (+/-0.00)\n",
      "- recall [ 0.1875    0.21875   0.203125]\n",
      "Mean: 0.20 (+/-0.04)\n",
      "\n",
      "MultinomialNB:\n",
      "- precision [ 0.34782609  0.42574257  0.37815126]\n",
      "Mean: 0.38 (+/-0.10)\n",
      "- recall [ 0.625     0.671875  0.703125]\n",
      "Mean: 0.67 (+/-0.10)\n",
      "\n",
      "BernoulliNB:\n",
      "- precision [ 0.31914894  0.39473684  0.32653061]\n",
      "Mean: 0.35 (+/-0.10)\n",
      "- recall [ 0.703125  0.703125  0.75    ]\n",
      "Mean: 0.72 (+/-0.07)\n",
      "\n",
      "SVC:\n",
      "- precision [ 0.  0.  0.]\n",
      "Mean: 0.00 (+/-nan)\n",
      "- recall [ 0.  0.  0.]\n",
      "Mean: 0.00 (+/-nan)\n",
      "\n",
      "AdaBoostClassifier:\n",
      "- precision [ 0.43396226  0.525       0.575     ]\n",
      "Mean: 0.51 (+/-0.18)\n",
      "- recall [ 0.359375  0.328125  0.359375]\n",
      "Mean: 0.35 (+/-0.04)\n",
      "\n",
      "LogisticRegression:\n",
      "- precision [ 0.47058824  0.48611111  0.44927536]\n",
      "Mean: 0.47 (+/-0.05)\n",
      "- recall [ 0.5       0.546875  0.484375]\n",
      "Mean: 0.51 (+/-0.08)\n",
      "\n",
      "MLPClassifier:\n",
      "- precision [ 0.43478261  0.70967742  0.52272727]\n",
      "Mean: 0.56 (+/-0.35)\n",
      "- recall [ 0.375     0.421875  0.359375]\n",
      "Mean: 0.39 (+/-0.08)\n"
     ]
    }
   ],
   "source": [
    "from sklearn.preprocessing import Imputer, MinMaxScaler\n",
    "from sklearn.feature_selection import SelectPercentile, f_classif\n",
    "\n",
    "from sklearn.naive_bayes import GaussianNB, MultinomialNB, BernoulliNB\n",
    "from sklearn.svm import SVC \n",
    "from sklearn.ensemble import RandomForestClassifier, ExtraTreesClassifier, AdaBoostClassifier\n",
    "from sklearn.linear_model import LogisticRegression\n",
    "from sklearn.neural_network import MLPClassifier\n",
    "\n",
    "from sklearn.pipeline import Pipeline\n",
    "\n",
    "step_list = [('imputer', Imputer(strategy='mean')),\n",
    "         ('scaler', MinMaxScaler())]\n",
    "\n",
    "clf_list = [GaussianNB(),\n",
    "            MultinomialNB(),\n",
    "            BernoulliNB(binarize=0.5),\n",
    "            SVC(),\n",
    "            AdaBoostClassifier(),\n",
    "            LogisticRegression(class_weight='balanced'),\n",
    "            MLPClassifier()]\n",
    "\n",
    "score_types = ['precision',\n",
    "               'recall']\n",
    "\n",
    "with warnings.catch_warnings():\n",
    "    warnings.simplefilter('ignore')\n",
    "    scores_list, pipe_dict = multi_tester(step_list, clf_list, score_types)"
   ]
  },
  {
   "cell_type": "markdown",
   "metadata": {},
   "source": [
    "### Visualize the different algorithm scores testing"
   ]
  },
  {
   "cell_type": "code",
   "execution_count": 6,
   "metadata": {
    "collapsed": true
   },
   "outputs": [],
   "source": [
    "def initialize_plot_dicto(dicto):\n",
    "    \"\"\"\n",
    "    Initialize a flat plot_dicto with keys from dicto and epmty lists\n",
    "    \"\"\"\n",
    "    og_key = list(dicto.keys())[0]\n",
    "    keys = ['clf'] + list(dicto[og_key].keys())\n",
    "    plot_dicto = {key: [] for key in keys}\n",
    "    return plot_dicto\n",
    "\n",
    "def build_plot_dicto(plot_dicto, scores_list):\n",
    "    \"\"\"\n",
    "    Add values to plot_dicto from scores list\n",
    "    \"\"\"\n",
    "    \n",
    "    for dicto in scores_list:\n",
    "        og_key = list(dicto.keys())[0]\n",
    "        plot_dicto['clf'].append(og_key)\n",
    "        keys = list(plot_dicto.keys())\n",
    "        keys.remove('clf')\n",
    "        for key in keys:\n",
    "            plot_dicto[key].append(dicto[og_key][key])\n",
    "    \n",
    "    return plot_dicto"
   ]
  },
  {
   "cell_type": "code",
   "execution_count": 16,
   "metadata": {
    "collapsed": true,
    "slideshow": {
     "slide_type": "-"
    }
   },
   "outputs": [
    {
     "name": "stdout",
     "output_type": "stream",
     "text": [
      "{'recall': [(0.203125, 0.038814651747558632), (0.66666666666666663, 0.097681398118920071), (0.71875, 0.067228948904863639), (0.0, nan), (0.34895833333333331, 0.04481929926990913), (0.51041666666666663, 0.080799140824011517), (0.38541666666666669, 0.080799140824011517)], 'clf': ['GaussianNB', 'MultinomialNB', 'BernoulliNB', 'SVC', 'AdaBoostClassifier', 'LogisticRegression', 'MLPClassifier'], 'precision': [(0.24526500437977242, 0.00089025952696780708), (0.38390664057271634, 0.097566482739308957), (0.34680546350679126, 0.10352284627887787), (0.0, nan), (0.51132075471698113, 0.17763325269582014), (0.46865823624135644, 0.045940550363301413), (0.55572910025925448, 0.34874170201114812)]}\n"
     ]
    }
   ],
   "source": [
    "init_plot_dicto = initialize_plot_dicto(scores_list[0])\n",
    "plot_dicto = build_plot_dicto(init_plot_dicto, scores_list)\n",
    "print(plot_dicto)"
   ]
  },
  {
   "cell_type": "code",
   "execution_count": 17,
   "metadata": {},
   "outputs": [
    {
     "data": {
      "image/png": "[encoded data removed]",
      "text/plain": [
       "<matplotlib.figure.Figure at 0x1132edef0>"
      ]
     },
     "metadata": {},
     "output_type": "display_data"
    }
   ],
   "source": [
    "clfs = plot_dicto['clf']\n",
    "score_list = list(plot_dicto.keys())\n",
    "score_list.remove('clf')\n",
    "colors = ['#EE3224', '#F78F1E', '#FFC222']\n",
    "\n",
    "pos = list(range(len(clfs)))\n",
    "width = 0.25\n",
    "\n",
    "plt.close('all')\n",
    "fig, ax = plt.subplots(figsize=(10,7))\n",
    "for i, score in enumerate(score_list):\n",
    "    value = plot_dicto[score]\n",
    "    means, stds = zip(*value)\n",
    "    plt.bar([p + width*i for p in pos],\n",
    "            means,\n",
    "            width,\n",
    "            yerr=stds,\n",
    "            alpha=0.5,\n",
    "            color=colors[i],\n",
    "            label=score)\n",
    "\n",
    "ax.set_ylabel('Score')\n",
    "ax.set_title('Unoptimized algorithm scores')\n",
    "ax.set_xticks([p + width for p in pos])\n",
    "ax.set_xticklabels(clfs, rotation=45, horizontalalignment='right')\n",
    "plt.xlim(min(pos)-width, max(pos)+width*4)\n",
    "\n",
    "plt.legend(loc='upper right')\n",
    "plt.grid()\n",
    "plt.show()"
   ]
  },
  {
   "cell_type": "markdown",
   "metadata": {},
   "source": [
    "### Recall:\n",
    "BernoulliNB and MultinomialNB have by far the best. Will use BernoulliNB because it is slightly better and conceptually it makes sense since most of the fingerprints are binarized.\n",
    "\n",
    "### Precision:\n",
    "I will focus on AdaBoost, Logistic Regression, and Multi-layer Perceptron classifiers for [parameter_optimization](parameter_optimization.ipynb). \n",
    " \n",
    "Support Vector Machines do not yield good results so will drop"
   ]
  }
 ],
 "metadata": {
  "kernelspec": {
   "display_name": "Python 3",
   "language": "python",
   "name": "python3"
  },
  "language_info": {
   "codemirror_mode": {
    "name": "ipython",
    "version": 3
   },
   "file_extension": ".py",
   "mimetype": "text/x-python",
   "name": "python",
   "nbconvert_exporter": "python",
   "pygments_lexer": "ipython3",
   "version": "3.5.3"
  }
 },
 "nbformat": 4,
 "nbformat_minor": 2
}
