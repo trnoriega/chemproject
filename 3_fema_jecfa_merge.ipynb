{
 "cells": [
  {
   "cell_type": "markdown",
   "metadata": {},
   "source": [
    "# Merge FEMA and JECFA datasets\n",
    "\n",
    "Chemical information from the FEMA website was generated in [fema_extraction](fema_extraction.ipynb).\n",
    "Chemical information from the JECFA website was generated in [jecfa_extraction](jecfa_extraction.ipynb). \n",
    "\n",
    "Here the two datasets are merged into a single one, making sure that the merged chemicals are in fact the same."
   ]
  },
  {
   "cell_type": "code",
   "execution_count": 1,
   "metadata": {
    "collapsed": true
   },
   "outputs": [],
   "source": [
    "import os.path as path\n",
    "import pickle\n",
    "from data_paths import BASE_PATH\n",
    "\n",
    "extracted_fema_path = path.join(BASE_PATH, 'fema_extraction', 'extracted_fema.pkl')\n",
    "\n",
    "with open(extracted_fema_path, 'rb') as f:\n",
    "    extracted_fema = pickle.load(f)\n",
    "\n",
    "# Load JECFA database\n",
    "extracted_jecfa_path = path.join(BASE_PATH, 'jecfa_extraction', 'extracted_jecfa.pkl')\n",
    "\n",
    "with open(extracted_jecfa_path, 'rb') as f:\n",
    "    extracted_jecfa = pickle.load(f)\n",
    "    \n",
    "# Data path for things made in this notebook\n",
    "\n",
    "DATA_PATH = path.join(BASE_PATH, 'fema_jecfa_merge')"
   ]
  },
  {
   "cell_type": "code",
   "execution_count": 21,
   "metadata": {
    "collapsed": true
   },
   "outputs": [],
   "source": [
    "from copy import deepcopy\n",
    "\n",
    "def fema_jecfa_merge(fema_d_list, jecfa_d_list):\n",
    "    \"\"\"\n",
    "    Merges the individual chemical dictionaries from the FEMA and JECFA websites.\n",
    "    Merges FEMA info onto JECFA info.\n",
    "    Does not modify original dictionary lists\n",
    "    \"\"\"\n",
    "    # everything will be merged onto the jecfa_c_list\n",
    "    jecfa_c_list = deepcopy(jecfa_d_list)\n",
    "    \n",
    "    fema_c_list = deepcopy(fema_d_list)\n",
    "    overlap = 0\n",
    "    fema_only = 0\n",
    "    jecfa_only = 0\n",
    "    \n",
    "    print('Length before merge: {}' .format(len(jecfa_c_list)))\n",
    "    # Merge all overlapping chemicals\n",
    "    for jecfa_c in jecfa_c_list:\n",
    "        for fema_c in fema_c_list:\n",
    "            if fema_c['fema'] == jecfa_c['fema']:\n",
    "                # Capture the FEMA name under the synonym key if it's different from JECFA\n",
    "                if fema_c['name'] != jecfa_c['name']:\n",
    "                    if jecfa_c['synonym(s)'] == 'NaN':\n",
    "                           jecfa_c['synonym(s)'] = fema_c['name']\n",
    "                    else:\n",
    "                        jecfa_c['synonym(s)'] += ', ' + fema_c['name']\n",
    "                \n",
    "                jecfa_c['fema link'] = fema_c['link']\n",
    "                jecfa_c['jecfa link'] = jecfa_c['link']\n",
    "                del jecfa_c['link']\n",
    "                fema_c['both merge'] = True\n",
    "                \n",
    "                jecfa_c.update(fema_c)\n",
    "                \n",
    "                overlap += 1\n",
    "    \n",
    "    print('Length after overlap merge: {}' .format(len(jecfa_c_list)))\n",
    "    \n",
    "    # Copy non-overlapping FEMA into JECFA\n",
    "    for fema_c in fema_c_list:\n",
    "        if 'both merge' not in fema_c:\n",
    "            fema_c['fema merge'] = True\n",
    "            #make link key name consistent\n",
    "            fema_c['fema link'] = fema_c['link']\n",
    "            del fema_c['link']\n",
    "            # add fema only link to merged list\n",
    "            jecfa_c_list.append(fema_c)\n",
    "            fema_only += 1\n",
    "    \n",
    "    print('Length after overlap and FEMA only merge: {}' .format(len(jecfa_c_list)))\n",
    "    # Count jecfa only\n",
    "    \n",
    "    merges = ['both merge', 'fema merge']\n",
    "    for jecfa_c in jecfa_c_list:\n",
    "        if not any(merge in merges for merge in jecfa_c):\n",
    "            #make link key name consistent\n",
    "            jecfa_c['jecfa link'] = jecfa_c['link']\n",
    "            del jecfa_c['link']\n",
    "            jecfa_c['jecfa merge'] = True\n",
    "            jecfa_only += 1\n",
    "    \n",
    "    print('{} overlaping chemicals, {} FEMA only, {} JECFA only' \n",
    "         .format(overlap, fema_only, jecfa_only))\n",
    "    \n",
    "    expected_length = overlap+fema_only+jecfa_only\n",
    "    \n",
    "    print('Total length: {}, overlap counts indicate it should be: {}' \n",
    "          .format(len(jecfa_c_list), expected_length))\n",
    "    \n",
    "    return jecfa_c_list"
   ]
  },
  {
   "cell_type": "code",
   "execution_count": 22,
   "metadata": {},
   "outputs": [
    {
     "name": "stdout",
     "output_type": "stream",
     "text": [
      "Length before merge: 2183\n",
      "Length after overlap merge: 2183\n",
      "Length after overlap and FEMA only merge: 2833\n",
      "2153 overlaping chemicals, 650 FEMA only, 31 JECFA only\n",
      "Total length: 2833, overlap counts indicate it should be: 2834\n"
     ]
    }
   ],
   "source": [
    "merged_list = fema_jecfa_merge(extracted_fema, extracted_jecfa)"
   ]
  },
  {
   "cell_type": "markdown",
   "metadata": {},
   "source": [
    "Some record is not adding up. Figure it out"
   ]
  },
  {
   "cell_type": "code",
   "execution_count": 23,
   "metadata": {},
   "outputs": [
    {
     "name": "stdout",
     "output_type": "stream",
     "text": [
      "[2152, 650, 31]\n"
     ]
    }
   ],
   "source": [
    "counts = [0, 0, 0]\n",
    "for dicto in merged_list:\n",
    "    if 'both merge' in dicto:\n",
    "        counts[0] += 1\n",
    "    elif 'fema merge' in dicto:\n",
    "        counts [1] += 1\n",
    "    elif 'jecfa merge' in dicto:\n",
    "        counts[2] += 1\n",
    "print(counts)"
   ]
  },
  {
   "cell_type": "markdown",
   "metadata": {},
   "source": [
    "The independent `both merge` count is 2152 although when the merge script says it was 2153, which suggests that some FEMA record got merged twice onto the same JECFA record, which explains why the expected length is 1 more than the actual length. Confirm this:"
   ]
  },
  {
   "cell_type": "code",
   "execution_count": 4,
   "metadata": {},
   "outputs": [
    {
     "name": "stdout",
     "output_type": "stream",
     "text": [
      "3077 is found 2 times in extracted_fema\n",
      "{'link': 'http://www.femaflavor.org/flavor/library/p-tolyl-phenylacetate-0', 'cas': '101-94-0', 'descriptors': 'Floral', 'name': 'p-tolyl phenylacetate', 'fema': 3077, 'stems': 'floral', 'jecfa': '705', 'cfr': '21CFR172.515'}\n",
      "{'link': 'http://www.femaflavor.org/flavor/library/p-tolyl-phenylacetate', 'cas': '101-94-0', 'descriptors': 'Floral', 'name': 'p-tolyl phenylacetate', 'fema': 3077, 'stems': 'floral', 'jecfa': '705', 'cfr': '21CFR172.515'}\n"
     ]
    }
   ],
   "source": [
    "fema_nums = []\n",
    "for dicto in extracted_fema:\n",
    "    fema_nums.append(dicto['fema'])\n",
    "\n",
    "dups = []\n",
    "for num in fema_nums:\n",
    "    count = fema_nums.count(num)\n",
    "    if count > 1:\n",
    "        dups.append((num, count))\n",
    "\n",
    "dups = set(dups)\n",
    "\n",
    "for tup in dups:\n",
    "    print('{} is found {} times in extracted_fema'\n",
    "      .format(tup[0], tup[1]))\n",
    "    for dicto in extracted_fema:\n",
    "        if dicto['fema'] == tup[0]:\n",
    "            print(dicto)"
   ]
  },
  {
   "cell_type": "code",
   "execution_count": 5,
   "metadata": {},
   "outputs": [
    {
     "name": "stdout",
     "output_type": "stream",
     "text": [
      "{'both merge': True, 'solubility in ethanol': 'moderately soluble', 'coe': 236, 'link': 'http://www.femaflavor.org/flavor/library/p-tolyl-phenylacetate', 'jecfa link': 'http://www.femaflavor.org/flavor/library/p-tolyl-phenylacetate-0', 'chemical name': 'p-tolyl phenylacetate', 'boiling point (°c)': '310°', 'acid value max': 1, 'fema': 3077, 'refractive index': 'NaN', 'name': 'p-tolyl phenylacetate', 'molecular weight': 226.27, 'physical form/odour': 'white to off white crystals, faint lily, hyacinth, narcissus odour', 'flavis': 'NaN', 'chemical formula': 'c15h14o2', 'other requirements': 'mp: 71° (minimum)', 'jecfa': '705', 'fema link': 'http://www.femaflavor.org/flavor/library/p-tolyl-phenylacetate', 'cas': '101-94-0', 'descriptors': 'Floral', 'synonym(s)': 'p-cresyl phenylacetate;p-cresyl alpha-toluate;narcissin;p-tolyl alpha-toluate', 'cfr': '21CFR172.515', 'solubility': 'insoluble in water', 'stems': 'floral', 'specific gravity': 'NaN'}\n"
     ]
    }
   ],
   "source": [
    "for dicto in merged_list:\n",
    "    if dicto['fema'] == 3077:\n",
    "        print(dicto)"
   ]
  },
  {
   "cell_type": "markdown",
   "metadata": {},
   "source": [
    "FEMA chemical 3077 was merged twice, but that does not seem to affect the quality of the record, so will leave as is.\n",
    "\n",
    "Merge the FEMA `stems` with the JECFA `odor`, into `merged descriptors` which can be used for downstream clustering:"
   ]
  },
  {
   "cell_type": "code",
   "execution_count": 48,
   "metadata": {
    "collapsed": true
   },
   "outputs": [],
   "source": [
    "def merge_descriptors(merged_list):\n",
    "    \"\"\"\n",
    "    Returns a new dictionaty list with the FEMA 'stems' merged with the JECFA 'odor' values\n",
    "    into 'merged descriptors'\n",
    "    Removes commas from the stems\n",
    "    \"\"\"\n",
    "    count = 0 #To keep track of chemicals that don't have any useful descriptors\n",
    "    cop = deepcopy(merged_list)\n",
    "    for dicto in cop:\n",
    "        stems = dicto.get('stems', '')\n",
    "        stems = stems.replace(',', '')\n",
    "        merge = stems + ' ' + dicto.get('odor', '')\n",
    "        merge = merge.strip()\n",
    "        if merge:\n",
    "            dicto['merged descriptors'] = merge\n",
    "        else:\n",
    "            count += 1\n",
    "    return cop, count"
   ]
  },
  {
   "cell_type": "code",
   "execution_count": 49,
   "metadata": {
    "collapsed": true
   },
   "outputs": [],
   "source": [
    "merged_list, useless = merge_descriptors(merged_list)"
   ]
  },
  {
   "cell_type": "code",
   "execution_count": 51,
   "metadata": {},
   "outputs": [
    {
     "name": "stdout",
     "output_type": "stream",
     "text": [
      "Number of chemicals with no useful descriptors: 640\n"
     ]
    }
   ],
   "source": [
    "print('Number of chemicals with no useful descriptors: {}' .format(useless))"
   ]
  },
  {
   "cell_type": "markdown",
   "metadata": {},
   "source": [
    "Remove chemicals with no useful descriptors so they don't bog down downstream analysis"
   ]
  },
  {
   "cell_type": "code",
   "execution_count": 52,
   "metadata": {
    "collapsed": true
   },
   "outputs": [],
   "source": [
    "def remove_useless(dicto_list):\n",
    "    \"\"\"\n",
    "    Returns a new dicto_list without the dictos missing a 'merged descriptors' key\n",
    "    \"\"\"\n",
    "    new_list = []\n",
    "    for dicto in dicto_list:\n",
    "        if 'merged descriptors' in dicto:\n",
    "            new_list.append(dicto)\n",
    "    return new_list"
   ]
  },
  {
   "cell_type": "code",
   "execution_count": 53,
   "metadata": {},
   "outputs": [
    {
     "name": "stdout",
     "output_type": "stream",
     "text": [
      "Lengths make sense: True\n"
     ]
    }
   ],
   "source": [
    "useful_chemicals = remove_useless(merged_list)\n",
    "print('Lengths make sense: {}' .format(len(useful_chemicals) == len(merged_list) - useless))"
   ]
  },
  {
   "cell_type": "markdown",
   "metadata": {},
   "source": [
    "Save the list of useful chemicals:"
   ]
  },
  {
   "cell_type": "code",
   "execution_count": 54,
   "metadata": {
    "collapsed": true
   },
   "outputs": [],
   "source": [
    "merged_chemicals_path = path.join(DATA_PATH, 'merged_chemicals.pkl')\n",
    "with open(merged_chemicals_path, 'wb') as f:\n",
    "    pickle.dump(useful_chemicals, f, protocol=pickle.HIGHEST_PROTOCOL)"
   ]
  }
 ],
 "metadata": {
  "kernelspec": {
   "display_name": "Python 3",
   "language": "python",
   "name": "python3"
  },
  "language_info": {
   "codemirror_mode": {
    "name": "ipython",
    "version": 3
   },
   "file_extension": ".py",
   "mimetype": "text/x-python",
   "name": "python",
   "nbconvert_exporter": "python",
   "pygments_lexer": "ipython3",
   "version": "3.6.2"
  }
 },
 "nbformat": 4,
 "nbformat_minor": 2
}
