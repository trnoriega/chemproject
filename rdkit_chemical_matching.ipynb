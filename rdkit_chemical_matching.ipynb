{
 "cells": [
  {
   "cell_type": "markdown",
   "metadata": {},
   "source": [
    "# Matching the chemicals found on the FEMA and JECFA websites with rdkit chemical representations"
   ]
  },
  {
   "cell_type": "code",
   "execution_count": 1,
   "metadata": {
    "collapsed": true
   },
   "outputs": [],
   "source": [
    "import os.path as path\n",
    "import pickle\n",
    "\n",
    "# Load merged FEMA-JECFA database\n",
    "BASE_DATA_PATH = path.join(path.expanduser('~'),\n",
    "                           'Dropbox',\n",
    "                           'bymt',\n",
    "                           'data_dumps',\n",
    "                           'chem_project')\n",
    "\n",
    "merged_chemicals_path = path.join(BASE_DATA_PATH, 'fema_jecfa_merge', 'merged_chemicals.pkl')\n",
    "with open(merged_chemicals_path, 'rb') as f:\n",
    "    merged_chemicals = pickle.load(f)"
   ]
  },
  {
   "cell_type": "code",
   "execution_count": 3,
   "metadata": {
    "collapsed": true
   },
   "outputs": [],
   "source": [
    "from chemspipy import ChemSpider\n",
    "cs = ChemSpider('0201ba66-585d-4135-9e6b-d28ba4724fcf')\n",
    "from rdkit import Chem\n",
    "from rdkit.Chem import Descriptors\n",
    "from inspect import getmembers, isfunction"
   ]
  },
  {
   "cell_type": "code",
   "execution_count": 2,
   "metadata": {},
   "outputs": [
    {
     "data": {
      "text/plain": [
       "{'acid value max': 'NaN',\n",
       " 'boiling point (°c)': 'NaN',\n",
       " 'both merge': True,\n",
       " 'cas': '77-53-2',\n",
       " 'chemical formula': 'c15h26o',\n",
       " 'chemical name': '(3r,3as,6r,7r,8as)-3,6,8,8-tetramethyloctahydro-1h-3a,7-methanoazulen-6-ol',\n",
       " 'coe': 'NaN',\n",
       " 'fema': 4503,\n",
       " 'fema link': 'http://www.femaflavor.org/flavor/library/cedrol',\n",
       " 'flavis': 2.12,\n",
       " 'jecfa': '2030',\n",
       " 'jecfa link': 'http://www.fao.org/food/food-safety-quality/scientific-advice/jecfa/jecfa-flav/details/en/c/2008/',\n",
       " 'link': 'http://www.femaflavor.org/flavor/library/cedrol',\n",
       " 'merged descriptors': 'sweet fruiti cedar like aroma',\n",
       " 'molecular weight': 222.37,\n",
       " 'name': '(+)-cedrol',\n",
       " 'odor': 'sweet fruiti cedar like aroma',\n",
       " 'other requirements': 'm.p. = 74-77°',\n",
       " 'physical': 'pale yellow to yellow green solid',\n",
       " 'physical form/odour': 'pale yellow to yellow green solid; sweet fruity cedar-like aroma',\n",
       " 'refractive index': 'NaN',\n",
       " 'solubility': 'slightly soluble in water',\n",
       " 'solubility in ethanol': 'soluble',\n",
       " 'specific gravity': 'NaN',\n",
       " 'synonym(s)': '8-beta, h-cedran-8-ol'}"
      ]
     },
     "execution_count": 2,
     "metadata": {},
     "output_type": "execute_result"
    }
   ],
   "source": [
    "merged_chemicals[0]"
   ]
  },
  {
   "cell_type": "code",
   "execution_count": 11,
   "metadata": {
    "collapsed": true
   },
   "outputs": [],
   "source": [
    "results = cs.search('cas 77-53-2')"
   ]
  },
  {
   "cell_type": "code",
   "execution_count": 16,
   "metadata": {},
   "outputs": [
    {
     "name": "stdout",
     "output_type": "stream",
     "text": [
      "True\n"
     ]
    }
   ],
   "source": [
    "for chemical in results:\n",
    "    print(round(chemical.molecular_weight,2) == merged_chemicals[0]['molecular weight'])"
   ]
  },
  {
   "cell_type": "code",
   "execution_count": 38,
   "metadata": {},
   "outputs": [],
   "source": [
    "def same_chemical(results):\n",
    "    '''\n",
    "    returns an rdkit chemical object if a the chemicals in a chemspipy result list have:\n",
    "    -the same molecular weight, and\n",
    "    -the same smiles representation\n",
    "    returns None otherwise\n",
    "    '''\n",
    "    if results.count == 0:\n",
    "        return None\n",
    "\n",
    "    smiles = []\n",
    "    mws = []\n",
    "\n",
    "    if results.count >= 1:\n",
    "        for chemical in results:\n",
    "            try:\n",
    "                smiles_base = chemical.smiles\n",
    "                chem_base = Chem.MolFromSmiles(smiles_base)\n",
    "\n",
    "                smiles_temp = Chem.MolToSmiles(chem_base)\n",
    "                smiles.append(smiles_temp)\n",
    "\n",
    "                mw_temp = Chem.Descriptors.MolWt(chem_base)\n",
    "                mws.append(mw_temp)\n",
    "            except:\n",
    "                continue\n",
    "\n",
    "        if (len(set(smiles)) == 1 and\n",
    "                len(set(mws)) == 1):\n",
    "            return Chem.MolFromSmiles(Chem.MolToSmiles(chem_base)), chemical.csid\n",
    "\n",
    "    else:\n",
    "        return None, None\n",
    "\n",
    "def chem_search(dicto):\n",
    "    '''\n",
    "    returns an rdkit molecule and its chemspider id \n",
    "    after searching the chemspider database based on the items\n",
    "    in the priority list.\n",
    "    '''\n",
    "    priority_list = ['fema', 'jecfa', 'cas', 'name']\n",
    "    \n",
    "    for string in priority_list:\n",
    "        try:\n",
    "            val = dicto.get(string)\n",
    "            val = str(val)\n",
    "        except AttributeError:\n",
    "            continue\n",
    "            \n",
    "        if val :\n",
    "            search_string = string + ' ' + val\n",
    "            #print('searching for: {}' .format(search_string))\n",
    "            results = cs.search(search_string)\n",
    "            #print('stopped searching')\n",
    "            if same_chemical(results):\n",
    "                return same_chemical(results)\n",
    "            else:\n",
    "                continue\n",
    "    return None, None"
   ]
  },
  {
   "cell_type": "code",
   "execution_count": 41,
   "metadata": {},
   "outputs": [],
   "source": [
    "from copy import deepcopy\n",
    "\n",
    "def rdkit_pairer(dicto_list):\n",
    "    new_list = deepcopy(dicto_list)\n",
    "    for dicto in new_list:\n",
    "        rd, csid = chem_search(dicto)\n",
    "        if rd:\n",
    "            dicto['rdkit mol'] = rd\n",
    "            dicto['csid'] = csid\n",
    "        else:\n",
    "            print('{} failed' .format(dicto['name']))\n",
    "    return new_list"
   ]
  },
  {
   "cell_type": "code",
   "execution_count": 42,
   "metadata": {},
   "outputs": [],
   "source": [
    "test = rdkit_pairer([merged_chemicals[0]])"
   ]
  },
  {
   "cell_type": "code",
   "execution_count": 43,
   "metadata": {},
   "outputs": [
    {
     "data": {
      "text/plain": [
       "[{'acid value max': 'NaN',\n",
       "  'boiling point (°c)': 'NaN',\n",
       "  'both merge': True,\n",
       "  'cas': '77-53-2',\n",
       "  'chemical formula': 'c15h26o',\n",
       "  'chemical name': '(3r,3as,6r,7r,8as)-3,6,8,8-tetramethyloctahydro-1h-3a,7-methanoazulen-6-ol',\n",
       "  'coe': 'NaN',\n",
       "  'csid': 59018,\n",
       "  'fema': 4503,\n",
       "  'fema link': 'http://www.femaflavor.org/flavor/library/cedrol',\n",
       "  'flavis': 2.12,\n",
       "  'jecfa': '2030',\n",
       "  'jecfa link': 'http://www.fao.org/food/food-safety-quality/scientific-advice/jecfa/jecfa-flav/details/en/c/2008/',\n",
       "  'link': 'http://www.femaflavor.org/flavor/library/cedrol',\n",
       "  'merged descriptors': 'sweet fruiti cedar like aroma',\n",
       "  'molecular weight': 222.37,\n",
       "  'name': '(+)-cedrol',\n",
       "  'odor': 'sweet fruiti cedar like aroma',\n",
       "  'other requirements': 'm.p. = 74-77°',\n",
       "  'physical': 'pale yellow to yellow green solid',\n",
       "  'physical form/odour': 'pale yellow to yellow green solid; sweet fruity cedar-like aroma',\n",
       "  'rdkit mol': <rdkit.Chem.rdchem.Mol at 0x10d21f7b0>,\n",
       "  'refractive index': 'NaN',\n",
       "  'solubility': 'slightly soluble in water',\n",
       "  'solubility in ethanol': 'soluble',\n",
       "  'specific gravity': 'NaN',\n",
       "  'synonym(s)': '8-beta, h-cedran-8-ol'}]"
      ]
     },
     "execution_count": 43,
     "metadata": {},
     "output_type": "execute_result"
    }
   ],
   "source": [
    "test"
   ]
  },
  {
   "cell_type": "code",
   "execution_count": 31,
   "metadata": {},
   "outputs": [
    {
     "name": "stdout",
     "output_type": "stream",
     "text": [
      "(+)-Cedrol\n"
     ]
    }
   ],
   "source": [
    "search = cs.search(test_csid)\n",
    "for chemical in search:\n",
    "    print(chemical.common_name)"
   ]
  },
  {
   "cell_type": "code",
   "execution_count": null,
   "metadata": {
    "collapsed": true
   },
   "outputs": [],
   "source": []
  }
 ],
 "metadata": {
  "kernelspec": {
   "display_name": "Python 3",
   "language": "python",
   "name": "python3"
  },
  "language_info": {
   "codemirror_mode": {
    "name": "ipython",
    "version": 3
   },
   "file_extension": ".py",
   "mimetype": "text/x-python",
   "name": "python",
   "nbconvert_exporter": "python",
   "pygments_lexer": "ipython3",
   "version": "3.5.3"
  }
 },
 "nbformat": 4,
 "nbformat_minor": 2
}
