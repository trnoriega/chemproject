{
 "cells": [
  {
   "cell_type": "markdown",
   "metadata": {},
   "source": [
    "# Matching the chemicals found on the FEMA and JECFA websites with rdkit chemical representations"
   ]
  },
  {
   "cell_type": "code",
   "execution_count": 2,
   "metadata": {
    "collapsed": true
   },
   "outputs": [],
   "source": [
    "import os.path as path\n",
    "import pickle\n",
    "\n",
    "# Load merged FEMA-JECFA database\n",
    "BASE_DATA_PATH = path.join(path.expanduser('~'),\n",
    "                           'Dropbox',\n",
    "                           'bymt',\n",
    "                           'data_dumps',\n",
    "                           'chem_project')\n",
    "\n",
    "merged_chemicals_path = path.join(BASE_DATA_PATH, 'fema_jecfa_merge', 'merged_chemicals.pkl')\n",
    "with open(merged_chemicals_path, 'rb') as f:\n",
    "    merged_chemicals = pickle.load(f)"
   ]
  },
  {
   "cell_type": "code",
   "execution_count": 3,
   "metadata": {
    "collapsed": true
   },
   "outputs": [],
   "source": [
    "from chemspipy import ChemSpider\n",
    "cs = ChemSpider('0201ba66-585d-4135-9e6b-d28ba4724fcf')\n",
    "from rdkit import Chem\n",
    "from rdkit.Chem import Descriptors\n",
    "from inspect import getmembers, isfunction"
   ]
  },
  {
   "cell_type": "code",
   "execution_count": 15,
   "metadata": {
    "collapsed": true
   },
   "outputs": [],
   "source": [
    "def same_chemical(results, mw):\n",
    "    '''\n",
    "    returns an rdkit chemical object if a the chemicals in a chemspipy result list have:\n",
    "    -the same molecular weight, and\n",
    "    -the same smiles representation\n",
    "    returns None otherwise\n",
    "    '''\n",
    "    if results.count == 0:\n",
    "        return None, None\n",
    "\n",
    "    smiles = []\n",
    "    mws = []\n",
    "\n",
    "    if results.count >= 1:\n",
    "        for chemical in results:\n",
    "            try:\n",
    "                test1_mw = chemical.molecular_weight\n",
    "                test1_mw = round(test1_mw, 1)\n",
    "                smiles_base = chemical.smiles\n",
    "                chem_base = Chem.MolFromSmiles(smiles_base)\n",
    "                test2_mw = Chem.Descriptors.MolWt(chem_base)\n",
    "                test2_mw = round(test2_mw, 1)\n",
    "#                 print('Test1: {}, Test2: {}' .format(test1_mw, test2_mw))                \n",
    "                if (mw == test1_mw and\n",
    "                   test1_mw == test2_mw):\n",
    "#                     print('Matched MWs')\n",
    "                    return chem_base, chemical.csid                \n",
    "                # If no mw is known determines if the results are internally consistent\n",
    "                # If they are, it returns one of them\n",
    "                if not mw:\n",
    "                    smiles_temp = Chem.MolToSmiles(chem_base)\n",
    "                    smiles.append(smiles_temp)\n",
    "                    mw_temp = Chem.Descriptors.MolWt(chem_base)\n",
    "                    mws.append(mw_temp)\n",
    "                    if (len(set(smiles)) == 1 and\n",
    "                    len(set(mws)) == 1):\n",
    "#                         print('All results internally consistent, but no mw match')\n",
    "                        return chem_base, chemical.csid           \n",
    "            except:\n",
    "                print(' MW EX', end=' ')\n",
    "                continue\n",
    "        else:\n",
    "            return None, None    \n",
    "    else:\n",
    "        return None, None\n",
    "\n",
    "def chem_search(dicto):\n",
    "    '''\n",
    "    returns an rdkit molecule and its chemspider id \n",
    "    after searching the chemspider database based on the items\n",
    "    in the priority list.\n",
    "    '''\n",
    "    priority_list = ['fema', 'jecfa', 'cas', 'name']\n",
    "    \n",
    "    for string in priority_list:\n",
    "        try:\n",
    "            val = dicto.get(string)\n",
    "            val = str(val)\n",
    "        except AttributeError:\n",
    "            continue\n",
    "            \n",
    "        if val :\n",
    "            search_string = string + ' ' + val\n",
    "#             print('searching for: {}' .format(search_string))\n",
    "            results = cs.search(search_string)\n",
    "            try:\n",
    "                mw = dicto.get('molecular weight')\n",
    "                mw = round(mw, 1)\n",
    "            except TypeError:\n",
    "                mw = None                \n",
    "#             print('stopped searching')\n",
    "#             print('real MW: {}' .format(mw))\n",
    "            rd, csid = same_chemical(results, mw)\n",
    "            if rd:\n",
    "                return rd, csid\n",
    "            else:\n",
    "                continue\n",
    "    return None, None"
   ]
  },
  {
   "cell_type": "code",
   "execution_count": 25,
   "metadata": {
    "collapsed": true
   },
   "outputs": [],
   "source": [
    "from copy import deepcopy\n",
    "\n",
    "def rdkit_printed_pairer(dicto_list):\n",
    "    \"\"\"\n",
    "    Applies chem_search function to a list of individual chemical dictionaries.\n",
    "    Displays a readout so that progress is known.\n",
    "    \"\"\"\n",
    "    new_list = deepcopy(dicto_list)\n",
    "    \n",
    "    # Part of percentage display\n",
    "    count = 0\n",
    "    total = len(dicto_list)\n",
    "    last_displayed = 0\n",
    "    \n",
    "    for dicto in new_list:\n",
    "        rd, csid = chem_search(dicto)\n",
    "        if rd:\n",
    "            dicto['rdkit mol'] = rd\n",
    "            dicto['csid'] = csid\n",
    "        else:\n",
    "            print(' {} failed' .format(dicto['name']), end=' ')\n",
    "        \n",
    "        # This noise is all about a nice display with percentage completed\n",
    "        count += 1\n",
    "        val = round((count / total) * 100)\n",
    "        if (val % 5 == 0 and\n",
    "            val != last_displayed):\n",
    "            print('{:2.0f}%' .format(val), end = '.')\n",
    "        else:\n",
    "            print('.', end='')\n",
    "        last_displayed = val\n",
    "        \n",
    "    return new_list"
   ]
  },
  {
   "cell_type": "code",
   "execution_count": 27,
   "metadata": {},
   "outputs": [
    {
     "name": "stdout",
     "output_type": "stream",
     "text": [
      "........20%.........40%.........60%.........80%.........100%."
     ]
    }
   ],
   "source": [
    "rdkit_list = rdkit_printed_pairer(test_list)"
   ]
  }
 ],
 "metadata": {
  "kernelspec": {
   "display_name": "Python 3",
   "language": "python",
   "name": "python3"
  },
  "language_info": {
   "codemirror_mode": {
    "name": "ipython",
    "version": 3
   },
   "file_extension": ".py",
   "mimetype": "text/x-python",
   "name": "python",
   "nbconvert_exporter": "python",
   "pygments_lexer": "ipython3",
   "version": "3.5.3"
  }
 },
 "nbformat": 4,
 "nbformat_minor": 2
}
