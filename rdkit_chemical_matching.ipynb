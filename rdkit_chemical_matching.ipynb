{
 "cells": [
  {
   "cell_type": "markdown",
   "metadata": {},
   "source": [
    "# Matching the chemicals found on the FEMA and JECFA websites with rdkit chemical representations\n",
    "\n",
    "The [RDkit](http://www.rdkit.org/docs/Overview.html) is a chemical informatics toolkit. It allows for the calculation of chemical descriptors which can then be used as features for machine learning tasks. \n",
    "\n",
    "The scripts found here pairs each chemical of the merged FEMA and JECFA database created in [fema_jecfa_merge](fema_jecfa_merge.ipynb) with its RDkit representation. This will allow for the calculation of descriptor features for downstream machine learning tasks."
   ]
  },
  {
   "cell_type": "code",
   "execution_count": 28,
   "metadata": {
    "collapsed": true
   },
   "outputs": [],
   "source": [
    "import os.path as path\n",
    "import pickle\n",
    "\n",
    "# Load merged FEMA-JECFA database\n",
    "BASE_DATA_PATH = path.join(path.expanduser('~'),\n",
    "                           'Dropbox',\n",
    "                           'bymt',\n",
    "                           'data_dumps',\n",
    "                           'chem_project')\n",
    "\n",
    "merged_chemicals_path = path.join(BASE_DATA_PATH, 'fema_jecfa_merge', 'merged_chemicals.pkl')\n",
    "with open(merged_chemicals_path, 'rb') as f:\n",
    "    merged_chemicals = pickle.load(f)\n",
    "\n",
    "DATA_PATH = path.join(BASE_DATA_PATH, 'rdkit_chemical_matching')"
   ]
  },
  {
   "cell_type": "markdown",
   "metadata": {},
   "source": [
    "RDKit does not allow for searches based on chemical nomenclature. Instead less ambiguous chemical representations such as [SMILES](https://en.wikipedia.org/wiki/Simplified_molecular-input_line-entry_system) are used. To find the correct RDkit representation of the chemicals found in `merged_chemicals` these scripts use the chemspipy Python wrapper to interact with the [ChemSpider database](http://www.chemspider.com/). This database then allows for the calculation of the molecular weight and SMILES chemical representation of the molecules under consideration. With these two unambigous identifiers an RDkit molecule can be paired."
   ]
  },
  {
   "cell_type": "code",
   "execution_count": 3,
   "metadata": {
    "collapsed": true
   },
   "outputs": [],
   "source": [
    "from chemspipy import ChemSpider\n",
    "cs = ChemSpider('0201ba66-585d-4135-9e6b-d28ba4724fcf')\n",
    "from rdkit import Chem\n",
    "from rdkit.Chem import Descriptors\n",
    "from inspect import getmembers, isfunction"
   ]
  },
  {
   "cell_type": "code",
   "execution_count": null,
   "metadata": {
    "collapsed": true
   },
   "outputs": [],
   "source": [
    "def same_chemical(results, mw):\n",
    "    '''\n",
    "    returns an rdkit chemical object if the chemicals in a chemspipy result list have:\n",
    "    -the same molecular weight as the one given as 'mw' input\n",
    "    -the same smiles representation as the chemspy results\n",
    "    returns None otherwise\n",
    "    '''\n",
    "    if results.count == 0:\n",
    "        return None, None\n",
    "\n",
    "    smiles = []\n",
    "    mws = []\n",
    "\n",
    "    if results.count >= 1:\n",
    "        for chemical in results:\n",
    "            try:\n",
    "                test1_mw = chemical.molecular_weight\n",
    "                test1_mw = round(test1_mw)\n",
    "                smiles_base = chemical.smiles\n",
    "                chem_base = Chem.MolFromSmiles(smiles_base)\n",
    "                test2_mw = Chem.Descriptors.MolWt(chem_base)\n",
    "                test2_mw = round(test2_mw)\n",
    "#                 print('Test1: {}, Test2: {}' .format(test1_mw, test2_mw))                \n",
    "                if (mw == test1_mw and\n",
    "                   test1_mw == test2_mw):\n",
    "#                     print('Matched MWs')\n",
    "                    return chem_base, chemical.csid                \n",
    "                # If no mw is known determines if the results are internally consistent\n",
    "                # If they are, it returns one of them\n",
    "                if not mw:\n",
    "                    smiles_temp = Chem.MolToSmiles(chem_base)\n",
    "                    smiles.append(smiles_temp)\n",
    "                    mw_temp = Chem.Descriptors.MolWt(chem_base)\n",
    "                    mws.append(mw_temp)\n",
    "                    if (len(set(smiles)) == 1 and\n",
    "                    len(set(mws)) == 1):\n",
    "#                         print('All results internally consistent, but no mw match')\n",
    "                        return chem_base, chemical.csid           \n",
    "            except:\n",
    "                print(' MW EX', end=' ')\n",
    "                continue\n",
    "        else:\n",
    "            return None, None    \n",
    "    else:\n",
    "        return None, None"
   ]
  },
  {
   "cell_type": "code",
   "execution_count": 52,
   "metadata": {
    "collapsed": true
   },
   "outputs": [],
   "source": [
    "def chem_search(dicto):\n",
    "    '''\n",
    "    returns an rdkit molecule and its chemspider id \n",
    "    after searching the chemspider database based on the items\n",
    "    in the priority list.\n",
    "    '''\n",
    "    priority_list = [('fema', 'fema '),\n",
    "                     ('jecfa', 'jecfa '), \n",
    "                     ('cas', ''),\n",
    "                     ('name', ''),\n",
    "                     ('chemical name', '')]\n",
    "    \n",
    "    for tup in priority_list:\n",
    "        try:\n",
    "            val = dicto.get(tup[0])\n",
    "            val = str(val)\n",
    "        except AttributeError:\n",
    "            continue\n",
    "            \n",
    "        if val :\n",
    "            search_string = tup[1] + val\n",
    "#             print('searching for: {}' .format(search_string))\n",
    "            results = cs.search(search_string)\n",
    "            try:\n",
    "                mw = dicto.get('molecular weight')\n",
    "                mw = round(mw)\n",
    "            except TypeError:\n",
    "                mw = None                \n",
    "#             print('stopped searching')\n",
    "#             print('real MW: {}' .format(mw))\n",
    "            rd, csid = same_chemical(results, mw)\n",
    "            if rd:\n",
    "                return rd, csid\n",
    "            else:\n",
    "                continue\n",
    "    return None, None"
   ]
  },
  {
   "cell_type": "code",
   "execution_count": 29,
   "metadata": {
    "collapsed": true
   },
   "outputs": [],
   "source": [
    "from copy import deepcopy\n",
    "\n",
    "def rdkit_printed_pairer(dicto_list):\n",
    "    \"\"\"\n",
    "    Applies chem_search function to a list of individual chemical dictionaries.\n",
    "    Displays a readout so that progress is known.\n",
    "    \"\"\"\n",
    "    new_list = deepcopy(dicto_list)\n",
    "    \n",
    "    # Part of percentage display\n",
    "    count = 0\n",
    "    total = len(dicto_list)\n",
    "    last_displayed = 0\n",
    "    \n",
    "    for dicto in new_list:\n",
    "        rd, csid = chem_search(dicto)\n",
    "        if rd:\n",
    "            dicto['rdkit mol'] = rd\n",
    "            dicto['csid'] = csid\n",
    "        else:\n",
    "            print(' {} failed' .format(dicto['name']), end=' ')\n",
    "        \n",
    "        # This noise is all about a nice display with percentage completed\n",
    "        count += 1\n",
    "        val = round((count / total) * 100)\n",
    "        if (val % 5 == 0 and\n",
    "            val != last_displayed):\n",
    "            print('{:2.0f}%' .format(val), end = '.')\n",
    "        else:\n",
    "            print('.', end='')\n",
    "        last_displayed = val\n",
    "        \n",
    "    return new_list"
   ]
  },
  {
   "cell_type": "code",
   "execution_count": 36,
   "metadata": {},
   "outputs": [],
   "source": [
    "import pickle\n",
    "\n",
    "def match_chunker(chunkable, filename='rdkit_chemicals.pkl', splits=10, chunk_list=None):\n",
    "    \"\"\"\n",
    "    Splits the matching of individual chemical information into separate chunks.\n",
    "    As each chunk is completed it is saved into an updated pickle file. \n",
    "    chunk_list can specify particular chunks to be processed. \n",
    "    \"\"\"\n",
    "    \n",
    "    total = len(chunkable)\n",
    "    \n",
    "    # determine chunk size\n",
    "    chunk_size, mod = total//(splits), total%splits\n",
    "    if mod != 0:\n",
    "        chunk_size = total//(splits-1)\n",
    "        mod = total%chunk_size\n",
    "        if (mod == 0 or\n",
    "           mod < chunk_size/2): # This makes sure that the remainder is not too large\n",
    "            chunk_size -= round(chunk_size/(2*splits))\n",
    "    print('Chunk size: {}' .format(chunk_size))\n",
    "    \n",
    "    # Generate a list with the chunk indices so that if a specific chunk number is specified\n",
    "    # it can be found and generated consistently\n",
    "    start = 0\n",
    "    end = chunk_size\n",
    "    start_end_list = []\n",
    "    while end != total:\n",
    "        start_end_list.append((start, end))\n",
    "        start += chunk_size\n",
    "        end += chunk_size\n",
    "        if end > total:\n",
    "            end = total\n",
    "    start_end_list.append((start,end))\n",
    "    print('Number of chunks: {}' .format(len(start_end_list)))\n",
    "    \n",
    "    \n",
    "    # This part does the actual matching\n",
    "    rdkit_chemicals = []\n",
    "    rdkit_chemicals_path = path.join(DATA_PATH, filename)\n",
    "    \n",
    "    if not chunk_list:\n",
    "        iterable = enumerate(start_end_list)\n",
    "    else:\n",
    "        sub_is = [start_end_list[i] for i in chunk_list]\n",
    "        iterable = enumerate(sub_is)\n",
    "    \n",
    "    for i, tup in iterable:\n",
    "        print ('\\nChunk number {}, start: {}, end: {}' .format(i, tup[0], tup[1]))\n",
    "        chunk = chunkable[tup[0]:tup[1]]\n",
    "        rdkit_chemicals += rdkit_printed_pairer(chunk)\n",
    "        \n",
    "        # Save after every chunk\n",
    "        with open(rdkit_chemicals_path, 'wb') as f:\n",
    "            pickle.dump(rdkit_chemicals, f, protocol=pickle.HIGHEST_PROTOCOL)\n",
    "       \n",
    "    return rdkit_chemicals"
   ]
  },
  {
   "cell_type": "code",
   "execution_count": 55,
   "metadata": {},
   "outputs": [
    {
     "name": "stdout",
     "output_type": "stream",
     "text": [
      "Chunk size: 231\n",
      "Number of chunks: 10\n",
      "\n",
      "Chunk number 0, start: 0, end: 231\n",
      ".......... 5%...........10%............15%.......... (-)-sclareol failed ..20%.. (2e,6e/z,8e)-n-(2-methylpropyl)-2,6,8-decatrienamide failed .........25%............30%...........35%............40%...........45%............50%...........55%............60%...........65%............70%............75%...........80%......... 1-phenyl-3 or 5-propylpyrazole failed ...85%...........90%.... 2,2,6,7-tetramethylbicyclo[4.3.0]nona-4,9(1)-dien-8-ol failed ........95%...........100%..\n",
      "Chunk number 1, start: 231, end: 462\n",
      ".......... 5%...........10%............15%............20%...........25%............30%...........35%............40%...........45%............50%...........55%............60%...........65%............70%............75%...........80%............85%...........90%............95%...........100%..\n",
      "Chunk number 2, start: 462, end: 693\n",
      "..... 2-methylbutyl 3-methylbutanoate failed ..... 5%...........10%............15%............20%...........25%............30%...........35%............40%...........45%............50%...........55%.......... ammonium isovalerate failed ..60%...........65%............70%............75%...........80%............ 3-methylbutanethiol failed 85%...........90%.......... 3-oxohexanoic acid glyceride failed ..95%...........100%..\n",
      "Chunk number 3, start: 693, end: 924\n",
      " 3-pinanone failed .......... 5%..... MW EX ......10%.... 4-(methylthio)-2-pentanone failed ........15%......... 4-amino-5-(3-(isopropylamino)-2,2-dimethyl-3-oxopropoxy)-2-methylquinoline-3-carboxylic acid failed ...20%...........25%............30%...........35%............40%...........45%............50%...........55%............60%...........65%............70%............75%...........80%............85%...........90%............95%...........100%..\n",
      "Chunk number 4, start: 924, end: 1155\n",
      ".......... 5%...........10%............15%............20%...........25%. butanal dibenzyl thioacetal failed ...........30%...........35%............40%...........45%............50%..... citric acid failed ......55%............60%...........65%.. d,l-menthol(+/-)-propylene glycol carbonate failed ..........70%............75%...........80%............85%...........90%............95%...........100%..\n",
      "Chunk number 5, start: 1155, end: 1386\n",
      ". ethyl (p-tolyloxy)acetate failed ......... 5%...........10%............15%............20%...........25%............30%...........35%............40%...........45%............50%...........55%............60%...........65%............70%............75%...........80%.. hexadecyl lactate failed ..........85%...........90%............95%...........100%..\n",
      "Chunk number 6, start: 1386, end: 1617\n",
      ".......... 5%...........10%............15%............20%...........25%............30%...........35%............40%...........45%............50%...........55%............60%...........65%............70%............75%...........80%............85%...........90%............95%...........100%..\n",
      "Chunk number 7, start: 1617, end: 1848\n",
      ".......... 5%........ 6-[5(6)-decenoyloxy]decanoic acid failed ...10%......... n-(1,1-dimethyl-2-hydroxyethyl)-2,2-diethylbutanamide failed ...15%............20%...........25%............30%...........35%........... octyl isovalerate failed .40%...........45%............50%...........55%............60%...........65%............70%............75%...........80%............85%...........90%......... s-methyl hexanethioate failed ...95%......... sodium 3-methoxy-4-hydroxycinnamate failed ..100%..\n",
      "Chunk number 8, start: 1848, end: 2079\n",
      ".......... 5%...........10%............15%............20%...........25%............30%...........35%............40%...........45%............50%...........55%............60%...........65%............70%...... d-2,8-p-menthadien-1-ol failed ......75%...........80%............85%...........90%............95%...........100%..\n",
      "Chunk number 9, start: 2079, end: 2193\n",
      "..... 5%.....10%......15%......20%.....25%......30%......35%...... (+/-)-trans- and cis-2-hexenal glyceryl acetal failed 40%.....45%......50%......55%.....60%......65%......70%.....75%......80%......85%......90%.....95%......100%."
     ]
    }
   ],
   "source": [
    "rdkit_chemicals = match_chunker(merged_chemicals)"
   ]
  },
  {
   "cell_type": "code",
   "execution_count": 61,
   "metadata": {},
   "outputs": [
    {
     "name": "stdout",
     "output_type": "stream",
     "text": [
      "Chemicals with no rdkit molecule: 23\n"
     ]
    }
   ],
   "source": [
    "# Remove all the chemicals where an rdkit molecule was not found\n",
    "trimmed_chemicals = []\n",
    "for dicto in rdkit_chemicals:\n",
    "    if 'rdkit mol' in dicto:\n",
    "        trimmed_chemicals.append(deepcopy(dicto))\n",
    "print('Chemicals with no rdkit molecule: {}' \n",
    "      .format(len(rdkit_chemicals)-len(trimmed_chemicals)))"
   ]
  },
  {
   "cell_type": "code",
   "execution_count": 63,
   "metadata": {
    "collapsed": true
   },
   "outputs": [],
   "source": [
    "trimmed_rdkit_chemicals_path = path.join(DATA_PATH, 'trimmed_rdkit_chemicals.pkl')\n",
    "\n",
    "with open(trimmed_rdkit_chemicals_path, 'wb') as f:\n",
    "    pickle.dump(trimmed_chemicals, f, protocol=pickle.HIGHEST_PROTOCOL)"
   ]
  }
 ],
 "metadata": {
  "kernelspec": {
   "display_name": "Python 3",
   "language": "python",
   "name": "python3"
  },
  "language_info": {
   "codemirror_mode": {
    "name": "ipython",
    "version": 3
   },
   "file_extension": ".py",
   "mimetype": "text/x-python",
   "name": "python",
   "nbconvert_exporter": "python",
   "pygments_lexer": "ipython3",
   "version": "3.5.3"
  }
 },
 "nbformat": 4,
 "nbformat_minor": 2
}
