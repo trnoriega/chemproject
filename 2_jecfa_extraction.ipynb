{
 "cells": [
  {
   "cell_type": "markdown",
   "metadata": {},
   "source": [
    "# JECFA website information extraction\n",
    "\n",
    "### The alphabetical index\n",
    "\n",
    "The JECFA website contains an [index](http://www.fao.org/food/food-safety-quality/scientific-advice/jecfa/jecfa-flav/browse-alphabetically/en/) with all of the chemicals for which it has information. Javascript is using this [JSON database](http://www.fao.org/food/food-safety-quality/scientific-advice/jecfa/jecfa-flav/browse-alphabetically/jsonlist/en/) to display each of those links\n",
    "\n",
    "The scripts below extract all of the links available from the JSON database"
   ]
  },
  {
   "cell_type": "code",
   "execution_count": 1,
   "metadata": {
    "collapsed": true
   },
   "outputs": [],
   "source": [
    "import json\n",
    "import os.path as path\n",
    "from data_paths import BASE_PATH\n",
    "\n",
    "DATA_PATH = path.join(BASE_PATH, 'jecfa_extraction')\n",
    "json_path = path.join(DATA_PATH, 'index_links.json')\n",
    "\n",
    "with open(json_path) as f:\n",
    "    data = json.load(f)"
   ]
  },
  {
   "cell_type": "code",
   "execution_count": 2,
   "metadata": {},
   "outputs": [
    {
     "data": {
      "text/plain": [
       "{'flavour_name': \"<a  href='food/food-safety-quality/scientific-advice/jecfa/jecfa-flav/details/en/c/2008/'  title=''>(+)-Cedrol</a>\",\n",
       " 'sortfield1': 'C',\n",
       " 'sortfield2': 'Ced',\n",
       " 'sortfield3': 'Cedro'}"
      ]
     },
     "execution_count": 2,
     "metadata": {},
     "output_type": "execute_result"
    }
   ],
   "source": [
    "data[0]"
   ]
  },
  {
   "cell_type": "code",
   "execution_count": 146,
   "metadata": {
    "collapsed": true
   },
   "outputs": [],
   "source": [
    "from bs4 import BeautifulSoup\n",
    "\n",
    "def jecfa_link_finder(data):\n",
    "    \"\"\"\n",
    "    Creates a list of dicts with compound names and links based on the json database\n",
    "    used by the JECFA website index page\n",
    "    \"\"\"\n",
    "    BASE_ADDRESS = 'http://www.fao.org/'\n",
    "    ret_list = []\n",
    "    for chemical in data:\n",
    "        link_text = chemical['flavour_name']\n",
    "        soup = BeautifulSoup(link_text, 'lxml')\n",
    "        name = soup.a.text.lower()\n",
    "        link = BASE_ADDRESS + soup.a['href']\n",
    "        dicto = {'name': name, 'link': link}\n",
    "        ret_list.append(dicto)\n",
    "    return ret_list"
   ]
  },
  {
   "cell_type": "code",
   "execution_count": 147,
   "metadata": {
    "collapsed": true
   },
   "outputs": [],
   "source": [
    "jecfa_links = jecfa_link_finder(data)"
   ]
  },
  {
   "cell_type": "code",
   "execution_count": 149,
   "metadata": {},
   "outputs": [
    {
     "data": {
      "text/plain": [
       "{'link': 'http://www.fao.org/food/food-safety-quality/scientific-advice/jecfa/jecfa-flav/details/en/c/2008/',\n",
       " 'name': '(+)-cedrol'}"
      ]
     },
     "execution_count": 149,
     "metadata": {},
     "output_type": "execute_result"
    }
   ],
   "source": [
    "jecfa_links[0]"
   ]
  },
  {
   "cell_type": "markdown",
   "metadata": {},
   "source": [
    "### Individual chemical pages\n",
    "\n",
    "Each chemical then has its own page (for example, [acetic acid]http://www.fao.org/food/food-safety-quality/scientific-advice/jecfa/jecfa-flav/details/en/c/3/) from which I will extract:\n",
    "- Odor\n",
    "- Physical form\n",
    "- Synonyms\n",
    "- JECFA, CAS, FEMA, COE, and FLAVIS numbers\n",
    "- Molecular weight\n",
    "- Chemical formula\n",
    "- Solubility\n",
    "- Solubility in ethanol\n",
    "- Boiling point\n",
    "- Acid value max\n",
    "- Refractive index\n",
    "- Specific gravity"
   ]
  },
  {
   "cell_type": "code",
   "execution_count": 54,
   "metadata": {
    "collapsed": true
   },
   "outputs": [],
   "source": [
    "from urllib.request import Request, urlopen\n",
    "from bs4 import BeautifulSoup, SoupStrainer\n",
    "\n",
    "def link_to_soup(link, strainer=None):\n",
    "    '''\n",
    "    support function makes a beautiful soup object from link. Disguises itself\n",
    "    as a browser so its not confused for a bot\n",
    "\n",
    "    returns:\n",
    "    -Soup object if one can be made\n",
    "    -None otherwise\n",
    "    '''\n",
    "    try:\n",
    "        req = Request(link, headers={'User-Agent': 'Mozilla/5.0'})\n",
    "        page = urlopen(req).read()\n",
    "        soup = BeautifulSoup(page, 'lxml', parse_only=strainer)\n",
    "    except:\n",
    "        return None\n",
    "\n",
    "    return soup"
   ]
  },
  {
   "cell_type": "code",
   "execution_count": 184,
   "metadata": {
    "collapsed": true
   },
   "outputs": [],
   "source": [
    "REJECT_LABELS = ['latest jecfa evaluation',\n",
    "                 'status of specification', \n",
    "                 'information required',\n",
    "                 'assay min %',\n",
    "                 'id test',\n",
    "                 'spectrum']\n",
    "\n",
    "\n",
    "def jecfa_link_info(dicto, reject_labels=REJECT_LABELS):\n",
    "    \"\"\"\n",
    "    Create a copy of dicto with extracted information from the JECFA website added\n",
    "    reject_labels specifies which information not to include. \n",
    "    \"\"\"\n",
    "    \n",
    "    def is_float(s):\n",
    "        \"\"\"\n",
    "        Determines if string represents a float-type number\n",
    "        \"\"\"\n",
    "        try:\n",
    "            float(s)\n",
    "            return True\n",
    "        except ValueError:\n",
    "            return False\n",
    "    \n",
    "    mod_dicto = dicto.copy()\n",
    "    link = dicto['link']\n",
    "    strainer = SoupStrainer('div',class_='tx-dynafef-pi4')\n",
    "    try:\n",
    "        soup = link_to_soup(link, strainer)\n",
    "        rows = soup.findAll('tr')\n",
    "\n",
    "        for row in rows:\n",
    "            label = row.find('td', class_='label').text.lower()\n",
    "            #remove 'number' from the labels for consistency with FEMA data\n",
    "            label = label.replace('number', '').strip()\n",
    "\n",
    "            # Check if original name and name on website match\n",
    "            if label == 'flavouring':\n",
    "                check_value = row.find('td', class_='value').text.lower()\n",
    "                if check_value != mod_dicto['name']:\n",
    "                    print(\"NAMES DON'T MATCH\")\n",
    "                    return None\n",
    "            elif label not in reject_labels:\n",
    "                value = row.find('td', class_='value').text.lower()\n",
    "                #Convert numbers to ints or floats, EMPTYS TO NaNs\n",
    "                if value.isdigit():\n",
    "                    value = int(value)\n",
    "                #This might cause an issue for flavis but is worth it for molecular weight\n",
    "                elif is_float(value):\n",
    "                    value = float(value)\n",
    "                elif (not value or\n",
    "                    value == 'na'):\n",
    "                    value = 'NaN'\n",
    "                mod_dicto[label] = value\n",
    "    except:\n",
    "        print('ERROR', end='')\n",
    "        return None\n",
    "    \n",
    "    return mod_dicto"
   ]
  },
  {
   "cell_type": "code",
   "execution_count": 186,
   "metadata": {
    "collapsed": true
   },
   "outputs": [],
   "source": [
    "def printed_jecfa_extraction(dicto_list):\n",
    "    \"\"\"\n",
    "    Applies jecfa_link_info function to a list of individual chemical dictionaries.\n",
    "    Displays a readout so that progress is known.\n",
    "    \"\"\"\n",
    "    \n",
    "    out = []\n",
    "    total = len(dicto_list)\n",
    "    count = 0\n",
    "    last_displayed = 0\n",
    "    \n",
    "    for dicto in dicto_list:\n",
    "        out.append(jecfa_link_info(dicto))\n",
    "        \n",
    "        # This noise is all about a nice display with percentage completed\n",
    "        count += 1\n",
    "        val = round((count / total) * 100)\n",
    "        if (val % 5 == 0 and\n",
    "            val != last_displayed):\n",
    "            print('{:2.0f}%' .format(val), end = '.')\n",
    "        else:\n",
    "            print('.', end='')\n",
    "        last_displayed = val\n",
    "    \n",
    "    return out"
   ]
  },
  {
   "cell_type": "code",
   "execution_count": 284,
   "metadata": {
    "collapsed": true
   },
   "outputs": [],
   "source": [
    "import pickle\n",
    "\n",
    "def jecfa_chunker(chunkable, file_name='pre_odor_jecfa.pkl', splits=10, chunk_list=None):\n",
    "    \"\"\"\n",
    "    Splits the extraction of individual chemical information into separate chunks.\n",
    "    As each chunk is completed it is saved into an updated pickle file. \n",
    "    chunk_list can specify particular chunks to be processed. \n",
    "    \"\"\"\n",
    "    \n",
    "    total = len(chunkable)\n",
    "    \n",
    "    # determine chunk size\n",
    "    chunk_size, mod = total//(splits), total%splits\n",
    "    if mod != 0:\n",
    "        chunk_size = total//(splits-1)\n",
    "        mod = total%chunk_size\n",
    "        if (mod == 0 or\n",
    "           mod < chunk_size/2): # This makes sure that the remainder is not too large\n",
    "            chunk_size -= round(chunk_size/(2*splits))\n",
    "    print('Chunk size: {}' .format(chunk_size))\n",
    "    \n",
    "    # Generate a list with the chunk indices so that if a specific chunk number is specified\n",
    "    # it can be found and generated consistently\n",
    "    start = 0\n",
    "    end = chunk_size\n",
    "    start_end_list = []\n",
    "    while end != total:\n",
    "        start_end_list.append((start, end))\n",
    "        start += chunk_size\n",
    "        end += chunk_size\n",
    "        if end > total:\n",
    "            end = total\n",
    "    start_end_list.append((start,end))\n",
    "    print('Number of chunks: {}' .format(len(start_end_list)))\n",
    "    \n",
    "    # This part dues the actual extraction from the JECFA website\n",
    "    extracted_jecfa_path = path.join(DATA_PATH, file_name)\n",
    "    extracted_jecfa = []\n",
    "    \n",
    "    if not chunk_list:\n",
    "        iterable = enumerate(start_end_list)\n",
    "    else:\n",
    "        sub_is = [start_end_list[i] for i in chunk_list]\n",
    "        iterable = enumerate(sub_is)\n",
    "    \n",
    "    for i, tup in iterable:\n",
    "        print ('\\nChunk number {}, start: {}, end: {}' .format(i, tup[0], tup[1]))\n",
    "        chunk = chunkable[tup[0]:tup[1]]\n",
    "        extracted_jecfa += printed_jecfa_extraction(chunk)\n",
    "        \n",
    "        # Save after every chunk\n",
    "        with open(extracted_jecfa_path, 'wb') as f:\n",
    "            pickle.dump(extracted_jecfa, f, protocol=pickle.HIGHEST_PROTOCOL)\n",
    "       \n",
    "    return extracted_jecfa"
   ]
  },
  {
   "cell_type": "code",
   "execution_count": 287,
   "metadata": {
    "scrolled": true
   },
   "outputs": [
    {
     "name": "stdout",
     "output_type": "stream",
     "text": [
      "Chunk size: 230\n",
      "Number of chunks: 10\n",
      "\n",
      "Chunk number 0, start: 0, end: 230\n",
      ".......... 5%...........10%............15%...........20%............25%...........30%............35%...........40%............45%...........50%............55%...........60%............65%...........70%............75%...........80%............85%...........90%............95%...........100%..\n",
      "Chunk number 1, start: 230, end: 460\n",
      ".......... 5%...........10%............15%...........20%............25%...........30%............35%...........40%............45%...........50%............55%...........60%............65%...........70%............75%...........80%............85%...........90%............95%...........100%..\n",
      "Chunk number 2, start: 460, end: 690\n",
      ".......... 5%...........10%............15%...........20%............25%...........30%............35%...........40%............45%...........50%............55%...........60%............65%...........70%............75%...........80%............85%...........90%............95%...........100%..\n",
      "Chunk number 3, start: 690, end: 920\n",
      ".......... 5%...........10%............15%...........20%............25%...........30%............35%...........40%............45%...........50%............55%...........60%............65%...........70%............75%...........80%............85%...........90%............95%...........100%..\n",
      "Chunk number 4, start: 920, end: 1150\n",
      ".......... 5%...........10%............15%...........20%............25%...........30%............35%...........40%............45%...........50%............55%...........60%............65%...........70%............75%...........80%............85%...........90%............95%...........100%..\n",
      "Chunk number 5, start: 1150, end: 1380\n",
      ".......... 5%...........10%............15%...........20%............25%...........30%............35%...........40%............45%...........50%............55%...........60%............65%...........70%............75%...........80%............85%...........90%............95%...........100%..\n",
      "Chunk number 6, start: 1380, end: 1610\n",
      ".......... 5%...........10%............15%...........20%............25%...........30%............35%...........40%............45%...........50%............55%...........60%............65%...........70%............75%...........80%............85%...........90%............95%...........100%..\n",
      "Chunk number 7, start: 1610, end: 1840\n",
      ".......... 5%...........10%............15%...........20%............25%...........30%............35%...........40%............45%...........50%............55%...........60%............65%...........70%............75%...........80%............85%...........90%............95%...........100%..\n",
      "Chunk number 8, start: 1840, end: 2070\n",
      ".......... 5%...........10%............15%...........20%............25%...........30%............35%...........40%............45%...........50%............55%...........60%............65%...........70%............75%...........80%............85%...........90%............95%...........100%..\n",
      "Chunk number 9, start: 2070, end: 2183\n",
      "..... 5%.....10%......15%......20%.....25%......30%.....35%......40%......45%.....50%......55%......60%.....65%......70%......75%.....80%......85%......90%.....95%......100%."
     ]
    }
   ],
   "source": [
    "pre_odor_jecfa = jecfa_chunker(jecfa_links)"
   ]
  },
  {
   "cell_type": "code",
   "execution_count": 289,
   "metadata": {},
   "outputs": [
    {
     "name": "stdout",
     "output_type": "stream",
     "text": [
      "Length extracted dictionary: 2183 compared to length of links: 2183\n"
     ]
    }
   ],
   "source": [
    "print('Length extracted dictionary: {} compared to length of links: {}' \n",
    "      .format(len(pre_odor_jecfa), len(jecfa_links)))"
   ]
  },
  {
   "cell_type": "markdown",
   "metadata": {},
   "source": [
    "The JECFA chemcal websites combine physical form with odor characteristics. I only want the odor descriptions so will split off the physical description."
   ]
  },
  {
   "cell_type": "code",
   "execution_count": 194,
   "metadata": {
    "collapsed": true
   },
   "outputs": [],
   "source": [
    "#Reload intermediate data-dump\n",
    "\n",
    "import os.path as path\n",
    "import pickle\n",
    "\n",
    "DATA_PATH = path.join(path.expanduser('~'),\n",
    "                     'Dropbox',\n",
    "                     'bymt',\n",
    "                     'data_dumps',\n",
    "                     'chem_project',\n",
    "                     'jecfa_extraction')\n",
    "\n",
    "pre_odor_jecfa_path = path.join(DATA_PATH, 'pre_odor_jecfa.pkl')\n",
    "\n",
    "with open(pre_odor_jecfa_path, 'rb') as f:\n",
    "    pre_odor_jecfa = pickle.load(f)"
   ]
  },
  {
   "cell_type": "markdown",
   "metadata": {},
   "source": [
    "Look at the strings to find a pattern:"
   ]
  },
  {
   "cell_type": "code",
   "execution_count": 195,
   "metadata": {},
   "outputs": [
    {
     "name": "stdout",
     "output_type": "stream",
     "text": [
      "clear, colourless liquid\n",
      "colourless liquid\n",
      "colourless liquid; mouldy aroma\n",
      "colourless liquid with a mild, green, citrusy, herbaceous odour\n",
      "colourless to pale yellow liquid with a fruit-like odour\n",
      "colourless mobile liquid; dry woody, resinous piney aroma\n",
      "colorless liquid, strong lemon-lime top note\n",
      "liquid; cheese-like odour\n",
      "colourless liquid; sweet, berry, camphoraceous odour\n",
      "clear colourless to slightly yellow liquid; fruity aroma\n",
      "colourless liquid; fatty aroma\n",
      "colourless to pale yellow liquid\n",
      "colourless crystalline solid\n",
      "NaN\n",
      "colourless to pale yellow liquid\n",
      "colourless liquid with disagreeable odour\n",
      "clear colourless to pale yellow liquid; sulphureous aroma\n",
      "colourless liquid; sweet spicy aroma\n",
      "colourless liquid with fatty, estery odour\n",
      "clear, colourless or pale yellow liquid; sulfureous aroma\n",
      "NaN\n",
      "colourless liquid with a powerful, sweet fruit odour\n",
      "colourless liquid with a herbaceous, green, rose odour\n",
      "white crystalline solid\n",
      "colourless to slightly yellow liquid with a green, earthy, celery odour\n",
      "colourless liquid; rose honey-like odour\n",
      "colourless oily liquid with a mild, fruity, berry-like odour\n",
      "colourless crystalline solid; balsamic aroma with and undertone reminiscent of clove\n",
      "colourless liquid; green aroma\n",
      "colourless to pale yellow liquid with a  fruity floral odour\n"
     ]
    }
   ],
   "source": [
    "import random\n",
    "\n",
    "random.seed(0)\n",
    "rand_is = random.sample(range(len(pre_odor_jecfa)), 30)\n",
    "for i in rand_is:\n",
    "    print (pre_odor_jecfa[i]['physical form/odour'])"
   ]
  },
  {
   "cell_type": "markdown",
   "metadata": {},
   "source": [
    "Most common patterns are: \n",
    "\n",
    "1) to divide physical characteristics from odor with semicolon\n",
    "\n",
    "2) Have the physical descriptor ('liquid', 'solid', 'crystal', etc) immediately, or close to immediately, precede the odor"
   ]
  },
  {
   "cell_type": "code",
   "execution_count": 218,
   "metadata": {
    "collapsed": true
   },
   "outputs": [],
   "source": [
    "import nltk\n",
    "import re\n",
    "from copy import deepcopy\n",
    "\n",
    "def jecfa_odor_cleaner(dicto_list):\n",
    "    \"\"\"\n",
    "    Splits the 'physical form/odor' descriptors into separate 'physical' and 'odor'.\n",
    "    Cleans up the text (lowercases, stems, and removes commas and hyphens) before the split.\n",
    "    \"\"\"\n",
    "    new_list = deepcopy(dicto_list)\n",
    "    count = 0\n",
    "    for dicto in new_list:\n",
    "        text = dicto.get('physical form/odour')\n",
    "        new_text = text.lower()\n",
    "        # Remove commas and hyphens\n",
    "        pattern = re.compile(r'[,-]')\n",
    "        new_text = re.sub(pattern, ' ', new_text)\n",
    "        # Stem the description to make downstream analysis more consistent\n",
    "        stemmer = nltk.stem.SnowballStemmer('english')\n",
    "        stems = [stemmer.stem(word) for word in new_text.split(' ')]\n",
    "        stems = ' '.join(stems)\n",
    "        # Regex for words that split the odor from the physical\n",
    "        splitters = re.compile(r'(;|liquid|lquid|solid|crystal|flake|powder|needl)')\n",
    "        matches = re.finditer(splitters, stems)\n",
    "        matches = [m for m in matches]\n",
    "        if matches:\n",
    "            # Only want to split the last match because sometimes there are more\n",
    "            # than one physical splitter word\n",
    "            last = matches[-1]\n",
    "            split_stems = [stems[:last.end()], stems[last.end():]]\n",
    "            if len(split_stems) == 2:\n",
    "                physical = split_stems[0].strip()\n",
    "                physical = physical.replace(';', '')\n",
    "                dicto['physical'] = physical\n",
    "                if split_stems[1] != '':\n",
    "                    dicto['odor'] = split_stems[1].strip()\n",
    "                count += 1\n",
    "        elif'odour' in stems or 'flavor' in stems:\n",
    "            dicto['odor'] = stems\n",
    "            count += 1\n",
    "        else:\n",
    "            if stems != 'nan':\n",
    "                print(stems)\n",
    "\n",
    "    print('splits: {} out of {}' .format(count, len(dicto_list)))\n",
    "    return new_list"
   ]
  },
  {
   "cell_type": "code",
   "execution_count": 219,
   "metadata": {},
   "outputs": [
    {
     "name": "stdout",
     "output_type": "stream",
     "text": [
      "yellow oil\n",
      "yellow oil\n",
      "splits: 2127 out of 2183\n"
     ]
    }
   ],
   "source": [
    "extracted_jecfa = jecfa_odor_cleaner(pre_odor_jecfa)"
   ]
  },
  {
   "cell_type": "code",
   "execution_count": 223,
   "metadata": {},
   "outputs": [
    {
     "name": "stdout",
     "output_type": "stream",
     "text": [
      "Original: pale yellow to yellow green solid; sweet fruity cedar-like aroma, \n",
      "physical: pale yellow to yellow green solid /////// odor: sweet fruiti cedar like aroma\n"
     ]
    }
   ],
   "source": [
    "print('Original: {}, \\nphysical: {} /////// odor: {}'\n",
    "      .format(extracted_jecfa[0]['physical form/odour'],\n",
    "              extracted_jecfa[0]['physical'],\n",
    "              extracted_jecfa[0]['odor']))"
   ]
  },
  {
   "cell_type": "code",
   "execution_count": 225,
   "metadata": {
    "collapsed": true
   },
   "outputs": [],
   "source": [
    "extracted_jecfa_path = path.join(DATA_PATH, 'extracted_jecfa.pkl')\n",
    "\n",
    "with open(extracted_jecfa_path, 'wb') as f:\n",
    "     pickle.dump(extracted_jecfa, f, protocol=pickle.HIGHEST_PROTOCOL)"
   ]
  }
 ],
 "metadata": {
  "kernelspec": {
   "display_name": "Python 3",
   "language": "python",
   "name": "python3"
  },
  "language_info": {
   "codemirror_mode": {
    "name": "ipython",
    "version": 3
   },
   "file_extension": ".py",
   "mimetype": "text/x-python",
   "name": "python",
   "nbconvert_exporter": "python",
   "pygments_lexer": "ipython3",
   "version": "3.6.2"
  }
 },
 "nbformat": 4,
 "nbformat_minor": 2
}
