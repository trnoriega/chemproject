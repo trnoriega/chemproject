{
 "cells": [
  {
   "cell_type": "markdown",
   "metadata": {},
   "source": [
    "# Estimator Analysis\n",
    "\n",
    "Understand the Logistic Regression estimator that was chosen as the best performer in [parameter_optimization](parameter_optimization.ipynb)."
   ]
  },
  {
   "cell_type": "markdown",
   "metadata": {
    "collapsed": true
   },
   "source": [
    "### Get the data  from [property_calculations](property_calculations.ipynb) and grid search data from [parameter_optimization](parameter_optimization.ipynb)."
   ]
  },
  {
   "cell_type": "code",
   "execution_count": 1,
   "metadata": {
    "collapsed": true
   },
   "outputs": [],
   "source": [
    "import numpy as np\n",
    "import matplotlib.pyplot as plt\n",
    "import os.path as path\n",
    "import pickle\n",
    "\n",
    "# Load property_array from property_calculations FEMA-JECFA database\n",
    "BASE_DATA_PATH = path.join(path.expanduser('~'),\n",
    "                           'Dropbox',\n",
    "                           'bymt',\n",
    "                           'data_dumps',\n",
    "                           'chem_project',\n",
    "                           'fp')\n",
    "\n",
    "dataset_path = path.join(BASE_DATA_PATH,\n",
    "                         'property_calculations',\n",
    "                         'dataset.pkl')\n",
    "\n",
    "with open(dataset_path, 'rb') as f:\n",
    "    dataset = pickle.load(f)\n",
    "    \n",
    "train_features = dataset['train features']\n",
    "train_labels = dataset['train labels']\n",
    "test_features = dataset['test features']\n",
    "test_labels = dataset['test labels']\n",
    "\n",
    "grids_path = path.join(BASE_DATA_PATH,\n",
    "                      'parameter_optimization',\n",
    "                      'grids.pkl')\n",
    "\n",
    "with open(grids_path, 'rb') as g:\n",
    "    grids = pickle.load(g)"
   ]
  },
  {
   "cell_type": "markdown",
   "metadata": {},
   "source": [
    "### Logistic Regression estimator analysis"
   ]
  },
  {
   "cell_type": "code",
   "execution_count": 2,
   "metadata": {
    "collapsed": true
   },
   "outputs": [],
   "source": [
    "from sklearn.preprocessing import Imputer, MinMaxScaler\n",
    "from sklearn.pipeline import Pipeline \n",
    "from sklearn.linear_model import LogisticRegression\n",
    "\n",
    "LR = LogisticRegression(class_weight='balanced', random_state=42)\n",
    "LR_params = {'estimator': [LR],\n",
    "             'estimator__C': 10.0 ** -np.arange(-4, 4),\n",
    "             'estimator__solver': ['lbfgs', 'sag', 'newton-cg']}"
   ]
  },
  {
   "cell_type": "code",
   "execution_count": 4,
   "metadata": {},
   "outputs": [
    {
     "data": {
      "text/plain": [
       "{'estimator': LogisticRegression(C=0.10000000000000001, class_weight='balanced', dual=False,\n",
       "           fit_intercept=True, intercept_scaling=1, max_iter=100,\n",
       "           multi_class='ovr', n_jobs=1, penalty='l2', random_state=42,\n",
       "           solver='lbfgs', tol=0.0001, verbose=0, warm_start=False),\n",
       " 'estimator__C': 0.10000000000000001,\n",
       " 'estimator__solver': 'lbfgs'}"
      ]
     },
     "execution_count": 4,
     "metadata": {},
     "output_type": "execute_result"
    }
   ],
   "source": [
    "lr_grid = grids['lr']\n",
    "lr_grid.best_params_"
   ]
  },
  {
   "cell_type": "code",
   "execution_count": null,
   "metadata": {
    "collapsed": true
   },
   "outputs": [],
   "source": [
    "from sklearn.model_selection import cross_val_score\n",
    "\n",
    "lr_grid = grids['lr']\n",
    "lr = lr_grid.best_estimator_\n",
    "lr_roc = cross_val_score(lr, train_features, train_labels, cv=4, scoring='roc_auc')"
   ]
  },
  {
   "cell_type": "code",
   "execution_count": 18,
   "metadata": {},
   "outputs": [
    {
     "name": "stdout",
     "output_type": "stream",
     "text": [
      "Mean Area under Receiver Operating Characteristic curve: 0.850\n"
     ]
    }
   ],
   "source": [
    "print('Mean Area under Receiver Operating Characteristic curve: {:.3f}' \n",
    "      .format(np.mean(lr_roc)))"
   ]
  },
  {
   "cell_type": "code",
   "execution_count": null,
   "metadata": {
    "collapsed": true
   },
   "outputs": [],
   "source": [
    "lr_ap_scores = cross_val_score(lr, \n",
    "                               train_features, train_labels,\n",
    "                               cv=4, scoring='average_precision')"
   ]
  },
  {
   "cell_type": "code",
   "execution_count": 13,
   "metadata": {},
   "outputs": [
    {
     "name": "stdout",
     "output_type": "stream",
     "text": [
      "Area under recall_precision curve is 4.4 times greater than expected if clasifier were random\n"
     ]
    }
   ],
   "source": [
    "long_string = 'Area under recall_precision curve is {:.1f} times\\\n",
    " greater than expected if clasifier were random'\n",
    "\n",
    "proportion_positives = sum(train_labels)/train_labels.shape[0]\n",
    "print(long_string \n",
    "      .format(np.mean(lr_ap_scores)/proportion_positives))"
   ]
  },
  {
   "cell_type": "code",
   "execution_count": 96,
   "metadata": {
    "collapsed": true
   },
   "outputs": [
    {
     "name": "stdout",
     "output_type": "stream",
     "text": [
      "[CV] estimator__C=10000.0 ............................................\n",
      "[CV] estimator__C=1000.0 .............................................\n",
      "[CV] estimator__C=100.0 ..............................................\n",
      "[CV] estimator__C=10.0 ...............................................\n",
      "[CV] ............................. estimator__C=10000.0, total=   4.3s\n",
      "[CV] .............................. estimator__C=1000.0, total=   4.3s\n",
      "[CV] estimator__C=1.0 ................................................\n",
      "[CV] estimator__C=0.1 ................................................\n",
      "[CV] ............................... estimator__C=100.0, total=   4.4s\n",
      "[CV] estimator__C=0.01 ...............................................\n",
      "[CV] ................................ estimator__C=10.0, total=   4.6s\n",
      "[CV] estimator__C=0.001 ..............................................\n",
      "[CV] ............................... estimator__C=0.001, total=   1.2s\n",
      "[CV] estimator__C=10000.0 ............................................\n",
      "[CV] ................................ estimator__C=0.01, total=   1.8s\n",
      "[CV] estimator__C=1000.0 .............................................\n",
      "[CV] ................................. estimator__C=0.1, total=   4.0s\n",
      "[CV] estimator__C=100.0 ..............................................\n",
      "[CV] ................................. estimator__C=1.0, total=   4.3s\n",
      "[CV] estimator__C=10.0 ...............................................\n",
      "[CV] ............................. estimator__C=10000.0, total=   4.6s\n",
      "[CV] .............................. estimator__C=1000.0, total=   4.4s\n",
      "[CV] estimator__C=1.0 ................................................\n",
      "[CV] estimator__C=0.1 ................................................\n",
      "[CV] ............................... estimator__C=100.0, total=   4.4s\n",
      "[CV] estimator__C=0.01 ...............................................\n",
      "[CV] ................................ estimator__C=10.0, total=   4.3s\n",
      "[CV] estimator__C=0.001 ..............................................\n",
      "[CV] ................................. estimator__C=0.1, total=   3.2s\n",
      "[CV] estimator__C=10000.0 ............................................\n",
      "[CV] ............................... estimator__C=0.001, total=   1.2s\n",
      "[CV] estimator__C=1000.0 .............................................\n",
      "[CV] ................................ estimator__C=0.01, total=   1.6s\n",
      "[CV] estimator__C=100.0 ..............................................\n",
      "[CV] ................................. estimator__C=1.0, total=   4.2s\n",
      "[CV] estimator__C=10.0 ...............................................\n"
     ]
    },
    {
     "name": "stderr",
     "output_type": "stream",
     "text": [
      "[Parallel(n_jobs=-1)]: Done  16 out of  32 | elapsed:   16.7s remaining:   16.7s\n"
     ]
    },
    {
     "name": "stdout",
     "output_type": "stream",
     "text": [
      "[CV] .............................. estimator__C=1000.0, total=   3.6s\n",
      "[CV] ............................. estimator__C=10000.0, total=   3.7s\n",
      "[CV] estimator__C=1.0 ................................................\n",
      "[CV] ............................... estimator__C=100.0, total=   3.5s\n",
      "[CV] estimator__C=0.1 ................................................\n",
      "[CV] estimator__C=0.01 ...............................................\n",
      "[CV] ................................ estimator__C=10.0, total=   3.6s\n",
      "[CV] estimator__C=0.001 ..............................................\n",
      "[CV] ............................... estimator__C=0.001, total=   1.2s\n",
      "[CV] estimator__C=10000.0 ............................................\n",
      "[CV] ................................ estimator__C=0.01, total=   1.5s\n",
      "[CV] estimator__C=1000.0 .............................................\n",
      "[CV] ................................. estimator__C=0.1, total=   2.8s\n",
      "[CV] estimator__C=100.0 ..............................................\n",
      "[CV] ................................. estimator__C=1.0, total=   3.2s\n",
      "[CV] estimator__C=10.0 ...............................................\n",
      "[CV] ............................. estimator__C=10000.0, total=   4.2s\n",
      "[CV] estimator__C=1.0 ................................................\n",
      "[CV] .............................. estimator__C=1000.0, total=   4.5s\n",
      "[CV] estimator__C=0.1 ................................................\n",
      "[CV] ............................... estimator__C=100.0, total=   5.0s\n",
      "[CV] estimator__C=0.01 ...............................................\n",
      "[CV] ................................ estimator__C=10.0, total=   5.0s\n",
      "[CV] estimator__C=0.001 ..............................................\n",
      "[CV] ............................... estimator__C=0.001, total=   1.2s\n",
      "[CV] ................................. estimator__C=0.1, total=   3.1s\n",
      "[CV] ................................ estimator__C=0.01, total=   1.6s\n",
      "[CV] ................................. estimator__C=1.0, total=   3.7s\n"
     ]
    },
    {
     "name": "stderr",
     "output_type": "stream",
     "text": [
      "[Parallel(n_jobs=-1)]: Done  32 out of  32 | elapsed:   30.7s finished\n"
     ]
    }
   ],
   "source": [
    "from sklearn.model_selection import validation_curve\n",
    "from sklearn.metrics import matthews_corrcoef, make_scorer\n",
    "\n",
    "math_scorer = make_scorer(matthews_corrcoef)\n",
    "\n",
    "param_range_C = 10.0 ** -np.arange(-4, 4)\n",
    "\n",
    "train_scores_C, test_scores_C = validation_curve(\n",
    "        lr,\n",
    "        train_features, train_labels,\n",
    "        param_name='estimator__C', \n",
    "        param_range=param_range_C,\n",
    "        cv=4, scoring=math_scorer, \n",
    "        n_jobs=-1, verbose=2\n",
    ")"
   ]
  },
  {
   "cell_type": "code",
   "execution_count": 94,
   "metadata": {
    "collapsed": true
   },
   "outputs": [],
   "source": [
    "import scipy.stats as st\n",
    "\n",
    "def t_delta(percent, scores):\n",
    "    '''\n",
    "    Returns the size of a t-test error bar that defines a given percent confidence interval \n",
    "    '''\n",
    "    mean, sem = np.mean(scores, axis=1), st.sem(scores, axis=1)\n",
    "    interval = st.t.interval(percent/float(100), len(scores)-1, loc=mean, scale=sem)\n",
    "    delta = mean - interval[0]\n",
    "    return mean, delta\n",
    "\n",
    "def plot_val_curve(train_scores, test_scores, param_range, xlabel='modified parameter'):\n",
    "    train_scores_mean = t_delta(95, train_scores)[0]\n",
    "    train_scores_std = t_delta(95, train_scores)[1]\n",
    "    test_scores_mean = t_delta(95, test_scores)[0]\n",
    "    test_scores_std = t_delta(95, test_scores)[1]\n",
    "    \n",
    "    fig, ax = plt.subplots()\n",
    "    fig.suptitle('Validation Curve')\n",
    "    ax.set_xlabel(xlabel)\n",
    "    ax.set_ylabel('Matthews correlation')\n",
    "    ax.grid()\n",
    "    lw = 2\n",
    "    ax.semilogx(param_range, train_scores_mean, label='Training score',\n",
    "                 color='darkorange', lw=lw)\n",
    "    ax.fill_between(param_range, train_scores_mean - train_scores_std,\n",
    "                     train_scores_mean + train_scores_std, alpha=0.2,\n",
    "                     color='darkorange', lw=lw)\n",
    "    ax.semilogx(param_range, test_scores_mean, label='Cross-validation score',\n",
    "                 color='navy', lw=lw)\n",
    "    ax.fill_between(param_range, test_scores_mean - test_scores_std,\n",
    "                     test_scores_mean + test_scores_std, alpha=0.2,\n",
    "                     color='navy', lw=lw)\n",
    "    ax.legend(loc='best')\n",
    "    plt.show()"
   ]
  },
  {
   "cell_type": "code",
   "execution_count": 98,
   "metadata": {},
   "outputs": [
    {
     "data": {
      "image/png": "[encoded data removed]",
      "text/plain": [
       "<matplotlib.figure.Figure at 0x106db2c18>"
      ]
     },
     "metadata": {},
     "output_type": "display_data"
    }
   ],
   "source": [
    "plot_val_curve(train_scores_C, test_scores_C, param_range_C, xlabel='C value')"
   ]
  },
  {
   "cell_type": "code",
   "execution_count": 23,
   "metadata": {
    "collapsed": true
   },
   "outputs": [
    {
     "name": "stdout",
     "output_type": "stream",
     "text": [
      "[CV] estimator__solver=lbfgs .........................................\n",
      "[CV] estimator__solver=sag ...........................................\n",
      "[CV] estimator__solver=newton-cg .....................................\n",
      "[CV] estimator__solver=lbfgs .........................................\n",
      "[CV] .......................... estimator__solver=lbfgs, total=   2.1s\n",
      "[CV] estimator__solver=sag ...........................................\n",
      "[CV] .......................... estimator__solver=lbfgs, total=   2.4s\n",
      "[CV] estimator__solver=newton-cg .....................................\n",
      "[CV] ...................... estimator__solver=newton-cg, total=   3.4s\n",
      "[CV] estimator__solver=lbfgs .........................................\n",
      "[CV] .......................... estimator__solver=lbfgs, total=   2.0s\n",
      "[CV] estimator__solver=sag ...........................................\n",
      "[CV] ...................... estimator__solver=newton-cg, total=   3.1s\n",
      "[CV] estimator__solver=newton-cg .....................................\n",
      "[CV] ...................... estimator__solver=newton-cg, total=   1.9s\n",
      "[CV] estimator__solver=lbfgs .........................................\n"
     ]
    },
    {
     "name": "stderr",
     "output_type": "stream",
     "text": [
      "[Parallel(n_jobs=-1)]: Done   6 out of  12 | elapsed:    8.7s remaining:    8.7s\n"
     ]
    },
    {
     "name": "stdout",
     "output_type": "stream",
     "text": [
      "[CV] .......................... estimator__solver=lbfgs, total=   1.3s\n",
      "[CV] estimator__solver=sag ...........................................\n"
     ]
    },
    {
     "name": "stderr",
     "output_type": "stream",
     "text": [
      "/Users/TRN/anaconda/envs/chemproject/lib/python3.5/site-packages/sklearn/linear_model/sag.py:286: ConvergenceWarning: The max_iter was reached which means the coef_ did not converge\n",
      "  \"the coef_ did not converge\", ConvergenceWarning)\n"
     ]
    },
    {
     "name": "stdout",
     "output_type": "stream",
     "text": [
      "[CV] ............................ estimator__solver=sag, total=  13.7s\n",
      "[CV] estimator__solver=newton-cg .....................................\n"
     ]
    },
    {
     "name": "stderr",
     "output_type": "stream",
     "text": [
      "/Users/TRN/anaconda/envs/chemproject/lib/python3.5/site-packages/sklearn/linear_model/sag.py:286: ConvergenceWarning: The max_iter was reached which means the coef_ did not converge\n",
      "  \"the coef_ did not converge\", ConvergenceWarning)\n"
     ]
    },
    {
     "name": "stdout",
     "output_type": "stream",
     "text": [
      "[CV] ............................ estimator__solver=sag, total=  13.5s\n",
      "[CV] ...................... estimator__solver=newton-cg, total=   2.5s\n"
     ]
    },
    {
     "name": "stderr",
     "output_type": "stream",
     "text": [
      "/Users/TRN/anaconda/envs/chemproject/lib/python3.5/site-packages/sklearn/linear_model/sag.py:286: ConvergenceWarning: The max_iter was reached which means the coef_ did not converge\n",
      "  \"the coef_ did not converge\", ConvergenceWarning)\n"
     ]
    },
    {
     "name": "stdout",
     "output_type": "stream",
     "text": [
      "[CV] ............................ estimator__solver=sag, total=  12.4s\n"
     ]
    },
    {
     "name": "stderr",
     "output_type": "stream",
     "text": [
      "/Users/TRN/anaconda/envs/chemproject/lib/python3.5/site-packages/sklearn/linear_model/sag.py:286: ConvergenceWarning: The max_iter was reached which means the coef_ did not converge\n",
      "  \"the coef_ did not converge\", ConvergenceWarning)\n"
     ]
    },
    {
     "name": "stdout",
     "output_type": "stream",
     "text": [
      "[CV] ............................ estimator__solver=sag, total=  10.8s\n"
     ]
    },
    {
     "name": "stderr",
     "output_type": "stream",
     "text": [
      "[Parallel(n_jobs=-1)]: Done  12 out of  12 | elapsed:   21.1s finished\n"
     ]
    }
   ],
   "source": [
    "param_range_solver = ['lbfgs', 'sag', 'newton-cg']\n",
    "\n",
    "train_scores_solver, test_scores_solver = validation_curve(\n",
    "        lr,\n",
    "        train_features, train_labels,\n",
    "        param_name='estimator__solver', \n",
    "        param_range=param_range_solver,\n",
    "        cv=4, scoring=math_scorer, \n",
    "        n_jobs=-1, verbose=2\n",
    ")"
   ]
  },
  {
   "cell_type": "code",
   "execution_count": 99,
   "metadata": {},
   "outputs": [],
   "source": [
    "def plot_val_bar(train_scores, test_scores, param_range):\n",
    "    train_scores_mean = t_delta(95, train_scores)[0]\n",
    "    train_scores_std = t_delta(95, train_scores)[1]\n",
    "    test_scores_mean = t_delta(95, test_scores)[0]\n",
    "    test_scores_std = t_delta(95, test_scores)[1]\n",
    "    \n",
    "    locs = np.arange(len(param_range))\n",
    "    \n",
    "    fig, ax = plt.subplots()\n",
    "    ax.set_title('Validation Bars')\n",
    "    ax.set_ylabel('Matthews correlation')\n",
    "    ax.set_xlabel('Solver')\n",
    "    ax.bar(locs, train_scores_mean, yerr=train_scores_std,\n",
    "           width=-0.4, align='edge',\n",
    "           label='Training score', \n",
    "           color='darkorange', alpha=0.5)\n",
    "    ax.bar(locs, test_scores_mean, yerr=test_scores_std,\n",
    "           width=0.4, align='edge',\n",
    "           label='Test score',\n",
    "           color='navy', alpha=0.5)\n",
    "    ax.set_xticks(locs)\n",
    "    ax.set_xticklabels(param_range)\n",
    "    ax.legend(loc='lower right')\n",
    "    plt.show()"
   ]
  },
  {
   "cell_type": "code",
   "execution_count": 100,
   "metadata": {},
   "outputs": [
    {
     "data": {
      "image/png": "[encoded data removed]",
      "text/plain": [
       "<matplotlib.figure.Figure at 0x12217b630>"
      ]
     },
     "metadata": {},
     "output_type": "display_data"
    }
   ],
   "source": [
    "plot_val_bar(train_scores_solver, test_scores_solver, param_range_solver)"
   ]
  },
  {
   "cell_type": "code",
   "execution_count": 84,
   "metadata": {
    "collapsed": true
   },
   "outputs": [],
   "source": [
    "def plot_learning_curve(estimator, title, X, y, ylim=None, cv=None,\n",
    "                        n_jobs=1, train_sizes=np.linspace(.1, 1.0, 5)):\n",
    "    plt.figure()\n",
    "    plt.title(title)\n",
    "    if ylim is not None:\n",
    "        plt.ylim(*ylim)\n",
    "    plt.xlabel('Training examples')\n",
    "    plt.ylabel('Score')\n",
    "    train_sizes, train_scores, test_scores = learning_curve(\n",
    "        estimator, X, y, cv=cv, n_jobs=n_jobs, train_sizes=train_sizes,\n",
    "        scoring=math_scorer)\n",
    "    train_scores_mean = np.mean(train_scores, axis=1)\n",
    "    train_scores_std = np.std(train_scores, axis=1)\n",
    "    test_scores_mean = np.mean(test_scores, axis=1)\n",
    "    test_scores_std = np.std(test_scores, axis=1)\n",
    "    plt.grid()\n",
    "\n",
    "    plt.fill_between(train_sizes, train_scores_mean - train_scores_std,\n",
    "                     train_scores_mean + train_scores_std, alpha=0.1,\n",
    "                     color='darkorange')\n",
    "    plt.fill_between(train_sizes, test_scores_mean - test_scores_std,\n",
    "                     test_scores_mean + test_scores_std, alpha=0.1, color='navy')\n",
    "    plt.plot(train_sizes, train_scores_mean, 'o-', color='darkorange',\n",
    "             label='Training score')\n",
    "    plt.plot(train_sizes, test_scores_mean, 'o-', color='navy',\n",
    "             label='Cross-validation score')\n",
    "\n",
    "    plt.legend(loc='best')\n",
    "    return plt"
   ]
  },
  {
   "cell_type": "code",
   "execution_count": 85,
   "metadata": {},
   "outputs": [
    {
     "data": {
      "image/png": "[encoded data removed]",
      "text/plain": [
       "<matplotlib.figure.Figure at 0x1225ffd30>"
      ]
     },
     "metadata": {},
     "output_type": "display_data"
    }
   ],
   "source": [
    "title = 'Learning Curves with best Logistic regression estimator'\n",
    "# Cross validation with 100 iterations to get smoother mean test and train\n",
    "# score curves, each time with 20% data randomly selected as a validation set.\n",
    "\n",
    "cv = ShuffleSplit(n_splits=10, test_size=0.2, random_state=0)\n",
    "\n",
    "plot_learning_curve(lr, title, train_features, train_labels, \n",
    "                    ylim=(0, 1), cv=cv, n_jobs=-1)\n",
    "\n",
    "plt.show()"
   ]
  }
 ],
 "metadata": {
  "kernelspec": {
   "display_name": "Python 3",
   "language": "python",
   "name": "python3"
  },
  "language_info": {
   "codemirror_mode": {
    "name": "ipython",
    "version": 3
   },
   "file_extension": ".py",
   "mimetype": "text/x-python",
   "name": "python",
   "nbconvert_exporter": "python",
   "pygments_lexer": "ipython3",
   "version": "3.5.3"
  }
 },
 "nbformat": 4,
 "nbformat_minor": 2
}
