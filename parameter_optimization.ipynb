{
 "cells": [
  {
   "cell_type": "markdown",
   "metadata": {},
   "source": [
    "# Algorithm comparison\n",
    "\n",
    "Identify the best machine learning algorithm for predicting what category a chemical from the test set belongs to"
   ]
  },
  {
   "cell_type": "markdown",
   "metadata": {
    "collapsed": true
   },
   "source": [
    "### Get the data  from [property_calculations](property_calculations.ipynb) and preprocess according to [feature_preprocessing](feature_preprocessing.ipynb)"
   ]
  },
  {
   "cell_type": "code",
   "execution_count": 3,
   "metadata": {},
   "outputs": [],
   "source": [
    "import numpy as np\n",
    "import matplotlib.pyplot as plt\n",
    "import os.path as path\n",
    "import pickle\n",
    "\n",
    "# Load property_array from property_calculations FEMA-JECFA database\n",
    "BASE_DATA_PATH = path.join(path.expanduser('~'),\n",
    "                           'Dropbox',\n",
    "                           'bymt',\n",
    "                           'data_dumps',\n",
    "                           'chem_project')\n",
    "\n",
    "dataset_path = path.join(BASE_DATA_PATH,\n",
    "                         'property_calculations',\n",
    "                         'dataset.pkl')\n",
    "\n",
    "with open(dataset_path, 'rb') as f:\n",
    "    dataset = pickle.load(f)\n",
    "    \n",
    "train_features = dataset['train features']\n",
    "train_labels = dataset['train labels']"
   ]
  },
  {
   "cell_type": "markdown",
   "metadata": {},
   "source": [
    "### Test on different classifiers"
   ]
  },
  {
   "cell_type": "code",
   "execution_count": 57,
   "metadata": {},
   "outputs": [],
   "source": [
    "#Scoring function\n",
    "from sklearn.model_selection import cross_val_score, StratifiedKFold\n",
    "from sklearn.metrics import classification_report, accuracy_score,\\\n",
    "                            precision_score, recall_score\n",
    "import scipy.stats as st\n",
    "import warnings\n",
    "\n",
    "def t_delta(percent, scores):\n",
    "    \"\"\"\n",
    "    Returns the size of a t-test error bar that defines a given percent confidence interval \n",
    "    \"\"\"\n",
    "    mean, sem = np.mean(scores), st.sem(scores)\n",
    "    interval = st.t.interval(percent/float(100), len(scores)-1, loc=mean, scale=sem)\n",
    "    delta = mean - interval[0]\n",
    "    return delta\n",
    "\n",
    "\n",
    "def scores(clf,\n",
    "           features, labels,\n",
    "           score_types, \n",
    "           title='estimator', printout=True):\n",
    "    \"\"\"\n",
    "    Generates a dictionary with cross_validation scores  and summary statistics\n",
    "    for a given clf (estimator), features, and labels\n",
    "    \"\"\"\n",
    "    \n",
    "    if printout:\n",
    "        print('\\n{}:' .format(title))\n",
    "    \n",
    "    summary_dict = {title: {}}\n",
    "\n",
    "    cv = StratifiedKFold(n_splits=3, shuffle=True, random_state=41)\n",
    "\n",
    "    for scoring in score_types:\n",
    "        scores = cross_val_score(clf, features, labels, cv=cv, scoring=scoring)\n",
    "        mean =  np.mean(scores)\n",
    "        # t-test 95% confidence interval\n",
    "        delta = t_delta(95, scores)\n",
    "\n",
    "        summary_dict[title][scoring] = (mean, delta)\n",
    "\n",
    "        if printout:\n",
    "            print('-', scoring, scores)\n",
    "            print('Mean: {:.2f} (+/-{:.2f})' .format(mean, delta))\n",
    "\n",
    "    return summary_dict"
   ]
  },
  {
   "cell_type": "markdown",
   "metadata": {},
   "source": [
    "First on Gaussian Naive Bayes, which doesn't have hyperparamters to tune"
   ]
  },
  {
   "cell_type": "code",
   "execution_count": 49,
   "metadata": {
    "collapsed": true
   },
   "outputs": [],
   "source": [
    "from sklearn.preprocessing import Imputer, StandardScaler, PolynomialFeatures\n",
    "from sklearn.feature_selection import SelectPercentile, f_classif\n",
    "from sklearn.pipeline import Pipeline\n",
    "from sklearn.naive_bayes import GaussianNB\n",
    "\n",
    "steps = [('imputer', Imputer(strategy='mean')),\n",
    "         ('scaler', StandardScaler()),\n",
    "         ('polynomial', PolynomialFeatures(2, include_bias=False)),\n",
    "         ('selector', SelectPercentile(f_classif, percentile=10)),\n",
    "         ('estimator', GaussianNB())]\n",
    "\n",
    "pipe = Pipeline(steps)"
   ]
  },
  {
   "cell_type": "code",
   "execution_count": 58,
   "metadata": {},
   "outputs": [
    {
     "name": "stdout",
     "output_type": "stream",
     "text": [
      "\n",
      "NaiveBayes:\n",
      "- accuracy [ 0.43984221  0.38856016  0.41188119]\n",
      "Mean: 0.41 (+/-0.06)\n",
      "- precision_macro [ 0.54971185  0.48648352  0.49605493]\n",
      "Mean: 0.51 (+/-0.08)\n",
      "- recall_macro [ 0.6122237   0.50976349  0.54827036]\n",
      "Mean: 0.56 (+/-0.13)\n"
     ]
    }
   ],
   "source": [
    "score_types = ['accuracy', \n",
    "               'precision_macro',\n",
    "               'recall_macro']\n",
    "\n",
    "with warnings.catch_warnings():\n",
    "    warnings.simplefilter('ignore')\n",
    "    nb_scores = scores(pipe, \n",
    "                       train_features, train_labels,\n",
    "                       score_types, \n",
    "                       title = 'NaiveBayes')"
   ]
  },
  {
   "cell_type": "markdown",
   "metadata": {},
   "source": [
    "Next test on support vector machines, AdaBoost, Extra Random Forest, Random Forest, and Logistic Regression classifiers"
   ]
  },
  {
   "cell_type": "code",
   "execution_count": 102,
   "metadata": {},
   "outputs": [],
   "source": [
    "### Try a variety of classifiers\n",
    "\n",
    "def multi_tester(step_list, clf_list, score_types):\n",
    "    \"\"\"\n",
    "    Runs scores function on all clfs in clf_list.\n",
    "    Preappends the steps in step_list to make a pipeline with clf at the end.\n",
    "    Returns a scores list for each clf and a pipe_dict of all the pipes generated\n",
    "    \"\"\"\n",
    "    pipe_dict = {}\n",
    "    scores_list = []\n",
    "    for clf in clf_list:\n",
    "        new_steps = step_list[:]\n",
    "        new_steps.append(('estimator', clf))\n",
    "        new_pipe = Pipeline(new_steps)\n",
    "        title = str(type(clf))    \n",
    "        title = title.split('.')[-1][:-2]\n",
    "        pipe_dict[title] = new_pipe\n",
    "        scores_list.append(scores(new_pipe, train_features,\n",
    "                                  train_labels, score_types,\n",
    "                                  title=title, printout=False))\n",
    "    return scores_list, pipe_dict"
   ]
  },
  {
   "cell_type": "code",
   "execution_count": 103,
   "metadata": {},
   "outputs": [],
   "source": [
    "from sklearn.svm import SVC \n",
    "from sklearn.ensemble import RandomForestClassifier, ExtraTreesClassifier, AdaBoostClassifier\n",
    "from sklearn.linear_model import LogisticRegression\n",
    "\n",
    "step_list = [('imputer', Imputer(strategy='mean')),\n",
    "         ('scaler', StandardScaler()),\n",
    "         ('polynomial', PolynomialFeatures(2, include_bias=False)),\n",
    "         ('selector', SelectPercentile(f_classif, percentile=10))]\n",
    "\n",
    "clf_list = [GaussianNB(),\n",
    "            SVC(),\n",
    "            AdaBoostClassifier(),\n",
    "            ExtraTreesClassifier(),\n",
    "            RandomForestClassifier(),\n",
    "            LogisticRegression()]\n",
    "\n",
    "score_types = ['accuracy', \n",
    "               'precision_macro',\n",
    "               'recall_macro']\n",
    "\n",
    "with warnings.catch_warnings():\n",
    "    warnings.simplefilter('ignore')\n",
    "    scores_list, pipe_dict = multi_tester(step_list, clf_list, score_types)"
   ]
  },
  {
   "cell_type": "markdown",
   "metadata": {},
   "source": [
    "### Visualize the different algorithm scores testing"
   ]
  },
  {
   "cell_type": "code",
   "execution_count": 92,
   "metadata": {},
   "outputs": [],
   "source": [
    "def initialize_plot_dicto(dicto):\n",
    "    \"\"\"\n",
    "    Initialize a flat plot_dicto with keys from dicto and epmty lists\n",
    "    \"\"\"\n",
    "    og_key = list(dicto.keys())[0]\n",
    "    keys = ['clf'] + list(dicto[og_key].keys())\n",
    "    plot_dicto = {key: [] for key in keys}\n",
    "    return plot_dicto\n",
    "\n",
    "def build_plot_dicto(plot_dicto, scores_list):\n",
    "    \"\"\"\n",
    "    Add values to plot_dicto from scores list\n",
    "    \"\"\"\n",
    "    \n",
    "    for dicto in scores_list:\n",
    "        og_key = list(dicto.keys())[0]\n",
    "        plot_dicto['clf'].append(og_key)\n",
    "        keys = list(plot_dicto.keys())\n",
    "        keys.remove('clf')\n",
    "        for key in keys:\n",
    "            plot_dicto[key].append(dicto[og_key][key])\n",
    "    \n",
    "    return plot_dicto"
   ]
  },
  {
   "cell_type": "code",
   "execution_count": 99,
   "metadata": {},
   "outputs": [
    {
     "name": "stdout",
     "output_type": "stream",
     "text": [
      "plot_dicto = {'recall_macro': [(0.55675251566111694, 0.12856423312860116), (0.42290422788325638, 0.0084628313637376551), (0.49961415476620402, 0.049669934604814725), (0.5025813751125271, 0.068702927720942886), (0.47509696059738804, 0.061917602904851321), (0.51001491297928025, 0.093860683924294697)], 'precision_macro': [(0.5107500985933533, 0.084658329042625546), (0.55571843544395894, 0.24299057678232139), (0.52388806645439145, 0.060446257788549673), (0.54361602723705771, 0.063516626705763524), (0.58056405755177998, 0.10507396782827383), (0.54487727784783979, 0.084463120537438596)], 'clf': ['GaussianNB', 'SVC', 'AdaBoostClassifier', 'ExtraTreesClassifier', 'RandomForestClassifier', 'LogisticRegression'], 'accuracy': [(0.41342785166090573, 0.063782688252627284), (0.69057615820753682, 0.018708430298698842), (0.62734001210771961, 0.076487825237209983), (0.66228445329740071, 0.043036798692910549), (0.67278822556811901, 0.038026755693134406), (0.65040326517858882, 0.040347481955676168)]}\n"
     ]
    }
   ],
   "source": [
    "init_plot_dicto = initialize_plot_dicto(scores_list[0])\n",
    "plot_dicto = build_plot_dicto(init_plot_dicto, scores_list)\n",
    "print('plot_dicto = {}' .format(plot_dicto))"
   ]
  },
  {
   "cell_type": "code",
   "execution_count": 105,
   "metadata": {},
   "outputs": [
    {
     "data": {
      "image/png": "[encoded data removed]",
      "text/plain": [
       "<matplotlib.figure.Figure at 0x10e65ed30>"
      ]
     },
     "metadata": {},
     "output_type": "display_data"
    }
   ],
   "source": [
    "clfs = plot_dicto['clf']\n",
    "score_list = list(plot_dicto.keys())\n",
    "score_list.remove('clf')\n",
    "colors = ['#EE3224', '#F78F1E', '#FFC222']\n",
    "\n",
    "pos = list(range(len(clfs)))\n",
    "width = 0.25\n",
    "\n",
    "plt.close('all')\n",
    "fig, ax = plt.subplots(figsize=(10,7))\n",
    "for i, score in enumerate(score_list):\n",
    "    value = plot_dicto[score]\n",
    "    means, stds = zip(*value)\n",
    "    plt.bar([p + width*i for p in pos],\n",
    "            means,\n",
    "            width,\n",
    "            yerr=stds,\n",
    "            alpha=0.5,\n",
    "            color=colors[i],\n",
    "            label=score)\n",
    "\n",
    "ax.set_ylabel('Score')\n",
    "ax.set_title('Unoptimized algorithm scores')\n",
    "ax.set_xticks([p + width for p in pos])\n",
    "ax.set_xticklabels(clfs, rotation=45, horizontalalignment='right')\n",
    "plt.xlim(min(pos)-width, max(pos)+width*4)\n",
    "\n",
    "plt.legend(loc='upper right')\n",
    "plt.grid()\n",
    "plt.show()"
   ]
  },
  {
   "cell_type": "code",
   "execution_count": 64,
   "metadata": {},
   "outputs": [
    {
     "data": {
      "text/plain": [
       "['1', '22']"
      ]
     },
     "execution_count": 64,
     "metadata": {},
     "output_type": "execute_result"
    }
   ],
   "source": [
    "test = ['1']\n",
    "test.extend(['22'])\n",
    "test"
   ]
  },
  {
   "cell_type": "markdown",
   "metadata": {},
   "source": [
    "I will focus on the Support Vector Machine, AdaBoost and Logistic Regression classifiers. They gave the highest non-optimized scores. \n",
    "To find the best one I will exhaustively search all the possible combinations of several hyper-parameters and evaluate them with cross-validation"
   ]
  },
  {
   "cell_type": "code",
   "execution_count": 25,
   "metadata": {
    "collapsed": true
   },
   "outputs": [],
   "source": [
    "from sklearn.tree import DecisionTreeClassifier\n",
    "from sklearn.pipeline import Pipeline \n",
    "\n",
    "pipe = Pipeline(steps=[('estimator', None)])\n",
    "\n",
    "SV = SVC(random_state=42)\n",
    "SV_params = {'estimator': [SV],\n",
    "             'estimator__C': [1e-2, 1e-1, 1, 1e1, 1e2],\n",
    "             'estimator__kernel': ['linear', 'rbf'],\n",
    "             'estimator__tol': [1e-4, 5e-4, 1e-3],\n",
    "             'estimator__class_weight': [None, 'balanced']}\n",
    "\n",
    "DTC = DecisionTreeClassifier(random_state=42)\n",
    "ABC = AdaBoostClassifier(base_estimator=DTC, random_state=42)\n",
    "ABC_params = {'estimator': [ABC],\n",
    "              'estimator__base_estimator__max_depth': [None, 3, 6, 12, 24, 48],\n",
    "              'estimator__base_estimator__min_samples_leaf': [1, 2, 4, 8, 16],\n",
    "              'estimator__base_estimator__class_weight': [None, 'balanced'],\n",
    "              'estimator__n_estimators': [25, 50, 100, 250],\n",
    "              'estimator__learning_rate': [0.01, 0.1, 1, 10]}\n",
    "\n",
    "LR = LogisticRegression(solver='lbfgs')\n",
    "LR_params = {'estimator': [LR],\n",
    "             'estimator__C': [1e-2, 1e-1, 1, 1e1, 1e2],\n",
    "             'estimator__class_weight': [None, 'balanced'],\n",
    "             'estimator__max_iter': [100, 200],\n",
    "             'estimator__tol': [1e-4, 5e-4, 1e-3],\n",
    "             'estimator__warm_start': [False, True]}\n",
    "\n",
    "all_params = [SV_params, ABC_params, LR_params]"
   ]
  },
  {
   "cell_type": "code",
   "execution_count": 82,
   "metadata": {},
   "outputs": [
    {
     "name": "stdout",
     "output_type": "stream",
     "text": [
      "Fitting 4 folds for each of 1140 candidates, totalling 4560 fits\n"
     ]
    },
    {
     "name": "stderr",
     "output_type": "stream",
     "text": [
      "[Parallel(n_jobs=-1)]: Done 128 tasks      | elapsed:    2.6s\n",
      "[Parallel(n_jobs=-1)]: Done 488 tasks      | elapsed:   59.2s\n",
      "[Parallel(n_jobs=-1)]: Done 738 tasks      | elapsed:  2.4min\n",
      "[Parallel(n_jobs=-1)]: Done 1189 tasks      | elapsed:  4.7min\n",
      "[Parallel(n_jobs=-1)]: Done 1994 tasks      | elapsed:  7.7min\n",
      "[Parallel(n_jobs=-1)]: Done 2753 tasks      | elapsed: 11.1min\n",
      "[Parallel(n_jobs=-1)]: Done 3762 tasks      | elapsed: 15.2min\n",
      "[Parallel(n_jobs=-1)]: Done 4560 out of 4560 | elapsed: 17.5min finished\n"
     ]
    }
   ],
   "source": [
    "from sklearn.model_selection import GridSearchCV\n",
    "import warnings\n",
    "with warnings.catch_warnings():\n",
    "    warnings.simplefilter(\"ignore\")\n",
    "    \n",
    "    all_grid = GridSearchCV(pipe,\n",
    "                           param_grid=all_params,\n",
    "                           cv=4,\n",
    "                           verbose=1,\n",
    "                           n_jobs=-1,\n",
    "                           scoring='f1')\n",
    "    \n",
    "    all_grid.fit(train_features, train_labels)"
   ]
  },
  {
   "cell_type": "markdown",
   "metadata": {},
   "source": [
    "Save the search results"
   ]
  },
  {
   "cell_type": "code",
   "execution_count": 184,
   "metadata": {
    "collapsed": true
   },
   "outputs": [],
   "source": [
    "grid_path = os.path.join(DATA_PATH, 'all_grid.pkl')\n",
    "\n",
    "with open(grid_path, 'wb') as f:\n",
    "    pickle.dump(all_grid, f, protocol=pickle.HIGHEST_PROTOCOL)"
   ]
  },
  {
   "cell_type": "markdown",
   "metadata": {},
   "source": [
    "Analyze the search results based on:\n",
    "- Raw scores\n",
    "- t-test probability that they will be above the 0.3 f1 score threshhold"
   ]
  },
  {
   "cell_type": "code",
   "execution_count": 87,
   "metadata": {
    "collapsed": true
   },
   "outputs": [],
   "source": [
    "def find_top_scores(grid, class_types, cutoff=5, cv=4, verbose=False):\n",
    "    \"\"\"\n",
    "    List the top scores from a fitted gridCV search\n",
    "    \n",
    "    returns list of tuples with (rank, estimator_label, test_scores, real index)\n",
    "    \"\"\"\n",
    "\n",
    "    grid_results = grid.cv_results_\n",
    "\n",
    "    score_keys = []\n",
    "    end_str = '_test_score'\n",
    "    start_str = 'split'\n",
    "    for num in range(cv):\n",
    "        complete_str = start_str+str(num)+end_str\n",
    "        score_keys.append(complete_str)\n",
    "\n",
    "    ranks = grid_results['rank_test_score']\n",
    "    names_scores = []\n",
    "    \n",
    "    for rank in range(1,cutoff+1):\n",
    "        \n",
    "        idx_list = np.where(ranks == rank)[0]\n",
    "        # More than one estimator can have the same rank\n",
    "        for i in idx_list:\n",
    "            try:\n",
    "                estimator = grid_results['params'][i]['estimator']\n",
    "            except KeyError:\n",
    "                estimator = class_types[0][0]()\n",
    "            \n",
    "            for tup in class_types:\n",
    "                if isinstance(estimator, tup[0]):\n",
    "                    estimator_label = tup[1]\n",
    "           \n",
    "            test_scores = []\n",
    "            for key in score_keys:\n",
    "                test_scores.append(grid_results[key][i])\n",
    "            \n",
    "            if verbose:\n",
    "                print(estimator_label)\n",
    "                print np.mean(test_scores), np.std(test_scores)\n",
    "            \n",
    "            names_scores.append((rank, estimator_label, test_scores, i))\n",
    "    \n",
    "    return names_scores"
   ]
  },
  {
   "cell_type": "code",
   "execution_count": 31,
   "metadata": {
    "collapsed": true
   },
   "outputs": [],
   "source": [
    "class_types = [(SVC, 'SVC'), (AdaBoostClassifier, 'AdaBoost'), [LogisticRegression, 'LR']]\n",
    "top_scores = find_top_scores(all_grid, class_types, cutoff=250)"
   ]
  },
  {
   "cell_type": "code",
   "execution_count": 33,
   "metadata": {
    "collapsed": true
   },
   "outputs": [],
   "source": [
    "import matplotlib.patches as mpatches\n",
    "\n",
    "def plot_scores(score_list):\n",
    "    \"\"\"\n",
    "    plots scores from score_list generated by find_top_scores\n",
    "    \n",
    "    score_list should be a list of tuples in the form:\n",
    "    tup[0] = rank\n",
    "    tup[1] = estimator label string\n",
    "    tup[2] = list of scores\n",
    "    tup[3] = real_index\n",
    "    \"\"\"\n",
    "    \n",
    "    ranks = [tup[0] for tup in score_list]\n",
    "    labels = [tup[1] for tup in score_list]\n",
    "    scores = [tup[2] for tup in score_list]\n",
    "    means = [np.mean(x) for x in scores]\n",
    "    deltas = [t_delta(95, x) for x in scores]\n",
    "    \n",
    "    plt.close('all')\n",
    "    ind = len(score_list)\n",
    "    fig = plt.figure(1, figsize=(10, 7), tight_layout=True)\n",
    "    ax = fig.gca(title='Estimator scores',\n",
    "                 xlabel='Rank',\n",
    "                 xlim=[-1, ind],\n",
    "                 xticks=range(ind),\n",
    "                 ylabel='average score')\n",
    "    bar_list = ax.bar(range(ind), means, yerr=deltas, align='center')\n",
    "    ax.set_xticklabels(ranks)\n",
    "    ax.hlines(0.3, ax.get_xlim()[0], ax.get_xlim()[1], linestyles='dashed', colors='r')\n",
    "    # color bar based on label selected features red\n",
    "    color_dict = {'AdaBoost': 'b',\n",
    "                  'SVC': 'g',\n",
    "                  'LR': 'm'}\n",
    "    for i, name in enumerate(labels):\n",
    "        bar_list[i].set_color(color_dict[name])\n",
    "        \n",
    "    # create custom legend\n",
    "    blue_patch = mpatches.Patch(color='blue', label='Adaboost')\n",
    "    green_patch = mpatches.Patch(color='green', label='SVC')\n",
    "    magenta_patch = mpatches.Patch(color='magenta', label='LR')\n",
    "    plt.legend(handles=[blue_patch, green_patch, magenta_patch])\n",
    "    plt.show()"
   ]
  },
  {
   "cell_type": "code",
   "execution_count": 34,
   "metadata": {
    "scrolled": true
   },
   "outputs": [
    {
     "name": "stderr",
     "output_type": "stream",
     "text": [
      "/Users/TRN/anaconda/envs/ml27/lib/python2.7/site-packages/matplotlib/figure.py:1743: UserWarning: This figure includes Axes that are not compatible with tight_layout, so its results might be incorrect.\n",
      "  warnings.warn(\"This figure includes Axes that are not \"\n"
     ]
    },
    {
     "data": {
      "image/png": "[encoded data removed]",
      "text/plain": [
       "<matplotlib.figure.Figure at 0x104584310>"
      ]
     },
     "metadata": {},
     "output_type": "display_data"
    }
   ],
   "source": [
    "plot_scores(top_scores)"
   ]
  },
  {
   "cell_type": "markdown",
   "metadata": {},
   "source": [
    "The most highly ranked estimators also have a very large confidence interval. I would rather focus on slightly lower scores that are more likely to be above the 0.3 f1 score threshold. Will use t-test statistics to determine the best estimator based on that."
   ]
  },
  {
   "cell_type": "code",
   "execution_count": 37,
   "metadata": {
    "collapsed": true
   },
   "outputs": [],
   "source": [
    "from scipy.stats import variation\n",
    "\n",
    "def t_score(score, cutoff=0.3):\n",
    "    mean, sem = np.mean(score), st.sem(score)\n",
    "    val = st.t.cdf(0.3, len(score)-1, loc=mean, scale=sem)\n",
    "    return val\n",
    "\n",
    "def rank_by_t_score(score_list):\n",
    "    \"\"\"\n",
    "    sorts score list by t-score\n",
    "    \n",
    "    score_list should be a list of tuples in the form:\n",
    "    tup[0] = rank\n",
    "    tup[1] = estimator label string\n",
    "    tup[2] = list of scores\n",
    "    tup[3] = real_index\n",
    "    \"\"\"\n",
    "    ranks = [tup[0] for tup in score_list]\n",
    "    labels = [tup[1] for tup in score_list]\n",
    "    scores = [tup[2] for tup in score_list]\n",
    "    real_is = [tup[3] for tup in score_list]\n",
    "    ts = [t_score(score) for score in scores]\n",
    "    \n",
    "    all_list = zip(ranks, labels, scores, real_is, ts)\n",
    "    \n",
    "    all_list = sorted(all_list, key=lambda tup: tup[4])\n",
    "    all_list = [tup[:4] for tup in all_list]\n",
    "    \n",
    "    return all_list"
   ]
  },
  {
   "cell_type": "code",
   "execution_count": 38,
   "metadata": {
    "collapsed": true,
    "scrolled": true
   },
   "outputs": [],
   "source": [
    "top_scores_t = rank_by_t_score(top_scores)"
   ]
  },
  {
   "cell_type": "code",
   "execution_count": 39,
   "metadata": {},
   "outputs": [
    {
     "data": {
      "image/png": "[encoded data removed]",
      "text/plain": [
       "<matplotlib.figure.Figure at 0x14427c4d0>"
      ]
     },
     "metadata": {},
     "output_type": "display_data"
    }
   ],
   "source": [
    "plot_scores(top_scores_t)"
   ]
  },
  {
   "cell_type": "code",
   "execution_count": 62,
   "metadata": {
    "collapsed": true
   },
   "outputs": [],
   "source": [
    "result_params = all_grid.cv_results_['params']\n",
    "top_t_cv_idxs = [tup[3] for tup in top_scores_t[:10]]\n",
    "\n",
    "def list_params(params, idxs):\n",
    "    constants = []\n",
    "    variables = []\n",
    "    keys = params[idxs[0]].keys()\n",
    "    keys.remove('estimator')\n",
    "    \n",
    "    for key in keys:\n",
    "        temp_list = []\n",
    "        for i in idxs:\n",
    "            temp_list.append(params[i][key])\n",
    "            set_list = set(temp_list)\n",
    "        if len(set_list) == 1:\n",
    "            constants.append((key, set_list))\n",
    "        else:\n",
    "            variables.append((key, temp_list))\n",
    "\n",
    "    print 'CONSTANTS:'\n",
    "    for cons in constants:\n",
    "        print cons[0], cons[1]\n",
    "    \n",
    "    print 'VARIABLES:'\n",
    "    for var in variables:\n",
    "        print var[0], var[1]"
   ]
  },
  {
   "cell_type": "code",
   "execution_count": 63,
   "metadata": {},
   "outputs": [
    {
     "name": "stdout",
     "output_type": "stream",
     "text": [
      "CONSTANTS:\n",
      "estimator__base_estimator__class_weight set(['balanced'])\n",
      "VARIABLES:\n",
      "estimator__learning_rate [0.01, 0.01, 0.01, 0.01, 0.01, 0.01, 0.01, 0.01, 1, 1]\n",
      "estimator__base_estimator__max_depth [3, 3, 3, 3, None, None, None, None, None, None]\n",
      "estimator__base_estimator__min_samples_leaf [1, 1, 1, 1, 2, 2, 2, 2, 2, 2]\n",
      "estimator__n_estimators [25, 50, 100, 250, 25, 50, 100, 250, 25, 50]\n"
     ]
    }
   ],
   "source": [
    "list_params(result_params, top_t_cv_idxs)"
   ]
  },
  {
   "cell_type": "markdown",
   "metadata": {},
   "source": [
    "Looks like AdaBoostClassifier is most likely to perform best when:\n",
    "- base estimator `class_weight` is 'balanced'\n",
    "- base estimator `max_depth` is 3 or None\n",
    "- base estimator `min_samples_leaf` is 1 or 2\n",
    "- `learning_rate` is 0.01 or 1\n",
    "\n",
    "- `n_estimators` can be any of the values tested, so will stick to the lowest: 25"
   ]
  },
  {
   "cell_type": "markdown",
   "metadata": {},
   "source": [
    "Confirm that the best estimator does, in fact perform well on the test features. If it does it indicates that the training process has not resulted in an overfit estimator"
   ]
  },
  {
   "cell_type": "code",
   "execution_count": 97,
   "metadata": {},
   "outputs": [
    {
     "name": "stdout",
     "output_type": "stream",
     "text": [
      "             precision    recall  f1-score   support\n",
      "\n",
      "        0.0       1.00      0.91      0.95        57\n",
      "        1.0       0.38      1.00      0.55         3\n",
      "\n",
      "avg / total       0.97      0.92      0.93        60\n",
      "\n"
     ]
    }
   ],
   "source": [
    "best = result_params[top_t_cv_idxs[0]]['estimator']\n",
    "best.fit(train_features, train_labels)\n",
    "pred = best.predict(test_features)\n",
    "print classification_report(pred, test_labels)"
   ]
  },
  {
   "cell_type": "markdown",
   "metadata": {},
   "source": [
    "Looks good!"
   ]
  },
  {
   "cell_type": "markdown",
   "metadata": {},
   "source": [
    "### Dump classifier, dataset, and features_list so that results can be tested using the course tester function in the [summary](summary.ipynb) notebook"
   ]
  },
  {
   "cell_type": "code",
   "execution_count": 109,
   "metadata": {
    "collapsed": true
   },
   "outputs": [],
   "source": [
    "import tools.tester\n",
    "\n",
    "dump_classifier_and_data(best, final_data, final_names)"
   ]
  }
 ],
 "metadata": {
  "kernelspec": {
   "display_name": "Python 3",
   "language": "python",
   "name": "python3"
  },
  "language_info": {
   "codemirror_mode": {
    "name": "ipython",
    "version": 3
   },
   "file_extension": ".py",
   "mimetype": "text/x-python",
   "name": "python",
   "nbconvert_exporter": "python",
   "pygments_lexer": "ipython3",
   "version": "3.5.3"
  }
 },
 "nbformat": 4,
 "nbformat_minor": 2
}
