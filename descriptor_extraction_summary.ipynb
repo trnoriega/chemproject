{
 "cells": [
  {
   "cell_type": "markdown",
   "metadata": {},
   "source": [
    "# Flavor chemical database creator\n",
    "\n",
    "This notebook summarizes the steps I took to create a database of flavor chemicals and their flavor descriptors based on information found in two sources:\n",
    "\n",
    "1) The Flavor and Extract Manufacturers Association (FEMA) website\n",
    "\n",
    "2) The Joint FAO/WHO Expert Committee on Food Additives  (JECFA) website\n",
    "\n",
    "\n",
    "### The FEMA website\n",
    "\n",
    "The FEMA website contains a series of [library pages](https://www.femaflavor.org/flavor/library?page=) that list all of the FEMA chemicals.\n",
    "\n",
    "\n",
    "Each chemical then has its own page (for example, [acetic acid](https://www.femaflavor.org/acetic-acid-2)) from which I will extract:\n",
    "- Flavor descriptors\n",
    "- Chemical Abstracts Service (CAS) registry number\n",
    "- JECFA number\n",
    "- US Government's Code of Ferderal Regulations (CFR) citation\n",
    "\n",
    "The scripts used to extract the information from the FEMA website can be found in the [fema_extraction](fema_extraction.ipynb) notebook\n",
    "\n",
    "\n",
    "### The JECFA website\n",
    "\n",
    "The JECFA website contains an [index](http://www.fao.org/food/food-safety-quality/scientific-advice/jecfa/jecfa-flav/browse-alphabetically/en/) with all of the chemicals for which it has information.\n",
    "\n",
    "Each chemical then has its own page (for example, [acetic acid]http://www.fao.org/food/food-safety-quality/scientific-advice/jecfa/jecfa-flav/details/en/c/3/) from which I will extract:\n",
    "- Odor\n",
    "- Physical form\n",
    "- Synonyms\n",
    "- JECFA, CAS, FEMA numbers\n",
    "\n",
    "The scripts used to extract the information from the JECFA website can be found in the [jecfa_extraction](jecfa_extraction.ipynb) notebook"
   ]
  }
 ],
 "metadata": {
  "kernelspec": {
   "display_name": "Python 3",
   "language": "python",
   "name": "python3"
  },
  "language_info": {
   "codemirror_mode": {
    "name": "ipython",
    "version": 3
   },
   "file_extension": ".py",
   "mimetype": "text/x-python",
   "name": "python",
   "nbconvert_exporter": "python",
   "pygments_lexer": "ipython3",
   "version": "3.5.3"
  }
 },
 "nbformat": 4,
 "nbformat_minor": 2
}
