{
 "cells": [
  {
   "cell_type": "markdown",
   "metadata": {},
   "source": [
    "# Property calculations\n",
    "\n",
    "The RDKit allows for the calculation of several quantitative chemical properties. These in turn can be used as parameters for machine learning. \n",
    "The scripts below use the RDKit to calculate properties for all of the chemicals labeled in the [descriptor_clustering](descriptor_clustering.ipynb) notebook. "
   ]
  },
  {
   "cell_type": "code",
   "execution_count": 1,
   "metadata": {
    "collapsed": true
   },
   "outputs": [],
   "source": [
    "import os.path as path\n",
    "import pickle\n",
    "\n",
    "# Load merged FEMA-JECFA database\n",
    "BASE_DATA_PATH = path.join(path.expanduser('~'),\n",
    "                           'Dropbox',\n",
    "                           'bymt',\n",
    "                           'data_dumps',\n",
    "                           'chem_project')\n",
    "\n",
    "labeled_chemicals_path = path.join(BASE_DATA_PATH,\n",
    "                                  'descriptor_clustering',\n",
    "                                  'labeled_chemicals.pkl')\n",
    "with open(labeled_chemicals_path, 'rb') as f:\n",
    "    labeled_chemicals = pickle.load(f)\n",
    "    \n",
    "DATA_PATH = path.join(BASE_DATA_PATH, 'property_calculations')"
   ]
  },
  {
   "cell_type": "code",
   "execution_count": 19,
   "metadata": {},
   "outputs": [
    {
     "name": "stdout",
     "output_type": "stream",
     "text": [
      "207\n"
     ]
    }
   ],
   "source": [
    "from rdkit.Chem import Descriptors\n",
    "import types\n",
    "\n",
    "functions = [(a, Descriptors.__dict__.get(a)) for a in dir(Descriptors)\\\n",
    "             if isinstance(Descriptors.__dict__.get(a), types.FunctionType)]\n",
    "\n",
    "to_remove = ['_isCallable', '_setupDescriptors', '_test']\n",
    "\n",
    "functions = [tup for tup in functions if tup[0] not in to_remove]\n",
    "\n",
    "print(len(functions))"
   ]
  },
  {
   "cell_type": "code",
   "execution_count": 20,
   "metadata": {},
   "outputs": [],
   "source": [
    "from copy import deepcopy\n",
    "\n",
    "def property_calculator(dicto_list, function_list):\n",
    "    \"\"\"\n",
    "    Applies functions in the function list to rdkit molecules in the chemical dictionaries\n",
    "    in dicto_list\n",
    "    \n",
    "    dicto_list should have dictos with an 'rdkit mol' value\n",
    "    function_list is a list of tuples with:\n",
    "    -tup[0] = function name\n",
    "    -tup[1] = callable function\n",
    "    \n",
    "    returns: copy of dicto_list with calculated properties added to each dicto\n",
    "    \"\"\"\n",
    "    new_list = deepcopy(dicto_list)\n",
    "    for dicto in new_list:\n",
    "        mol = dicto.get('rdkit mol')\n",
    "        for function in functions:\n",
    "            try:\n",
    "                dicto[function[0]] = function[1](mol)\n",
    "            except:\n",
    "                dicto[function[0]] = 'NaN'\n",
    "    return new_list         "
   ]
  },
  {
   "cell_type": "code",
   "execution_count": 21,
   "metadata": {},
   "outputs": [],
   "source": [
    "propertied_chemicals = property_calculator(labeled_chemicals, functions)"
   ]
  },
  {
   "cell_type": "code",
   "execution_count": 23,
   "metadata": {
    "scrolled": false
   },
   "outputs": [],
   "source": [
    "from rdkit.Chem.Fingerprints import FingerprintMols\n",
    "\n",
    "x = labeled_chemicals[0]['rdkit mol']\n",
    "fp = FingerprintMols.FingerprintMol(x)"
   ]
  },
  {
   "cell_type": "code",
   "execution_count": 24,
   "metadata": {},
   "outputs": [
    {
     "data": {
      "text/plain": [
       "<rdkit.DataStructs.cDataStructs.ExplicitBitVect at 0x10c0b79e0>"
      ]
     },
     "execution_count": 24,
     "metadata": {},
     "output_type": "execute_result"
    }
   ],
   "source": [
    "fp"
   ]
  },
  {
   "cell_type": "code",
   "execution_count": 25,
   "metadata": {},
   "outputs": [
    {
     "data": {
      "text/plain": [
       "<rdkit.DataStructs.cDataStructs.ExplicitBitVect at 0x10f3bd490>"
      ]
     },
     "execution_count": 25,
     "metadata": {},
     "output_type": "execute_result"
    }
   ],
   "source": [
    "from rdkit.Chem import MACCSkeys\n",
    "fp = MACCSkeys.GenMACCSKeys(x)\n",
    "fp"
   ]
  },
  {
   "cell_type": "code",
   "execution_count": null,
   "metadata": {
    "collapsed": true
   },
   "outputs": [],
   "source": []
  }
 ],
 "metadata": {
  "kernelspec": {
   "display_name": "Python 3",
   "language": "python",
   "name": "python3"
  },
  "language_info": {
   "codemirror_mode": {
    "name": "ipython",
    "version": 3
   },
   "file_extension": ".py",
   "mimetype": "text/x-python",
   "name": "python",
   "nbconvert_exporter": "python",
   "pygments_lexer": "ipython3",
   "version": "3.5.3"
  }
 },
 "nbformat": 4,
 "nbformat_minor": 2
}
