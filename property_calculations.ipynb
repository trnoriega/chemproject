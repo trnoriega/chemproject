{
 "cells": [
  {
   "cell_type": "markdown",
   "metadata": {},
   "source": [
    "# Property calculations\n",
    "\n",
    "The RDKit allows for the calculation of several quantitative chemical properties. These in turn can be used as parameters for machine learning. \n",
    "The scripts below use the RDKit to calculate properties for all of the chemicals labeled in the [descriptor_clustering](descriptor_clustering.ipynb) notebook. "
   ]
  },
  {
   "cell_type": "code",
   "execution_count": 1,
   "metadata": {
    "collapsed": true
   },
   "outputs": [],
   "source": [
    "import os.path as path\n",
    "import pickle\n",
    "\n",
    "# Load merged FEMA-JECFA database\n",
    "BASE_DATA_PATH = path.join(path.expanduser('~'),\n",
    "                           'Dropbox',\n",
    "                           'bymt',\n",
    "                           'data_dumps',\n",
    "                           'chem_project')\n",
    "\n",
    "labeled_chemicals_path = path.join(BASE_DATA_PATH,\n",
    "                                  'descriptor_clustering',\n",
    "                                  'labeled_chemicals_2.pkl')\n",
    "with open(labeled_chemicals_path, 'rb') as f:\n",
    "    labeled_chemicals = pickle.load(f)\n",
    "    \n",
    "DATA_PATH = path.join(BASE_DATA_PATH, 'fp', 'property_calculations')"
   ]
  },
  {
   "cell_type": "code",
   "execution_count": 2,
   "metadata": {},
   "outputs": [],
   "source": [
    "from rdkit import Chem, DataStructs\n",
    "from rdkit.Chem import AllChem\n",
    "from rdkit.Chem.Fingerprints import FingerprintMols\n",
    "from rdkit.Chem.AtomPairs import Pairs\n",
    "import numpy as np\n",
    "\n",
    "mols = [chemical['rdkit mol'] for chemical in labeled_chemicals]\n",
    "labels = np.array([chemical['label'] for chemical in labeled_chemicals])\n",
    "\n",
    "fp_types = {\n",
    "                'topological': {'function': AllChem.rdmolops.RDKFingerprint,\n",
    "                                'kwargs':{'fpSize':2048, 'minSize':2048}},\n",
    "                'morgan':{'function': AllChem.GetMorganFingerprintAsBitVect,\n",
    "                          'kwargs': {'radius': 2}},\n",
    "                'maccs':{'function': Chem.MACCSkeys.GenMACCSKeys,\n",
    "                         'kwargs': {}}\n",
    "            }\n",
    "\n",
    "fp_list = []\n",
    "for key in fp_types:\n",
    "    dicto = fp_types[key]\n",
    "    # generate fingeprints\n",
    "    fps = [dicto['function'](m, **dicto['kwargs']) for m in mols]\n",
    "\n",
    "    # convert the RDKit explicit vectors into numpy arrays\n",
    "    np_fps = []\n",
    "    for fp in fps:\n",
    "        arr = np.array([])\n",
    "        DataStructs.ConvertToNumpyArray(fp, arr)\n",
    "        arr = arr[None,:]\n",
    "        np_fps.append(arr)\n",
    "\n",
    "    fp_list.append(np.concatenate(np_fps, axis=0))"
   ]
  },
  {
   "cell_type": "code",
   "execution_count": 3,
   "metadata": {},
   "outputs": [
    {
     "data": {
      "text/plain": [
       "(2170, 4263)"
      ]
     },
     "execution_count": 3,
     "metadata": {},
     "output_type": "execute_result"
    }
   ],
   "source": [
    "fp_features = np.concatenate(fp_list, axis=1)\n",
    "fp_features.shape"
   ]
  },
  {
   "cell_type": "code",
   "execution_count": 4,
   "metadata": {},
   "outputs": [
    {
     "name": "stdout",
     "output_type": "stream",
     "text": [
      "206\n"
     ]
    }
   ],
   "source": [
    "from rdkit.Chem import Descriptors\n",
    "import types\n",
    "\n",
    "functions = [(a, Descriptors.__dict__.get(a)) for a in dir(Descriptors)\\\n",
    "             if isinstance(Descriptors.__dict__.get(a), types.FunctionType)]\n",
    "\n",
    "to_remove = ['_isCallable', '_setupDescriptors', '_test', '_ChargeDescriptors']\n",
    "\n",
    "functions = [tup for tup in functions if tup[0] not in to_remove]\n",
    "\n",
    "print(len(functions))"
   ]
  },
  {
   "cell_type": "code",
   "execution_count": 5,
   "metadata": {
    "collapsed": true
   },
   "outputs": [],
   "source": [
    "from copy import deepcopy\n",
    "\n",
    "def property_calculator(dicto_list, function_list):\n",
    "    \"\"\"\n",
    "    Applies functions in the function list to rdkit molecules in the chemical dictionaries\n",
    "    in dicto_list\n",
    "    \n",
    "    dicto_list should have dictos with an 'rdkit mol' value\n",
    "    function_list is a list of tuples with:\n",
    "    -tup[0] = function name\n",
    "    -tup[1] = callable function\n",
    "    \n",
    "    returns: copy of dicto_list with calculated properties added to each dicto\n",
    "    \"\"\"\n",
    "    new_list = deepcopy(dicto_list)\n",
    "    for dicto in new_list:\n",
    "        mol = dicto.get('rdkit mol')\n",
    "        for function in functions:\n",
    "            try:\n",
    "                dicto[function[0]] = function[1](mol)\n",
    "            except:\n",
    "                dicto[function[0]] = 'NaN'\n",
    "    return new_list         "
   ]
  },
  {
   "cell_type": "code",
   "execution_count": 6,
   "metadata": {
    "collapsed": true
   },
   "outputs": [],
   "source": [
    "propertied_chemicals = property_calculator(labeled_chemicals, functions)"
   ]
  },
  {
   "cell_type": "markdown",
   "metadata": {},
   "source": [
    "### Convert `propertied_chemicals` dictionary into a numpy array usable by sklearn."
   ]
  },
  {
   "cell_type": "code",
   "execution_count": 7,
   "metadata": {},
   "outputs": [
    {
     "name": "stdout",
     "output_type": "stream",
     "text": [
      "['label', 'Asphericity', 'BalabanJ', 'BertzCT', 'Chi0']\n"
     ]
    }
   ],
   "source": [
    "import numpy as np\n",
    "\n",
    "function_keys = ['label']\n",
    "function_keys += [tup[0] for tup in functions]\n",
    "print (function_keys[:5])"
   ]
  },
  {
   "cell_type": "code",
   "execution_count": 8,
   "metadata": {
    "collapsed": true
   },
   "outputs": [],
   "source": [
    "def array_maker(dicto_list, key_list):\n",
    "    \"\"\"\n",
    "    Converts the chemicals in dicto_list into a numpy array based on the \n",
    "    keys listed in key_list\n",
    "    \"\"\"\n",
    "    array_list = []\n",
    "    for dicto in dicto_list:\n",
    "        temp_list = []\n",
    "        for key in key_list:\n",
    "            temp_list.append(dicto.get(key, 'NaN'))\n",
    "        \n",
    "        temp_list = np.array(temp_list).astype(np.float32)\n",
    "        temp_list = temp_list[None,:]\n",
    "        array_list.append(temp_list)\n",
    "    final = np.concatenate(array_list, axis=0)\n",
    "    return final"
   ]
  },
  {
   "cell_type": "code",
   "execution_count": 9,
   "metadata": {
    "collapsed": true
   },
   "outputs": [],
   "source": [
    "test_array = array_maker(propertied_chemicals, function_keys)"
   ]
  },
  {
   "cell_type": "markdown",
   "metadata": {},
   "source": [
    "Remove properties that are either all zeroes or all NaN's"
   ]
  },
  {
   "cell_type": "code",
   "execution_count": 10,
   "metadata": {
    "collapsed": true
   },
   "outputs": [],
   "source": [
    "def empty_finder(property_array, function_keys):\n",
    "    \"\"\"\n",
    "    Returns a new version of function keys with the empty keys removed.\n",
    "    \"\"\"\n",
    "    new_keys = np.array(function_keys)\n",
    "    test_array = property_array[:]\n",
    "    nan_mask = np.where(np.isnan(test_array))\n",
    "    test_array[nan_mask] = 0\n",
    "    sums = np.sum(test_array, axis=0)\n",
    "    non_zero_mask = (sums != 0)\n",
    "    new_keys = new_keys[non_zero_mask]\n",
    "    return list(new_keys)"
   ]
  },
  {
   "cell_type": "code",
   "execution_count": 11,
   "metadata": {
    "collapsed": true
   },
   "outputs": [],
   "source": [
    "non_empty_keys = empty_finder(test_array, function_keys)"
   ]
  },
  {
   "cell_type": "code",
   "execution_count": 12,
   "metadata": {},
   "outputs": [
    {
     "name": "stdout",
     "output_type": "stream",
     "text": [
      "47 functions were removed because they provided either all zeros or all NaN values\n"
     ]
    }
   ],
   "source": [
    "print('{} functions were removed because they provided either all zeros or all NaN values'\n",
    "      .format(len(function_keys)-len(non_empty_keys)))"
   ]
  },
  {
   "cell_type": "markdown",
   "metadata": {},
   "source": [
    "Remake array with only the `non_empty_keys`"
   ]
  },
  {
   "cell_type": "code",
   "execution_count": 13,
   "metadata": {
    "collapsed": true
   },
   "outputs": [],
   "source": [
    "property_array = array_maker(propertied_chemicals, non_empty_keys)"
   ]
  },
  {
   "cell_type": "code",
   "execution_count": 14,
   "metadata": {},
   "outputs": [
    {
     "data": {
      "text/plain": [
       "(2170, 4423)"
      ]
     },
     "execution_count": 14,
     "metadata": {},
     "output_type": "execute_result"
    }
   ],
   "source": [
    "full_array = np.concatenate((property_array, fp_features), axis=1)\n",
    "full_array.shape"
   ]
  },
  {
   "cell_type": "markdown",
   "metadata": {},
   "source": [
    "### Break data into train and test sets to prevent overfitting models down the line"
   ]
  },
  {
   "cell_type": "code",
   "execution_count": 15,
   "metadata": {},
   "outputs": [
    {
     "name": "stdout",
     "output_type": "stream",
     "text": [
      "(2170,) (2170, 4422)\n"
     ]
    }
   ],
   "source": [
    "labels, features = full_array[:,0], full_array[:,1:]\n",
    "print(labels.shape, features.shape)"
   ]
  },
  {
   "cell_type": "code",
   "execution_count": 16,
   "metadata": {},
   "outputs": [
    {
     "name": "stdout",
     "output_type": "stream",
     "text": [
      "Samples in training set: 1519, in test set: 651\n",
      "Proportion of label 1 samples in training set: 0.13, in test set: 0.15\n"
     ]
    }
   ],
   "source": [
    "from sklearn.model_selection import train_test_split\n",
    "\n",
    "train_features, test_features, train_labels, test_labels =\\\n",
    "train_test_split(features, labels, test_size=0.3, random_state=42)\n",
    "\n",
    "print('Samples in training set: {}, in test set: {}'\n",
    "      .format(train_labels.shape[0], test_labels.shape[0]))\n",
    "print('Proportion of label 1 samples in training set: {}, in test set: {}'\n",
    "      .format(round(sum(train_labels == 1)/train_labels.shape[0],2),\n",
    "              round(sum(test_labels == 1)/test_labels.shape[0],2)))"
   ]
  },
  {
   "cell_type": "code",
   "execution_count": 17,
   "metadata": {
    "collapsed": true
   },
   "outputs": [],
   "source": [
    "dataset = {'train features': train_features,\n",
    "          'train labels': train_labels,\n",
    "          'test features': test_features,\n",
    "          'test labels': test_labels}\n",
    "\n",
    "dataset_path = path.join(DATA_PATH, 'dataset.pkl')\n",
    "\n",
    "with open(dataset_path, 'wb') as f:\n",
    "    pickle.dump(dataset, f, protocol=pickle.HIGHEST_PROTOCOL)"
   ]
  },
  {
   "cell_type": "code",
   "execution_count": 18,
   "metadata": {},
   "outputs": [],
   "source": [
    "from sklearn.model_selection import cross_val_score\n",
    "from sklearn.naive_bayes import BernoulliNB\n",
    "from sklearn.ensemble import RandomForestClassifier\n",
    "\n",
    "rf = RandomForestClassifier(n_estimators=100, random_state=42)\n",
    "clf = BernoulliNB()\n",
    "scores = cross_val_score(rf, train_features, train_labels, cv=5, scoring='f1')"
   ]
  },
  {
   "cell_type": "code",
   "execution_count": 19,
   "metadata": {
    "collapsed": true
   },
   "outputs": [],
   "source": [
    "import scipy.stats as st\n",
    "\n",
    "def mean_delta(percent, scores):\n",
    "    \"\"\"\n",
    "    Returns the size of a t-test error bar that defines a given percent confidence interval \n",
    "    \"\"\"\n",
    "    mean, sem = np.mean(scores), st.sem(scores)\n",
    "    interval = st.t.interval(percent/float(100), len(scores)-1, loc=mean, scale=sem)\n",
    "    delta = mean - interval[0]\n",
    "    return mean, delta"
   ]
  },
  {
   "cell_type": "code",
   "execution_count": 20,
   "metadata": {},
   "outputs": [
    {
     "name": "stdout",
     "output_type": "stream",
     "text": [
      "0.37-0.61\n"
     ]
    }
   ],
   "source": [
    "mean, delta = mean_delta(95, scores)\n",
    "print('{:.2f}-{:.2f}' .format(mean-delta, mean+delta))"
   ]
  }
 ],
 "metadata": {
  "kernelspec": {
   "display_name": "Python 3",
   "language": "python",
   "name": "python3"
  },
  "language_info": {
   "codemirror_mode": {
    "name": "ipython",
    "version": 3
   },
   "file_extension": ".py",
   "mimetype": "text/x-python",
   "name": "python",
   "nbconvert_exporter": "python",
   "pygments_lexer": "ipython3",
   "version": "3.5.3"
  }
 },
 "nbformat": 4,
 "nbformat_minor": 2
}
