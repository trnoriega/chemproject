{
 "cells": [
  {
   "cell_type": "markdown",
   "metadata": {},
   "source": [
    "# Property calculations\n",
    "\n",
    "The RDKit allows for the calculation of several quantitative chemical properties. These in turn can be used as parameters for machine learning. \n",
    "The scripts below use the RDKit to calculate properties for all of the chemicals labeled in the [descriptor_clustering](descriptor_clustering.ipynb) notebook. "
   ]
  },
  {
   "cell_type": "code",
   "execution_count": 1,
   "metadata": {
    "collapsed": true
   },
   "outputs": [],
   "source": [
    "import os.path as path\n",
    "import pickle\n",
    "\n",
    "# Load merged FEMA-JECFA database\n",
    "BASE_DATA_PATH = path.join(path.expanduser('~'),\n",
    "                           'Dropbox',\n",
    "                           'bymt',\n",
    "                           'data_dumps',\n",
    "                           'chem_project')\n",
    "\n",
    "labeled_chemicals_path = path.join(BASE_DATA_PATH,\n",
    "                                  'descriptor_clustering',\n",
    "                                  'labeled_chemicals.pkl')\n",
    "with open(labeled_chemicals_path, 'rb') as f:\n",
    "    labeled_chemicals = pickle.load(f)\n",
    "    \n",
    "DATA_PATH = path.join(BASE_DATA_PATH, 'property_calculations')"
   ]
  },
  {
   "cell_type": "code",
   "execution_count": 7,
   "metadata": {},
   "outputs": [],
   "source": [
    "from rdkit.Chem import Descriptors\n",
    "import types\n",
    "\n",
    "functions = [Descriptors.__dict__.get(a) for a in dir(Descriptors)\\\n",
    " if isinstance(Descriptors.__dict__.get(a), types.FunctionType)]"
   ]
  },
  {
   "cell_type": "code",
   "execution_count": 8,
   "metadata": {},
   "outputs": [
    {
     "ename": "RuntimeError",
     "evalue": "Pre-condition Violation\n\tmolecule has no conformers\n\tViolation occurred on line 199 in file Code/GraphMol/Descriptors/PMI.cpp\n\tFailed Expression: mol.getNumConformers() >= 1\n\tRDKIT: 2016.09.4\n\tBOOST: 1_56\n",
     "output_type": "error",
     "traceback": [
      "\u001b[0;31m---------------------------------------------------------------------------\u001b[0m",
      "\u001b[0;31mRuntimeError\u001b[0m                              Traceback (most recent call last)",
      "\u001b[0;32m<ipython-input-8-c32832ec3ed7>\u001b[0m in \u001b[0;36m<module>\u001b[0;34m()\u001b[0m\n\u001b[1;32m      1\u001b[0m \u001b[0mtest\u001b[0m \u001b[0;34m=\u001b[0m \u001b[0mlabeled_chemicals\u001b[0m\u001b[0;34m[\u001b[0m\u001b[0;36m0\u001b[0m\u001b[0;34m]\u001b[0m\u001b[0;34m[\u001b[0m\u001b[0;34m'rdkit mol'\u001b[0m\u001b[0;34m]\u001b[0m\u001b[0;34m\u001b[0m\u001b[0m\n\u001b[1;32m      2\u001b[0m \u001b[0;32mfor\u001b[0m \u001b[0mfunction\u001b[0m \u001b[0;32min\u001b[0m \u001b[0mfunctions\u001b[0m\u001b[0;34m:\u001b[0m\u001b[0;34m\u001b[0m\u001b[0m\n\u001b[0;32m----> 3\u001b[0;31m     \u001b[0mprint\u001b[0m\u001b[0;34m(\u001b[0m\u001b[0mfunction\u001b[0m\u001b[0;34m(\u001b[0m\u001b[0mtest\u001b[0m\u001b[0;34m)\u001b[0m\u001b[0;34m,\u001b[0m \u001b[0mend\u001b[0m\u001b[0;34m=\u001b[0m\u001b[0;34m', '\u001b[0m\u001b[0;34m)\u001b[0m\u001b[0;34m\u001b[0m\u001b[0m\n\u001b[0m",
      "\u001b[0;32m/Users/TRN/anaconda/envs/chemproject/lib/python3.5/site-packages/rdkit/Chem/Descriptors3D.py\u001b[0m in \u001b[0;36m<lambda>\u001b[0;34m(*x, **y)\u001b[0m\n\u001b[1;32m    149\u001b[0m         \u001b[0mcalculation\u001b[0m\u001b[0;34m.\u001b[0m \u001b[0mDefaults\u001b[0m \u001b[0mto\u001b[0m \u001b[0;32mTrue\u001b[0m\u001b[0;34m\u001b[0m\u001b[0m\n\u001b[1;32m    150\u001b[0m     \"\"\"\n\u001b[0;32m--> 151\u001b[0;31m   \u001b[0mAsphericity\u001b[0m \u001b[0;34m=\u001b[0m \u001b[0;32mlambda\u001b[0m \u001b[0;34m*\u001b[0m\u001b[0mx\u001b[0m\u001b[0;34m,\u001b[0m \u001b[0;34m**\u001b[0m\u001b[0my\u001b[0m\u001b[0;34m:\u001b[0m \u001b[0mrdMolDescriptors\u001b[0m\u001b[0;34m.\u001b[0m\u001b[0mCalcAsphericity\u001b[0m\u001b[0;34m(\u001b[0m\u001b[0;34m*\u001b[0m\u001b[0mx\u001b[0m\u001b[0;34m,\u001b[0m \u001b[0;34m**\u001b[0m\u001b[0my\u001b[0m\u001b[0;34m)\u001b[0m\u001b[0;34m\u001b[0m\u001b[0m\n\u001b[0m\u001b[1;32m    152\u001b[0m   \u001b[0mAsphericity\u001b[0m\u001b[0;34m.\u001b[0m\u001b[0mversion\u001b[0m \u001b[0;34m=\u001b[0m \u001b[0mrdMolDescriptors\u001b[0m\u001b[0;34m.\u001b[0m\u001b[0m_CalcAsphericity_version\u001b[0m\u001b[0;34m\u001b[0m\u001b[0m\n\u001b[1;32m    153\u001b[0m   Asphericity.__doc__ = \"\"\" molecular asphericity\n",
      "\u001b[0;31mRuntimeError\u001b[0m: Pre-condition Violation\n\tmolecule has no conformers\n\tViolation occurred on line 199 in file Code/GraphMol/Descriptors/PMI.cpp\n\tFailed Expression: mol.getNumConformers() >= 1\n\tRDKIT: 2016.09.4\n\tBOOST: 1_56\n"
     ]
    }
   ],
   "source": [
    "test = labeled_chemicals[0]['rdkit mol']\n",
    "for function in functions:\n",
    "    try:\n",
    "        print(function(test), end=', ')\n",
    "    except:\n",
    "        print('{} FAIL' )"
   ]
  },
  {
   "cell_type": "code",
   "execution_count": null,
   "metadata": {
    "collapsed": true
   },
   "outputs": [],
   "source": []
  }
 ],
 "metadata": {
  "kernelspec": {
   "display_name": "Python 3",
   "language": "python",
   "name": "python3"
  },
  "language_info": {
   "codemirror_mode": {
    "name": "ipython",
    "version": 3
   },
   "file_extension": ".py",
   "mimetype": "text/x-python",
   "name": "python",
   "nbconvert_exporter": "python",
   "pygments_lexer": "ipython3",
   "version": "3.5.3"
  }
 },
 "nbformat": 4,
 "nbformat_minor": 2
}
