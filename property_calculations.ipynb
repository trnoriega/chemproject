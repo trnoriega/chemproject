{
 "cells": [
  {
   "cell_type": "markdown",
   "metadata": {},
   "source": [
    "# Property calculations\n",
    "\n",
    "The RDKit allows for the calculation of several quantitative chemical properties. These in turn can be used as parameters for machine learning. \n",
    "The scripts below use the RDKit to calculate properties for all of the chemicals labeled in the [descriptor_clustering](descriptor_clustering.ipynb) notebook. "
   ]
  },
  {
   "cell_type": "code",
   "execution_count": 1,
   "metadata": {
    "collapsed": true
   },
   "outputs": [],
   "source": [
    "import os.path as path\n",
    "import pickle\n",
    "\n",
    "# Load merged FEMA-JECFA database\n",
    "BASE_DATA_PATH = path.join(path.expanduser('~'),\n",
    "                           'Dropbox',\n",
    "                           'bymt',\n",
    "                           'data_dumps',\n",
    "                           'chem_project')\n",
    "\n",
    "labeled_chemicals_path = path.join(BASE_DATA_PATH,\n",
    "                                  'descriptor_clustering',\n",
    "                                  'labeled_chemicals.pkl')\n",
    "with open(labeled_chemicals_path, 'rb') as f:\n",
    "    labeled_chemicals = pickle.load(f)\n",
    "    \n",
    "DATA_PATH = path.join(BASE_DATA_PATH, 'property_calculations')"
   ]
  },
  {
   "cell_type": "code",
   "execution_count": 2,
   "metadata": {},
   "outputs": [
    {
     "name": "stdout",
     "output_type": "stream",
     "text": [
      "206\n"
     ]
    }
   ],
   "source": [
    "from rdkit.Chem import Descriptors\n",
    "import types\n",
    "\n",
    "functions = [(a, Descriptors.__dict__.get(a)) for a in dir(Descriptors)\\\n",
    "             if isinstance(Descriptors.__dict__.get(a), types.FunctionType)]\n",
    "\n",
    "to_remove = ['_isCallable', '_setupDescriptors', '_test', '_ChargeDescriptors']\n",
    "\n",
    "functions = [tup for tup in functions if tup[0] not in to_remove]\n",
    "\n",
    "print(len(functions))"
   ]
  },
  {
   "cell_type": "code",
   "execution_count": 3,
   "metadata": {
    "collapsed": true
   },
   "outputs": [],
   "source": [
    "from copy import deepcopy\n",
    "\n",
    "def property_calculator(dicto_list, function_list):\n",
    "    \"\"\"\n",
    "    Applies functions in the function list to rdkit molecules in the chemical dictionaries\n",
    "    in dicto_list\n",
    "    \n",
    "    dicto_list should have dictos with an 'rdkit mol' value\n",
    "    function_list is a list of tuples with:\n",
    "    -tup[0] = function name\n",
    "    -tup[1] = callable function\n",
    "    \n",
    "    returns: copy of dicto_list with calculated properties added to each dicto\n",
    "    \"\"\"\n",
    "    new_list = deepcopy(dicto_list)\n",
    "    for dicto in new_list:\n",
    "        mol = dicto.get('rdkit mol')\n",
    "        for function in functions:\n",
    "            try:\n",
    "                dicto[function[0]] = function[1](mol)\n",
    "            except:\n",
    "                dicto[function[0]] = 'NaN'\n",
    "    return new_list         "
   ]
  },
  {
   "cell_type": "code",
   "execution_count": 4,
   "metadata": {
    "collapsed": true
   },
   "outputs": [],
   "source": [
    "propertied_chemicals = property_calculator(labeled_chemicals, functions)"
   ]
  },
  {
   "cell_type": "markdown",
   "metadata": {},
   "source": [
    "Convert `propertied_chemicals` dictionary into a numpy array usable by sklearn."
   ]
  },
  {
   "cell_type": "code",
   "execution_count": 5,
   "metadata": {},
   "outputs": [
    {
     "name": "stdout",
     "output_type": "stream",
     "text": [
      "['label', 'Asphericity', 'BalabanJ', 'BertzCT', 'Chi0']\n"
     ]
    }
   ],
   "source": [
    "import numpy as np\n",
    "\n",
    "function_keys = ['label']\n",
    "function_keys += [tup[0] for tup in functions]\n",
    "print (function_keys[:5])"
   ]
  },
  {
   "cell_type": "code",
   "execution_count": 6,
   "metadata": {
    "collapsed": true
   },
   "outputs": [],
   "source": [
    "def array_maker(dicto_list, key_list):\n",
    "    \"\"\"\n",
    "    Converts the chemicals in dicto_list into a numpy array based on the \n",
    "    keys listed in key_list\n",
    "    \"\"\"\n",
    "    array_list = []\n",
    "    for dicto in dicto_list:\n",
    "        temp_list = []\n",
    "        for key in key_list:\n",
    "            temp_list.append(dicto.get(key, 'NaN'))\n",
    "        \n",
    "        temp_list = np.array(temp_list).astype(np.float32)\n",
    "        temp_list = temp_list[None,:]\n",
    "        array_list.append(temp_list)\n",
    "    final = np.concatenate(array_list, axis=0)\n",
    "    return final"
   ]
  },
  {
   "cell_type": "code",
   "execution_count": 7,
   "metadata": {},
   "outputs": [],
   "source": [
    "property_array = array_maker(propertied_chemicals, function_keys)"
   ]
  },
  {
   "cell_type": "markdown",
   "metadata": {},
   "source": [
    "Save `property_array` to use for model training. Note that the first column has the labels for each chemical as determined in [descriptor_clustering](descriptor_clustering.ipynb)."
   ]
  },
  {
   "cell_type": "code",
   "execution_count": 9,
   "metadata": {
    "collapsed": true
   },
   "outputs": [],
   "source": [
    "property_array_path = path.join(DATA_PATH, 'property_array.pkl')\n",
    "\n",
    "with open(property_array_path, 'wb') as f:\n",
    "    pickle.dump(property_array, f, protocol=pickle.HIGHEST_PROTOCOL)\n",
    "\n",
    "function_keys_path = path.join(DATA_PATH, 'function_keys.pkl')\n",
    "with open(function_keys_path, 'wb') as g:\n",
    "    pickle.dump(function_keys, g, protocol=pickle.HIGHEST_PROTOCOL)"
   ]
  }
 ],
 "metadata": {
  "kernelspec": {
   "display_name": "Python 3",
   "language": "python",
   "name": "python3"
  },
  "language_info": {
   "codemirror_mode": {
    "name": "ipython",
    "version": 3
   },
   "file_extension": ".py",
   "mimetype": "text/x-python",
   "name": "python",
   "nbconvert_exporter": "python",
   "pygments_lexer": "ipython3",
   "version": "3.5.3"
  }
 },
 "nbformat": 4,
 "nbformat_minor": 2
}
