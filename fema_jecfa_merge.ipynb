{
 "cells": [
  {
   "cell_type": "markdown",
   "metadata": {},
   "source": [
    "# Merge FEMA and JECFA datasets\n",
    "\n",
    "Chemical information from the FEMA website was generated in [fema_extraction](fema_extraction.ipynb).\n",
    "Chemical information from the JECFA website was generated in [jecfa_extraction](jecfa_extraction.ipynb). \n",
    "\n",
    "Here the two datasets are merged into a single one, making sure that the merged chemicals are in fact the same."
   ]
  },
  {
   "cell_type": "code",
   "execution_count": 2,
   "metadata": {},
   "outputs": [],
   "source": [
    "import os.path as path\n",
    "import pickle\n",
    "\n",
    "# Load FEMA database\n",
    "BASE_DATA_PATH = path.join(path.expanduser('~'),\n",
    "                           'Dropbox',\n",
    "                           'bymt',\n",
    "                           'data_dumps',\n",
    "                           'chem_project')\n",
    "\n",
    "extracted_fema_path = path.join(BASE_DATA_PATH, 'fema_extraction', 'extracted_fema.pkl')\n",
    "\n",
    "with open(extracted_fema_path, 'rb') as f:\n",
    "    extracted_fema = pickle.load(f)\n",
    "\n",
    "# Load JECFA database\n",
    "extracted_jecfa_path = path.join(BASE_DATA_PATH, 'jecfa_extraction', 'extracted_jecfa.pkl')\n",
    "\n",
    "with open(extracted_jecfa_path, 'rb') as f:\n",
    "    extracted_jecfa = pickle.load(f)\n",
    "    \n",
    "# Data path for things made in this notebook\n",
    "\n",
    "DATA_PATH = path.join(BASE_DATA_PATH, 'fema_jecfa_merge')"
   ]
  },
  {
   "cell_type": "code",
   "execution_count": 109,
   "metadata": {},
   "outputs": [],
   "source": [
    "from copy import deepcopy\n",
    "def fema_jecfa_merge(fema_d_list, jecfa_d_list):\n",
    "    \"\"\"\n",
    "    Merges the individual chemical dictionaries from the FEMA and JECFA websites.\n",
    "    Merges FEMA info onto JECFA info.\n",
    "    Does not modify original dictionary lists\n",
    "    \"\"\"\n",
    "    # everything will be merged onto the jecfa_c_list\n",
    "    jecfa_c_list = deepcopy(jecfa_d_list)\n",
    "    \n",
    "    fema_c_list = deepcopy(fema_d_list)\n",
    "    overlap = 0\n",
    "    fema_only = 0\n",
    "    jecfa_only = 0\n",
    "    \n",
    "    print('Length before merge: {}' .format(len(jecfa_c_list)))\n",
    "    # Merge all overlapping chemicals\n",
    "    for jecfa_c in jecfa_c_list:\n",
    "        for fema_c in fema_c_list:\n",
    "            if fema_c['fema'] == jecfa_c['fema']:\n",
    "                # Capture the FEMA name under the synonym key if it's different from JECFA\n",
    "                if fema_c['name'] != jecfa_c['name']:\n",
    "                    if jecfa_c['synonym(s)'] == 'NaN':\n",
    "                           jecfa_c['synonym(s)'] = fema_c['name']\n",
    "                    else:\n",
    "                        jecfa_c['synonym(s)'] += ', ' + fema_c['name']\n",
    "                \n",
    "                jecfa_c['fema link'] = fema_c['link']\n",
    "                jecfa_c['jecfa link'] = jecfa_c['link']\n",
    "                del jecfa_c['link']\n",
    "                fema_c['both merge'] = True\n",
    "                \n",
    "                jecfa_c.update(fema_c)\n",
    "                \n",
    "                overlap += 1\n",
    "    \n",
    "    print('Length after overlap merge: {}' .format(len(jecfa_c_list)))\n",
    "    \n",
    "    # Copy non-overlapping FEMA into JECFA\n",
    "    for fema_c in fema_c_list:\n",
    "        if 'both merge' not in fema_c:\n",
    "            fema_c['fema merge'] = True\n",
    "            #make link key name consistent\n",
    "            fema_c['fema link'] = fema_c['link']\n",
    "            del fema_c['link']\n",
    "            # add fema only link to merged list\n",
    "            jecfa_c_list.append(fema_c)\n",
    "            fema_only += 1\n",
    "    \n",
    "    print('Length after overlap and FEMA only merge: {}' .format(len(jecfa_c_list)))\n",
    "    # Count jecfa only\n",
    "    \n",
    "    merges = ['both merge', 'fema merge']\n",
    "    for jecfa_c in jecfa_c_list:\n",
    "        if not any(merge in merges for merge in jecfa_c):\n",
    "            #make link key name consistent\n",
    "            jecfa_c['jecfa link'] = jecfa_c['link']\n",
    "            del jecfa_c['link']\n",
    "            jecfa_c['jecfa merge'] = True\n",
    "            jecfa_only += 1\n",
    "    \n",
    "    print('{} overlaping chemicals, {} FEMA only, {} JECFA only' \n",
    "         .format(overlap, fema_only, jecfa_only))\n",
    "    \n",
    "    expected_length = overlap+fema_only+jecfa_only\n",
    "    \n",
    "    print('Total length: {}, overlap counts indicate it should be: {}' \n",
    "          .format(len(jecfa_c_list), expected_length))\n",
    "    \n",
    "    return jecfa_c_list"
   ]
  },
  {
   "cell_type": "code",
   "execution_count": 110,
   "metadata": {},
   "outputs": [
    {
     "name": "stdout",
     "output_type": "stream",
     "text": [
      "Length before merge: 2183\n",
      "Length after overlap merge: 2183\n",
      "Length after overlap and FEMA only merge: 2833\n",
      "2153 overlaping chemicals, 650 FEMA only, 31 JECFA only\n",
      "Total length: 2833, overlap counts indicate it should be: 2834\n"
     ]
    }
   ],
   "source": [
    "merged_list = fema_jecfa_merge(extracted_fema, extracted_jecfa)"
   ]
  },
  {
   "cell_type": "markdown",
   "metadata": {},
   "source": [
    "Some record is not adding up. Figure it out"
   ]
  },
  {
   "cell_type": "code",
   "execution_count": 108,
   "metadata": {},
   "outputs": [
    {
     "name": "stdout",
     "output_type": "stream",
     "text": [
      "[2152, 650, 31]\n"
     ]
    }
   ],
   "source": [
    "counts = [0, 0, 0]\n",
    "for dicto in merged_list:\n",
    "    if 'both merge' in dicto:\n",
    "        counts[0] += 1\n",
    "    elif 'fema merge' in dicto:\n",
    "        counts [1] += 1\n",
    "    elif 'jecfa merge' in dicto:\n",
    "        counts[2] += 1\n",
    "print(counts)"
   ]
  },
  {
   "cell_type": "markdown",
   "metadata": {},
   "source": [
    "The independent `both merge` count is 2152 although when the merge script says it was 2153, which suggests that some FEMA record got merged twice onto the same JECFA record, which explains why the expected length is 1 more than the actual length. Confirm this:"
   ]
  },
  {
   "cell_type": "code",
   "execution_count": 114,
   "metadata": {},
   "outputs": [
    {
     "name": "stdout",
     "output_type": "stream",
     "text": [
      "3077 is found 2 times in extracted_fema\n",
      "{'fema': 3077, 'link': 'http://www.femaflavor.org/flavor/library/p-tolyl-phenylacetate-0', 'jecfa': '705', 'descriptors': 'Floral', 'name': 'p-tolyl phenylacetate', 'cas': '101-94-0', 'cfr': '21CFR172.515', 'stems': 'floral'}\n",
      "{'fema': 3077, 'link': 'http://www.femaflavor.org/flavor/library/p-tolyl-phenylacetate', 'jecfa': '705', 'descriptors': 'Floral', 'name': 'p-tolyl phenylacetate', 'cas': '101-94-0', 'cfr': '21CFR172.515', 'stems': 'floral'}\n"
     ]
    }
   ],
   "source": [
    "fema_nums = []\n",
    "for dicto in extracted_fema:\n",
    "    fema_nums.append(dicto['fema'])\n",
    "\n",
    "dups = []\n",
    "for num in fema_nums:\n",
    "    count = fema_nums.count(num)\n",
    "    if count > 1:\n",
    "        dups.append((num, count))\n",
    "\n",
    "dups = set(dups)\n",
    "\n",
    "for tup in dups:\n",
    "    print('{} is found {} times in extracted_fema'\n",
    "      .format(tup[0], tup[1]))\n",
    "    for dicto in extracted_fema:\n",
    "        if dicto['fema'] == tup[0]:\n",
    "            print(dicto)"
   ]
  },
  {
   "cell_type": "code",
   "execution_count": 116,
   "metadata": {},
   "outputs": [
    {
     "name": "stdout",
     "output_type": "stream",
     "text": [
      "{'name': 'p-tolyl phenylacetate', 'cas': '101-94-0', 'chemical formula': 'c15h14o2', 'both merge': True, 'jecfa link': 'http://www.femaflavor.org/flavor/library/p-tolyl-phenylacetate-0', 'link': 'http://www.femaflavor.org/flavor/library/p-tolyl-phenylacetate', 'chemical name': 'p-tolyl phenylacetate', 'cfr': '21CFR172.515', 'fema link': 'http://www.femaflavor.org/flavor/library/p-tolyl-phenylacetate', 'specific gravity': 'NaN', 'coe': 236, 'synonym(s)': 'p-cresyl phenylacetate;p-cresyl alpha-toluate;narcissin;p-tolyl alpha-toluate', 'fema': 3077, 'molecular weight': 226.27, 'stems': 'floral', 'acid value max': 1, 'solubility in ethanol': 'moderately soluble', 'solubility': 'insoluble in water', 'other requirements': 'mp: 71° (minimum)', 'jecfa': '705', 'descriptors': 'Floral', 'physical form/odour': 'white to off white crystals, faint lily, hyacinth, narcissus odour', 'flavis': 'NaN', 'boiling point (°c)': '310°', 'refractive index': 'NaN'}\n"
     ]
    }
   ],
   "source": [
    "for dicto in merged_list:\n",
    "    if dicto['fema'] == 3077:\n",
    "        print(dicto)"
   ]
  },
  {
   "cell_type": "markdown",
   "metadata": {},
   "source": [
    "FEMA chemical 3077 was merged twice, but that does not seem to affect the quality of the record, so will leave as is.\n",
    "\n",
    "Save the merged records:"
   ]
  },
  {
   "cell_type": "code",
   "execution_count": 117,
   "metadata": {
    "collapsed": true
   },
   "outputs": [],
   "source": [
    "merged_chemicals_path = path.join(DATA_PATH, 'merged_chemicals.pkl')\n",
    "with open(merged_chemicals_path, 'wb') as f:\n",
    "    pickle.dump(merged_list, f, protocol=pickle.HIGHEST_PROTOCOL)"
   ]
  }
 ],
 "metadata": {
  "kernelspec": {
   "display_name": "Python 3",
   "language": "python",
   "name": "python3"
  },
  "language_info": {
   "codemirror_mode": {
    "name": "ipython",
    "version": 3
   },
   "file_extension": ".py",
   "mimetype": "text/x-python",
   "name": "python",
   "nbconvert_exporter": "python",
   "pygments_lexer": "ipython3",
   "version": "3.5.3"
  }
 },
 "nbformat": 4,
 "nbformat_minor": 2
}
