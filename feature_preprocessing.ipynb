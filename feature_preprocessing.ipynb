{
 "cells": [
  {
   "cell_type": "markdown",
   "metadata": {},
   "source": [
    "# Preprocessing features\n",
    "\n",
    "Preprocessing features based on the training data calculated in [property_calculations](property calculations.ipynb). Missing values will be imputed and scaled. Polynomial features will also be added as a straightforward way to add possible interactions between separate properties to the model training set."
   ]
  },
  {
   "cell_type": "code",
   "execution_count": 1,
   "metadata": {
    "collapsed": true
   },
   "outputs": [],
   "source": [
    "import numpy as np\n",
    "import matplotlib.pyplot as plt\n",
    "import os.path as path\n",
    "import pickle\n",
    "\n",
    "# Load property_array from property_calculations FEMA-JECFA database\n",
    "BASE_DATA_PATH = path.join(path.expanduser('~'),\n",
    "                           'Dropbox',\n",
    "                           'bymt',\n",
    "                           'data_dumps',\n",
    "                           'chem_project')\n",
    "\n",
    "dataset_path = path.join(BASE_DATA_PATH,\n",
    "                         'property_calculations',\n",
    "                         'dataset.pkl')\n",
    "\n",
    "with open(dataset_path, 'rb') as f:\n",
    "    dataset = pickle.load(f)\n",
    "    \n",
    "function_keys_path = path.join(BASE_DATA_PATH,\n",
    "                               'property_calculations',\n",
    "                               'function_keys.pkl')\n",
    "\n",
    "with open(function_keys_path, 'rb') as g:\n",
    "    function_keys = pickle.load(g)"
   ]
  },
  {
   "cell_type": "code",
   "execution_count": 2,
   "metadata": {
    "collapsed": true
   },
   "outputs": [],
   "source": [
    "train_features = dataset['train features']\n",
    "train_labels = dataset['train labels']"
   ]
  },
  {
   "cell_type": "markdown",
   "metadata": {},
   "source": [
    "### Impute missing values, scale, and add 2nd order polynomial features"
   ]
  },
  {
   "cell_type": "code",
   "execution_count": 3,
   "metadata": {},
   "outputs": [],
   "source": [
    "from sklearn.preprocessing import Imputer, StandardScaler, PolynomialFeatures\n",
    "from sklearn.pipeline import make_pipeline\n",
    "\n",
    "pipe = make_pipeline(Imputer(strategy='mean'), \n",
    "                     StandardScaler(), \n",
    "                     PolynomialFeatures(2, include_bias=False))"
   ]
  },
  {
   "cell_type": "code",
   "execution_count": 4,
   "metadata": {},
   "outputs": [
    {
     "name": "stdout",
     "output_type": "stream",
     "text": [
      "(1519, 12879)\n"
     ]
    }
   ],
   "source": [
    "new_features = pipe.fit_transform(train_features)\n",
    "print(new_features.shape)"
   ]
  },
  {
   "cell_type": "code",
   "execution_count": 5,
   "metadata": {},
   "outputs": [],
   "source": [
    "poly = pipe.steps[2][1]\n",
    "poly_names = np.array(poly.get_feature_names(function_keys[1:]))"
   ]
  },
  {
   "cell_type": "markdown",
   "metadata": {},
   "source": [
    "### Find a reasonable threshold for univariate feature selection"
   ]
  },
  {
   "cell_type": "code",
   "execution_count": 6,
   "metadata": {},
   "outputs": [
    {
     "name": "stderr",
     "output_type": "stream",
     "text": [
      "/Users/TRN/anaconda/envs/chemproject/lib/python3.5/site-packages/sklearn/feature_selection/univariate_selection.py:113: UserWarning: Features [  150   309   467   624   780   935  1089  1242  1394  1545  1695  1844\n",
      "  1992  2139  2285  2430  2574  2717  2859  3000  3140  3279  3417  3554\n",
      "  3690  3825  3959  4092  4224  4355  4485  4614  4742  4869  4995  5120\n",
      "  5244  5367  5489  5610  5730  5849  5967  6084  6200  6315  6429  6542\n",
      "  6654  6765  6875  6984  7092  7199  7305  7410  7514  7617  7719  7820\n",
      "  7920  8019  8117  8214  8310  8405  8499  8592  8684  8775  8865  8954\n",
      "  9042  9129  9215  9300  9384  9467  9549  9630  9710  9789  9867  9944\n",
      " 10020 10095 10169 10242 10314 10385 10455 10524 10592 10659 10725 10790\n",
      " 10854 10917 10979 11040 11100 11159 11217 11274 11330 11385 11439 11492\n",
      " 11544 11595 11645 11694 11742 11789 11835 11880 11924 11967 12009 12050\n",
      " 12090 12129 12167 12204 12240 12275 12309 12342 12374 12405 12435 12464\n",
      " 12492 12519 12545 12570 12594 12617 12639 12660 12680 12699 12717 12734\n",
      " 12750 12765 12779 12792 12804 12815 12825 12834 12835 12836 12837 12838\n",
      " 12839 12840 12841 12842] are constant.\n",
      "  UserWarning)\n",
      "/Users/TRN/anaconda/envs/chemproject/lib/python3.5/site-packages/sklearn/feature_selection/univariate_selection.py:114: RuntimeWarning: invalid value encountered in true_divide\n",
      "  f = msb / msw\n"
     ]
    },
    {
     "data": {
      "image/png": "[encoded data removed]",
      "text/plain": [
       "<matplotlib.figure.Figure at 0x11a45c4a8>"
      ]
     },
     "metadata": {},
     "output_type": "display_data"
    }
   ],
   "source": [
    "from sklearn.feature_selection import SelectPercentile, f_classif\n",
    "\n",
    "# Actual selection happens here \n",
    "percentile = 10\n",
    "selector = SelectPercentile(f_classif, percentile=percentile)\n",
    "selector.fit(new_features, train_labels)\n",
    "scores = selector.scores_\n",
    "sorted_idxs = np.argsort(scores)[::-1]\n",
    "sorted_scores = scores[sorted_idxs]\n",
    "\n",
    "# Left plot with all scores\n",
    "x = range(len(scores))\n",
    "fig = plt.figure(figsize=(14,7))\n",
    "ax1 = fig.add_subplot(121, title='p-scores for all features')\n",
    "ax1.scatter(x, sorted_scores)\n",
    "ax1.axvline(x=len(sorted_scores)*percentile/100, color='r', linestyle='--')\n",
    "ax1.set_xlabel('Sorted features')\n",
    "ax1.set_ylabel('p-score')\n",
    "\n",
    "# Right plot with selected scores\n",
    "sel_mask = selector.get_support()\n",
    "sel_masked_scores = scores[sel_mask]\n",
    "sel_masked_scores = sorted(sel_masked_scores, reverse=True)\n",
    "x = range(len(sel_masked_scores))\n",
    "ax2 = fig.add_subplot(122, title='p-scores for selected features')\n",
    "ax2.scatter(x, sel_masked_scores)\n",
    "ax2.set_xlabel('Sorted features')\n",
    "ax2.set_ylabel('p-score')\n",
    "plt.show()"
   ]
  },
  {
   "cell_type": "markdown",
   "metadata": {},
   "source": [
    "Selection threshold of 10% seems reasonable.\n",
    "Also, looking the top 20 features selected indicates that they are polynomial and highly dependent on the number of [piperazine](https://en.wikipedia.org/wiki/Piperazine) rings in combination with others. This argues that polynomial features will be useful in training the model. "
   ]
  },
  {
   "cell_type": "code",
   "execution_count": 7,
   "metadata": {},
   "outputs": [
    {
     "name": "stdout",
     "output_type": "stream",
     "text": [
      "fr_Ar_N fr_piperzine\n",
      "fr_benzene fr_piperzine\n",
      "fr_aryl_methyl fr_piperzine\n",
      "SMR_VSA10 fr_piperzine\n",
      "fr_Imine fr_piperzine\n",
      "Chi4n fr_piperzine\n",
      "NumAliphaticHeterocycles fr_piperzine\n",
      "SMR_VSA2 fr_piperzine\n",
      "fr_nitrile fr_piperzine\n",
      "NumAliphaticCarbocycles fr_piperzine\n",
      "SMR_VSA3 fr_piperzine\n",
      "SMR_VSA4 fr_piperzine\n",
      "fr_imide fr_piperzine\n",
      "fr_C_S fr_piperzine\n",
      "Chi3v fr_piperzine\n",
      "SMR_VSA5 fr_piperzine\n",
      "fr_methoxy fr_piperzine\n",
      "HallKierAlpha fr_piperzine\n",
      "fr_bicyclic fr_piperzine\n",
      "NOCount fr_piperzine\n"
     ]
    }
   ],
   "source": [
    "sorted_keys = poly_names[sorted_idxs]\n",
    "for key in sorted_keys[:20]:\n",
    "    print(key)"
   ]
  }
 ],
 "metadata": {
  "kernelspec": {
   "display_name": "Python 3",
   "language": "python",
   "name": "python3"
  },
  "language_info": {
   "codemirror_mode": {
    "name": "ipython",
    "version": 3
   },
   "file_extension": ".py",
   "mimetype": "text/x-python",
   "name": "python",
   "nbconvert_exporter": "python",
   "pygments_lexer": "ipython3",
   "version": "3.5.3"
  }
 },
 "nbformat": 4,
 "nbformat_minor": 2
}
